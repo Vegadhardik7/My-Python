{
 "cells": [
  {
   "cell_type": "markdown",
   "metadata": {},
   "source": [
    "# Lists & Tuples"
   ]
  },
  {
   "cell_type": "markdown",
   "metadata": {},
   "source": [
    "## Lists"
   ]
  },
  {
   "cell_type": "markdown",
   "metadata": {},
   "source": [
    "Python lists are containers to store a set of values of any data type.\n",
    "\n",
    "Lists are ordered, which means the order of a list will be same as it is entered.\n",
    "\n",
    "Indexing starts with 0.\n",
    "\n",
    "Lists values can be changed.\n",
    "\n",
    "Lists are mutiable.\n",
    "\n",
    "Lists slicing and indexing both are possible."
   ]
  },
  {
   "cell_type": "code",
   "execution_count": 1,
   "metadata": {},
   "outputs": [],
   "source": [
    "values = [\"Apple a day keeps doctor away\", 'Raj', 7, True]\n",
    "\n",
    "x = [1, 2, 3, 4, 56, 6]"
   ]
  },
  {
   "cell_type": "code",
   "execution_count": 2,
   "metadata": {},
   "outputs": [
    {
     "name": "stdout",
     "output_type": "stream",
     "text": [
      "1\n"
     ]
    }
   ],
   "source": [
    "print(x[0])"
   ]
  },
  {
   "cell_type": "code",
   "execution_count": 3,
   "metadata": {},
   "outputs": [
    {
     "name": "stdout",
     "output_type": "stream",
     "text": [
      "Apple a day keeps doctor away\n"
     ]
    }
   ],
   "source": [
    "print(values[0])"
   ]
  },
  {
   "cell_type": "code",
   "execution_count": 4,
   "metadata": {},
   "outputs": [
    {
     "name": "stdout",
     "output_type": "stream",
     "text": [
      "[99, 2, 3, 4, 56, 6]\n"
     ]
    }
   ],
   "source": [
    "x[0] = 99\n",
    "print(x)"
   ]
  },
  {
   "cell_type": "code",
   "execution_count": 5,
   "metadata": {},
   "outputs": [
    {
     "name": "stdout",
     "output_type": "stream",
     "text": [
      "['Raj', 7]\n"
     ]
    }
   ],
   "source": [
    "print(values[1:3])    # does not include last index num"
   ]
  },
  {
   "cell_type": "code",
   "execution_count": 6,
   "metadata": {},
   "outputs": [
    {
     "name": "stdout",
     "output_type": "stream",
     "text": [
      "['Apple a day keeps doctor away', 'Raj', 7, True]\n"
     ]
    }
   ],
   "source": [
    "print(values[-4:])"
   ]
  },
  {
   "cell_type": "markdown",
   "metadata": {},
   "source": [
    "## List Methods"
   ]
  },
  {
   "cell_type": "code",
   "execution_count": 7,
   "metadata": {},
   "outputs": [
    {
     "name": "stdout",
     "output_type": "stream",
     "text": [
      "None\n"
     ]
    }
   ],
   "source": [
    "lst = [1,8,7,2,21,15]\n",
    "\n",
    "l1 = lst.sort()\n",
    "\n",
    "print(l1)"
   ]
  },
  {
   "cell_type": "markdown",
   "metadata": {},
   "source": [
    "<b>None</b> because a function will return something or it can store. In lst.sort() <b>lst</b> itself got changed."
   ]
  },
  {
   "cell_type": "code",
   "execution_count": 8,
   "metadata": {},
   "outputs": [
    {
     "name": "stdout",
     "output_type": "stream",
     "text": [
      "Sorted: [1, 3, 4, 5, 6, 7]\n"
     ]
    }
   ],
   "source": [
    "val = [1,5,7,3,4,6]\n",
    "\n",
    "val.sort()\n",
    "print(\"Sorted:\",val)"
   ]
  },
  {
   "cell_type": "code",
   "execution_count": 9,
   "metadata": {},
   "outputs": [
    {
     "name": "stdout",
     "output_type": "stream",
     "text": [
      "Reverse: [6, 4, 3, 7, 5, 1]\n"
     ]
    }
   ],
   "source": [
    "val = [1,5,7,3,4,6]\n",
    "\n",
    "val.reverse()\n",
    "print(\"Reverse:\",val)"
   ]
  },
  {
   "cell_type": "code",
   "execution_count": 10,
   "metadata": {},
   "outputs": [
    {
     "name": "stdout",
     "output_type": "stream",
     "text": [
      "Append 100: [1, 5, 7, 3, 4, 6, 100]\n"
     ]
    }
   ],
   "source": [
    "val = [1,5,7,3,4,6]\n",
    "\n",
    "val.append(100)\n",
    "print(\"Append 100:\",val)"
   ]
  },
  {
   "cell_type": "code",
   "execution_count": 11,
   "metadata": {},
   "outputs": [
    {
     "name": "stdout",
     "output_type": "stream",
     "text": [
      "Replace 100 at index number 3: [1, 5, 7, 100, 3, 4, 6]\n"
     ]
    }
   ],
   "source": [
    "val = [1,5,7,3,4,6]\n",
    "\n",
    "val.insert(3,100)\n",
    "print(\"Replace 100 at index number 3:\",val)"
   ]
  },
  {
   "cell_type": "code",
   "execution_count": 12,
   "metadata": {},
   "outputs": [
    {
     "name": "stdout",
     "output_type": "stream",
     "text": [
      "Delete the element from index 2: [1, 5, 3, 4, 6]\n"
     ]
    }
   ],
   "source": [
    "val = [1,5,7,3,4,6]\n",
    "\n",
    "val.pop(2)\n",
    "print(\"Delete the element from index 2:\",val)"
   ]
  },
  {
   "cell_type": "code",
   "execution_count": 13,
   "metadata": {},
   "outputs": [
    {
     "name": "stdout",
     "output_type": "stream",
     "text": [
      "Remove element 7: [1, 5, 3, 4, 6, 7]\n"
     ]
    }
   ],
   "source": [
    "val = [1,5,7,3,4,6,7]\n",
    "\n",
    "val.remove(7)\n",
    "print(\"Remove element 7:\",val)"
   ]
  },
  {
   "cell_type": "code",
   "execution_count": 14,
   "metadata": {},
   "outputs": [
    {
     "name": "stdout",
     "output_type": "stream",
     "text": [
      "Counting elements in val: 2\n"
     ]
    }
   ],
   "source": [
    "val = [1,5,7,3,4,6,7]\n",
    "\n",
    "print(\"Counting elements in val:\",val.count(7))"
   ]
  },
  {
   "cell_type": "markdown",
   "metadata": {},
   "source": [
    "# Tuples"
   ]
  },
  {
   "cell_type": "markdown",
   "metadata": {},
   "source": [
    "A tuple is an <b>immutable</b> data type in python\n",
    "\n",
    "Once defined a tuple's element cant be altered or manipulated."
   ]
  },
  {
   "cell_type": "code",
   "execution_count": 15,
   "metadata": {},
   "outputs": [
    {
     "name": "stdout",
     "output_type": "stream",
     "text": [
      "1\n"
     ]
    }
   ],
   "source": [
    "t = (1,2,3,4)\n",
    "\n",
    "print(t[0])"
   ]
  },
  {
   "cell_type": "code",
   "execution_count": 16,
   "metadata": {},
   "outputs": [
    {
     "name": "stdout",
     "output_type": "stream",
     "text": [
      "This is not tuple, it will consider it as element 1: 1\n",
      "\n",
      "--------------------------------------------------------\n",
      "\n",
      "This is a tuple, to write tuple we need to put a ',' in it like this (1,): (1,)\n"
     ]
    }
   ],
   "source": [
    "# Tuple with 1 element is not possible\n",
    "\n",
    "t1 = (1)\n",
    "print(\"This is not tuple, it will consider it as element 1:\",t1)\n",
    "\n",
    "print(\"\\n--------------------------------------------------------\\n\")\n",
    "\n",
    "t2 = (1,)\n",
    "print(\"This is a tuple, to write tuple we need to put a ',' in it like this (1,):\",t2)"
   ]
  },
  {
   "cell_type": "markdown",
   "metadata": {},
   "source": [
    "## Tuple Methods"
   ]
  },
  {
   "cell_type": "code",
   "execution_count": 17,
   "metadata": {},
   "outputs": [
    {
     "name": "stdout",
     "output_type": "stream",
     "text": [
      "Counting elements in val: 2\n"
     ]
    }
   ],
   "source": [
    "val = (1,5,7,3,4,6,7)\n",
    "\n",
    "print(\"Counting elements in val:\",val.count(7))"
   ]
  },
  {
   "cell_type": "code",
   "execution_count": 18,
   "metadata": {},
   "outputs": [
    {
     "name": "stdout",
     "output_type": "stream",
     "text": [
      "Counting elements in val: 1\n"
     ]
    }
   ],
   "source": [
    "val = [1,5,7,3,4,6,7]\n",
    "\n",
    "print(\"Counting elements in val:\",val.index(5))"
   ]
  },
  {
   "cell_type": "markdown",
   "metadata": {},
   "source": [
    "-------------------------------------------------------------------"
   ]
  },
  {
   "cell_type": "markdown",
   "metadata": {},
   "source": [
    "##### Q1) write a program to store 4 fruits name entered by the user"
   ]
  },
  {
   "cell_type": "code",
   "execution_count": 19,
   "metadata": {},
   "outputs": [
    {
     "name": "stdout",
     "output_type": "stream",
     "text": [
      "Enter Fruit Number 1:Apple\n",
      "Enter Fruit Number 2:Mango\n",
      "Enter Fruit Number 3:Banana\n",
      "Enter Fruit Number 4:Cherry\n"
     ]
    }
   ],
   "source": [
    "f1 = input(\"Enter Fruit Number 1:\")\n",
    "f2 = input(\"Enter Fruit Number 2:\")\n",
    "f3 = input(\"Enter Fruit Number 3:\")\n",
    "f4 = input(\"Enter Fruit Number 4:\")\n",
    "\n",
    "myfrt = [f1,f2,f3,f4]"
   ]
  },
  {
   "cell_type": "code",
   "execution_count": 20,
   "metadata": {},
   "outputs": [
    {
     "name": "stdout",
     "output_type": "stream",
     "text": [
      "['Apple', 'Mango', 'Banana', 'Cherry']\n"
     ]
    }
   ],
   "source": [
    "print(myfrt)"
   ]
  },
  {
   "cell_type": "markdown",
   "metadata": {},
   "source": [
    "##### Q2) write a program to accept marks of 6 students and print them sorted "
   ]
  },
  {
   "cell_type": "code",
   "execution_count": 21,
   "metadata": {},
   "outputs": [
    {
     "name": "stdout",
     "output_type": "stream",
     "text": [
      "Enter marks Number 1:5\n",
      "Enter marks Number 2:1\n",
      "Enter marks Number 3:2\n",
      "Enter marks Number 4:3\n",
      "[1, 2, 3, 5]\n"
     ]
    }
   ],
   "source": [
    "f1 = int(input(\"Enter marks Number 1:\"))\n",
    "f2 = int(input(\"Enter marks Number 2:\"))\n",
    "f3 = int(input(\"Enter marks Number 3:\"))\n",
    "f4 = int(input(\"Enter marks Number 4:\"))\n",
    "\n",
    "myfrt = [f1,f2,f3,f4]\n",
    "myfrt.sort()\n",
    "print(myfrt)"
   ]
  },
  {
   "cell_type": "markdown",
   "metadata": {},
   "source": [
    "##### Q3) write a program to print sum on list numbers"
   ]
  },
  {
   "cell_type": "code",
   "execution_count": 23,
   "metadata": {},
   "outputs": [
    {
     "name": "stdout",
     "output_type": "stream",
     "text": [
      "10\n",
      "\n",
      "-------------------------------------------------------\n",
      "\n",
      "10\n"
     ]
    }
   ],
   "source": [
    "lst = [1,2,3,4]\n",
    "print(sum(lst))\n",
    "print('\\n-------------------------------------------------------\\n')\n",
    "print(lst[0]+lst[1]+lst[2]+lst[3])"
   ]
  },
  {
   "cell_type": "code",
   "execution_count": 26,
   "metadata": {},
   "outputs": [
    {
     "name": "stdout",
     "output_type": "stream",
     "text": [
      "Counting elements in val: 3\n"
     ]
    }
   ],
   "source": [
    "val = (1,5,7,0,0,6,0)\n",
    "\n",
    "print(\"Counting elements in val:\",val.count(0))"
   ]
  },
  {
   "cell_type": "code",
   "execution_count": null,
   "metadata": {},
   "outputs": [],
   "source": []
  }
 ],
 "metadata": {
  "kernelspec": {
   "display_name": "Python 3",
   "language": "python",
   "name": "python3"
  },
  "language_info": {
   "codemirror_mode": {
    "name": "ipython",
    "version": 3
   },
   "file_extension": ".py",
   "mimetype": "text/x-python",
   "name": "python",
   "nbconvert_exporter": "python",
   "pygments_lexer": "ipython3",
   "version": "3.7.7"
  }
 },
 "nbformat": 4,
 "nbformat_minor": 4
}
