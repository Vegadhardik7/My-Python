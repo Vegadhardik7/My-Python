{
 "cells": [
  {
   "cell_type": "markdown",
   "metadata": {},
   "source": [
    "# Object Oriented Programming"
   ]
  },
  {
   "cell_type": "markdown",
   "metadata": {},
   "source": [
    "Solving a problem by creating objects is one of the most popular approches in prog. This is called <b>Object Oriented Programming</b>"
   ]
  },
  {
   "cell_type": "markdown",
   "metadata": {},
   "source": [
    "This concept focuses on using reuseablility of the code"
   ]
  },
  {
   "cell_type": "markdown",
   "metadata": {},
   "source": [
    "### Procedure Oriented Programming"
   ]
  },
  {
   "cell_type": "code",
   "execution_count": 1,
   "metadata": {},
   "outputs": [
    {
     "name": "stdout",
     "output_type": "stream",
     "text": [
      "The sum of  10  and  20  is  30\n"
     ]
    }
   ],
   "source": [
    "a = 10\n",
    "b = 20\n",
    "print(\"The sum of \",a,\" and \",b,\" is \",a+b)"
   ]
  },
  {
   "cell_type": "markdown",
   "metadata": {},
   "source": [
    "### Object Oriented Programming"
   ]
  },
  {
   "cell_type": "code",
   "execution_count": 3,
   "metadata": {},
   "outputs": [
    {
     "name": "stdout",
     "output_type": "stream",
     "text": [
      "30\n"
     ]
    }
   ],
   "source": [
    "class Num:\n",
    "    def sum_val(self):\n",
    "        return self.a + self.b\n",
    "    \n",
    "n = Num()\n",
    "\n",
    "n.a = 10\n",
    "n.b = 20\n",
    "\n",
    "s = n.sum_val()\n",
    "print(s)"
   ]
  },
  {
   "cell_type": "markdown",
   "metadata": {},
   "source": [
    "### OOP's Concepts:"
   ]
  },
  {
   "cell_type": "markdown",
   "metadata": {},
   "source": [
    "#### 1.) Class"
   ]
  },
  {
   "cell_type": "markdown",
   "metadata": {},
   "source": [
    "A class is a <b>Blue-Print / Template</b> for creating objects.\n",
    "\n",
    "Class Names are always written in PascalCase that means 1st letter of class name should be capital\n",
    "\n",
    "- Pascale Case example: EmployeeNames\n",
    "\n",
    "- Camel Case example: isNull"
   ]
  },
  {
   "cell_type": "markdown",
   "metadata": {},
   "source": [
    "class Employee:\n",
    "    \n",
    "    methods & variables"
   ]
  },
  {
   "cell_type": "markdown",
   "metadata": {},
   "source": [
    "#### 2.) Object"
   ]
  },
  {
   "cell_type": "markdown",
   "metadata": {},
   "source": [
    "An object is an instantiation of a class. when class is defined, a template (info) is defined. Memory is allocated only after object instantiation."
   ]
  },
  {
   "cell_type": "markdown",
   "metadata": {},
   "source": [
    "class Num:\n",
    "    \n",
    "    def sum_val(self):\n",
    "    \n",
    "        return self.a + self.b\n",
    "    \n",
    "n = Num()           <===== <b>Obejct Instantiation</b>\n",
    "\n",
    "\n",
    "Code Example:"
   ]
  },
  {
   "cell_type": "code",
   "execution_count": 5,
   "metadata": {},
   "outputs": [
    {
     "name": "stdout",
     "output_type": "stream",
     "text": [
      "Name is Hardik Vegad\n",
      "Train is Rajdhani Express\n"
     ]
    }
   ],
   "source": [
    "class RailwayForm:\n",
    "    formType = \"RailwayForm\"\n",
    "    def printData(self):\n",
    "        print(f\"Name is {self.name}\")\n",
    "        print(f\"Train is {self.train}\")\n",
    "            \n",
    "my_application = RailwayForm()\n",
    "my_application.name = \"Hardik Vegad\"\n",
    "my_application.train = \"Rajdhani Express\"\n",
    "\n",
    "my_application.printData()"
   ]
  },
  {
   "cell_type": "raw",
   "metadata": {},
   "source": [
    "class Remote():\n",
    "    pass\n",
    "\n",
    "class Player():\n",
    "    def moveRight(self):\n",
    "        pass\n",
    "    \n",
    "    def moveLeft(self):\n",
    "        pass\n",
    "    \n",
    "    def moveUp(self):\n",
    "        pass\n",
    "    \n",
    "    def moveDown(self):\n",
    "        pass\n",
    "    \n",
    "remote1 = Remote()\n",
    "player1 = Player()\n",
    "\n",
    "if(remote1.isLeftpressed()):\n",
    "    player1.moveLeft()\n",
    "    \n",
    "elif(remote1.isRightpressed()):\n",
    "    player1.moveRight()\n",
    "    \n",
    "elif(remote1.isUppressed()):\n",
    "    player1.moveUp()\n",
    "    \n",
    "elif(remote1.isDownpressed()):\n",
    "    player1.moveDown()"
   ]
  },
  {
   "cell_type": "markdown",
   "metadata": {},
   "source": [
    "Objects of a given class invoke the methods available to it without reveling the implementation details to the user. <b>(Abstraction and Encapsualtion)</b>\n",
    "\n",
    "\n",
    "We dont need to know how <b>.isLeftPressed</b> worked. We just used it.\n",
    "\n",
    "\n",
    "Example: we dont want to know how Pycharm is working, we just use it to write the code.\n",
    "\n",
    "\n",
    "<b>Encapsulation:</b> Encapsulation is the packing of data and functions operating on that data into a single component and restricting the access to some of the object's components."
   ]
  },
  {
   "cell_type": "markdown",
   "metadata": {},
   "source": [
    "### Modeling a problem in OOP's"
   ]
  },
  {
   "cell_type": "markdown",
   "metadata": {},
   "source": [
    "We identify the following in our problem"
   ]
  },
  {
   "cell_type": "markdown",
   "metadata": {},
   "source": [
    "Noun <b>:</b> class <b>:</b> Employee \n",
    "        \n",
    "Adjective <b>:</b> Attributes <b>:</b> name, age, salary\n",
    "\n",
    "Verbs <b>:</b> Methods <b>:</b> getSalary(), increment()"
   ]
  },
  {
   "cell_type": "markdown",
   "metadata": {},
   "source": [
    "### Attributes"
   ]
  },
  {
   "cell_type": "markdown",
   "metadata": {},
   "source": [
    "#### (i)  Class Attributes\n",
    "#### (ii) Instance Attributes "
   ]
  },
  {
   "cell_type": "markdown",
   "metadata": {},
   "source": [
    "-------------------------\n",
    "\n",
    "#### (i) Class Attributes"
   ]
  },
  {
   "cell_type": "markdown",
   "metadata": {},
   "source": [
    "An attributes that belongs to the class ranther than a particular object."
   ]
  },
  {
   "cell_type": "markdown",
   "metadata": {},
   "source": [
    "Example:\n",
    "    \n",
    "    \n",
    "    class Employee:\n",
    "        company = \"Google\"                      <==== [Specific to each class]\n",
    "        \n",
    "    hardik = Employee()                         <==== [Object Instantiation]\n",
    "    hardik.company\n",
    "    Employee.company = \"YouTube\"                <==== [Chaning Class Attribute]"
   ]
  },
  {
   "cell_type": "code",
   "execution_count": 7,
   "metadata": {},
   "outputs": [
    {
     "name": "stdout",
     "output_type": "stream",
     "text": [
      "Google\n",
      "Google\n"
     ]
    }
   ],
   "source": [
    "class Employee:\n",
    "    company = \"Google\"\n",
    "    \n",
    "hardik = Employee()\n",
    "raj = Employee()\n",
    "\n",
    "print(hardik.company)\n",
    "print(raj.company)"
   ]
  },
  {
   "cell_type": "markdown",
   "metadata": {},
   "source": [
    "<b>Directly linked to class</b>"
   ]
  },
  {
   "cell_type": "code",
   "execution_count": 8,
   "metadata": {},
   "outputs": [
    {
     "name": "stdout",
     "output_type": "stream",
     "text": [
      "Google\n",
      "Google\n",
      "Facebook\n",
      "Facebook\n"
     ]
    }
   ],
   "source": [
    "class Employee:\n",
    "    company = \"Google\"\n",
    "    \n",
    "hardik = Employee()\n",
    "raj = Employee()\n",
    "\n",
    "print(hardik.company)\n",
    "print(raj.company)\n",
    "\n",
    "Employee.company = \"Facebook\"\n",
    "\n",
    "print(hardik.company)\n",
    "print(raj.company)"
   ]
  },
  {
   "cell_type": "markdown",
   "metadata": {},
   "source": [
    "#### (ii) Instance Attributes"
   ]
  },
  {
   "cell_type": "markdown",
   "metadata": {},
   "source": [
    "An attribute that belongs to the Instance (object) Assuming the class from the previous example:\n",
    "    \n",
    "    \n",
    "hardik.name = \"HARDIK\"\n",
    "harry.salary = \"100K\"                <=======  Adding instance attributes\n",
    "\n",
    "--------------------------------------\n",
    "\n",
    "## Note: \n",
    "\n",
    "### <b><u>Instance attributes takes preference over class attributes during assignment and retrieval.</u></b>  \n",
    "\n",
    "\n",
    "hardik.attribute1       ========> (1) Is attribute1 present in object?\n",
    "\n",
    "                       (2) Is attribute1 present in class?"
   ]
  },
  {
   "cell_type": "code",
   "execution_count": 9,
   "metadata": {},
   "outputs": [
    {
     "name": "stdout",
     "output_type": "stream",
     "text": [
      "Google\n",
      "Google\n",
      "Facebook\n",
      "Facebook\n",
      "300\n",
      "200\n"
     ]
    }
   ],
   "source": [
    "class Employee:\n",
    "    company = \"Google\"      # Class Variable\n",
    "    \n",
    "hardik = Employee()\n",
    "raj = Employee()\n",
    "\n",
    "\n",
    "hardik.salary = 300         # Instance Variable\n",
    "raj.salary = 200            # Instance Variable\n",
    "\n",
    "\n",
    "print(hardik.company)\n",
    "print(raj.company)\n",
    "\n",
    "Employee.company = \"Facebook\"\n",
    "\n",
    "print(hardik.company)\n",
    "print(raj.company)\n",
    "\n",
    "\n",
    "print(hardik.salary)\n",
    "print(raj.salary)"
   ]
  },
  {
   "cell_type": "markdown",
   "metadata": {},
   "source": [
    "<b>Now we have instance and class variable of same name</b>\n",
    "\n",
    "\n",
    "First preference goes to <b>Instance variable</b> than it will check that <b>class variable</b> is present or not and if both of them is not present than it will throw an error. "
   ]
  },
  {
   "cell_type": "code",
   "execution_count": 10,
   "metadata": {},
   "outputs": [
    {
     "name": "stdout",
     "output_type": "stream",
     "text": [
      "Google\n",
      "Google\n",
      "Facebook\n",
      "Facebook\n",
      "300\n",
      "200\n"
     ]
    }
   ],
   "source": [
    "# 1st Preference Example: Focus on Instance Attribure\n",
    "\n",
    "class Employee:\n",
    "    company = \"Google\"\n",
    "    salary = 100           # Class Attribute\n",
    "    \n",
    "hardik = Employee()\n",
    "raj = Employee()\n",
    "\n",
    "\n",
    "hardik.salary = 300\n",
    "raj.salary = 200\n",
    "\n",
    "\n",
    "print(hardik.company)\n",
    "print(raj.company)\n",
    "\n",
    "Employee.company = \"Facebook\"\n",
    "\n",
    "print(hardik.company)\n",
    "print(raj.company)\n",
    "\n",
    "\n",
    "print(hardik.salary)\n",
    "print(raj.salary)"
   ]
  },
  {
   "cell_type": "code",
   "execution_count": 11,
   "metadata": {},
   "outputs": [
    {
     "name": "stdout",
     "output_type": "stream",
     "text": [
      "Google\n",
      "Google\n",
      "Facebook\n",
      "Facebook\n",
      "100\n",
      "100\n"
     ]
    }
   ],
   "source": [
    "# 2nd Preference Example: Focus on Class Attribure\n",
    "\n",
    "class Employee:\n",
    "    company = \"Google\"\n",
    "    salary = 100\n",
    "    \n",
    "hardik = Employee()\n",
    "raj = Employee()\n",
    "\n",
    "\n",
    "# hardik.salary = 300\n",
    "# raj.salary = 200\n",
    "\n",
    "\n",
    "print(hardik.company)\n",
    "print(raj.company)\n",
    "\n",
    "Employee.company = \"Facebook\"\n",
    "\n",
    "print(hardik.company)\n",
    "print(raj.company)\n",
    "\n",
    "\n",
    "# The below line will throw an error that the 'Employee' object has no attribute 'address' \n",
    "# print(hardik.address)\n",
    "\n",
    "print(hardik.salary)\n",
    "print(raj.salary)"
   ]
  },
  {
   "cell_type": "markdown",
   "metadata": {},
   "source": [
    "## self\n",
    "    \n",
    "self refers to the instance of the class.\n",
    "\n",
    "It is automatically passed with in a function call from an object.\n",
    "\n",
    "\n",
    "Example:       hardik.getSalary()           <========= here self is harry "
   ]
  },
  {
   "cell_type": "code",
   "execution_count": 12,
   "metadata": {},
   "outputs": [
    {
     "name": "stdout",
     "output_type": "stream",
     "text": [
      "Salary is 100K\n"
     ]
    }
   ],
   "source": [
    "class Emp:\n",
    "    company = 'Google'\n",
    "    def getSalary(self):\n",
    "        print(\"Salary is 100K\")\n",
    "        \n",
    "hardik = Emp()\n",
    "hardik.getSalary()"
   ]
  },
  {
   "cell_type": "code",
   "execution_count": 13,
   "metadata": {},
   "outputs": [
    {
     "ename": "TypeError",
     "evalue": "getSalary() takes 0 positional arguments but 1 was given",
     "output_type": "error",
     "traceback": [
      "\u001b[1;31m---------------------------------------------------------------------------\u001b[0m",
      "\u001b[1;31mTypeError\u001b[0m                                 Traceback (most recent call last)",
      "\u001b[1;32m<ipython-input-13-ae8a4a3235b8>\u001b[0m in \u001b[0;36m<module>\u001b[1;34m\u001b[0m\n\u001b[0;32m      5\u001b[0m \u001b[1;33m\u001b[0m\u001b[0m\n\u001b[0;32m      6\u001b[0m \u001b[0mhardik\u001b[0m \u001b[1;33m=\u001b[0m \u001b[0mEmp\u001b[0m\u001b[1;33m(\u001b[0m\u001b[1;33m)\u001b[0m\u001b[1;33m\u001b[0m\u001b[1;33m\u001b[0m\u001b[0m\n\u001b[1;32m----> 7\u001b[1;33m \u001b[0mhardik\u001b[0m\u001b[1;33m.\u001b[0m\u001b[0mgetSalary\u001b[0m\u001b[1;33m(\u001b[0m\u001b[1;33m)\u001b[0m\u001b[1;33m\u001b[0m\u001b[1;33m\u001b[0m\u001b[0m\n\u001b[0m",
      "\u001b[1;31mTypeError\u001b[0m: getSalary() takes 0 positional arguments but 1 was given"
     ]
    }
   ],
   "source": [
    "class Emp:\n",
    "    company = 'Google'\n",
    "    def getSalary():\n",
    "        print(\"Salary is 100K\")\n",
    "        \n",
    "hardik = Emp()\n",
    "hardik.getSalary()"
   ]
  },
  {
   "cell_type": "markdown",
   "metadata": {},
   "source": [
    "The above error occurs because:"
   ]
  },
  {
   "cell_type": "code",
   "execution_count": null,
   "metadata": {},
   "outputs": [],
   "source": [
    "class Emp:\n",
    "    company = 'Google'\n",
    "    def getSalary(self):\n",
    "        print(\"Salary is 100K\")\n",
    "        \n",
    "hardik = Emp()\n",
    "# hardik.getSalary()\n",
    "Emp.getSalary(hardik)"
   ]
  },
  {
   "cell_type": "markdown",
   "metadata": {},
   "source": [
    "hardik.getSalary() = Employee.getSalary(hardik)  \n",
    "\n",
    "\n",
    "when we wrote <b>hardik = Emp()</b> than a new employee object has been generated. So Internally <b>hardik.getSalary()</b> is converted into <b>Emp.getSalary(hardik)</b>. So when we remove <b>self</b> than it thinks that we are providing a vairable that is <b>hardik</b> and which is not present in the <b>getSalary</b> therefore we get the error.\n",
    "\n",
    "Error:\n",
    "\n",
    "takes 0 position arguments but 1 was given\n",
    "\n",
    "\n",
    "That 1 was given is 'hardik'."
   ]
  },
  {
   "cell_type": "markdown",
   "metadata": {},
   "source": [
    "##### use of self:"
   ]
  },
  {
   "cell_type": "markdown",
   "metadata": {},
   "source": [
    "With self we can use instance attribute and class attribute of a perticular object."
   ]
  },
  {
   "cell_type": "code",
   "execution_count": 14,
   "metadata": {},
   "outputs": [
    {
     "name": "stdout",
     "output_type": "stream",
     "text": [
      "Salary is 100000\n"
     ]
    }
   ],
   "source": [
    "class Emp:\n",
    "    company = 'Google'\n",
    "    def getSalary(self):\n",
    "        print(f\"Salary is {self.salary}\")\n",
    "        \n",
    "hardik = Emp()\n",
    "hardik.salary = 100000\n",
    "hardik.getSalary()"
   ]
  },
  {
   "cell_type": "code",
   "execution_count": 15,
   "metadata": {},
   "outputs": [
    {
     "name": "stdout",
     "output_type": "stream",
     "text": [
      "Salary for this employee working in Google is 100000\n"
     ]
    }
   ],
   "source": [
    "class Emp:\n",
    "    company = 'Google'\n",
    "    def getSalary(self):\n",
    "        print(f\"Salary for this employee working in {self.company} is {self.salary}\")\n",
    "        \n",
    "hardik = Emp()\n",
    "hardik.salary = 100000\n",
    "hardik.getSalary()"
   ]
  },
  {
   "cell_type": "markdown",
   "metadata": {},
   "source": [
    "-----------------------------------------------\n",
    "\n",
    "## Static"
   ]
  },
  {
   "cell_type": "markdown",
   "metadata": {},
   "source": [
    "Sometimes we need a function that doesnt use the self parameter. We can define a static method like this:\n",
    "    \n",
    "    \n",
    "@staticmethod       <============== decorator to mark greet as a static method\n",
    "\n",
    "Example:\n",
    "\n",
    "    def greet():\n",
    "        print(\"Hello\") "
   ]
  },
  {
   "cell_type": "code",
   "execution_count": 5,
   "metadata": {},
   "outputs": [
    {
     "name": "stdout",
     "output_type": "stream",
     "text": [
      "Salary for this employee working in Google is 100000\n",
      "Thanks!\n",
      "Good Morning\n"
     ]
    }
   ],
   "source": [
    "class Emp:\n",
    "    company = 'Google'\n",
    "    def getSalary(self, signature):\n",
    "        print(f\"Salary for this employee working in {self.company} is {self.salary}\\n{signature}\")\n",
    "        \n",
    "        \n",
    "    @staticmethod                       #  Decoretor help us to avoid \"self\"\n",
    "    def greet():\n",
    "        print(\"Good Morning\")           # we dont want self, we only want to return Good Morning\n",
    "    \n",
    "    \n",
    "hardik = Emp()\n",
    "hardik.salary = 100000\n",
    "hardik.getSalary(\"Thanks!\")          # Emp.getSalary(hardik), \"Thanks!\" = signature value } self is added automatically \n",
    "hardik.greet()                       # Emp.greet() "
   ]
  },
  {
   "cell_type": "code",
   "execution_count": 6,
   "metadata": {},
   "outputs": [
    {
     "name": "stdout",
     "output_type": "stream",
     "text": [
      "Salary for this employee working in Google is 100000\n",
      "Thanks!\n",
      "Good Morning\n",
      "9am at morning\n"
     ]
    }
   ],
   "source": [
    "class Emp:\n",
    "    company = 'Google'\n",
    "    def getSalary(self, signature):\n",
    "        print(f\"Salary for this employee working in {self.company} is {self.salary}\\n{signature}\")\n",
    "        \n",
    "        \n",
    "    @staticmethod                       #  Decoretor help us to avoid \"self\"\n",
    "    def greet():\n",
    "        print(\"Good Morning\")           # we dont want self, we only want to return Good Morning\n",
    "    \n",
    "    \n",
    "    @staticmethod\n",
    "    def Time_val():\n",
    "        print(\"9am at morning\")\n",
    "    \n",
    "hardik = Emp()\n",
    "hardik.salary = 100000\n",
    "hardik.getSalary(\"Thanks!\")          # Emp.getSalary(hardik), \"Thanks!\" = signature value } self is added automatically \n",
    "hardik.greet()                       # Emp.greet() \n",
    "hardik.Time_val()"
   ]
  },
  {
   "cell_type": "markdown",
   "metadata": {},
   "source": [
    "----------------------------------------------\n",
    "\n",
    "## Constructor"
   ]
  },
  {
   "cell_type": "markdown",
   "metadata": {},
   "source": [
    "##### \\_\\_init\\_\\_()           <=== constructor"
   ]
  },
  {
   "cell_type": "markdown",
   "metadata": {},
   "source": [
    "- \\_\\_init\\_\\_() is a special method which is first run as soon as the object is created.\n",
    "\n",
    "\n",
    "- \\_\\_init\\_\\_() method is also known as constructor.\n",
    "\n",
    "\n",
    "- It takes self argument and can also take further arguments."
   ]
  },
  {
   "cell_type": "markdown",
   "metadata": {},
   "source": [
    "Example:\n",
    "    \n",
    "    \n",
    "    class Employee:\n",
    "        def __init__(self, name):\n",
    "            self.name = name\n",
    "            \n",
    "        def getSalary(self):\n",
    "            ...\n",
    "            \n",
    "    hardik = Employee('hardik')       <==== Object can be instantiated using constructor like this"
   ]
  },
  {
   "cell_type": "code",
   "execution_count": 8,
   "metadata": {},
   "outputs": [
    {
     "name": "stdout",
     "output_type": "stream",
     "text": [
      "Employee is Created!!!!\n"
     ]
    }
   ],
   "source": [
    "class Emp:\n",
    "    company = 'Google'\n",
    "    \n",
    "    def __init__(self):\n",
    "        print(\"Employee is Created!!!!\")    # Run automatically  {  This is known as constructor: which initialize the object\n",
    "    \n",
    "    def getSalary(self, signature):\n",
    "        print(f\"Salary for this employee working in {self.company} is {self.salary}\\n{signature}\")\n",
    "        \n",
    "        \n",
    "    @staticmethod                       #  Decoretor help us to avoid \"self\"\n",
    "    def greet():\n",
    "        print(\"Good Morning\")           # we dont want self, we only want to return Good Morning\n",
    "    \n",
    "    \n",
    "    @staticmethod\n",
    "    def Time_val():\n",
    "        print(\"9am at morning\")\n",
    "\n",
    "hardik = Emp()"
   ]
  },
  {
   "cell_type": "code",
   "execution_count": 11,
   "metadata": {},
   "outputs": [
    {
     "name": "stdout",
     "output_type": "stream",
     "text": [
      "Employee is Created!!!!\n",
      "\n",
      "Name of the Employee: Hardik\n",
      "\n",
      "Salary of the Hardik: 1000000\n",
      "\n",
      "Unit of the Hardik: YouTube\n",
      "\n"
     ]
    }
   ],
   "source": [
    "class Emp:\n",
    "    company = 'Google'\n",
    "    \n",
    "    def __init__(self, name, salary, sub_unit):\n",
    "        \n",
    "        self.name = name\n",
    "        self.salary = salary\n",
    "        self.sub_unit = sub_unit\n",
    "        print(\"Employee is Created!!!!\\n\")  # Run automatically  {  This is known as constructor: which initialize the object\n",
    "        \n",
    "        \n",
    "    def getDetails(self):\n",
    "        print(f\"Name of the Employee: {self.name}\\n\")\n",
    "        print(f\"Salary of the {self.name}: {self.salary}\\n\")\n",
    "        print(f\"Unit of the {self.name}: {self.sub_unit}\\n\")\n",
    "    \n",
    "    \n",
    "    def getSalary(self, signature):\n",
    "        print(f\"Salary for this employee working in {self.company} is {self.salary}\\n{signature}\")\n",
    "    \n",
    "        \n",
    "    @staticmethod                       #  Decoretor help us to avoid \"self\"\n",
    "    def greet():\n",
    "        print(\"Good Morning\")           # we dont want self, we only want to return Good Morning\n",
    "    \n",
    "    \n",
    "    @staticmethod\n",
    "    def Time_val():\n",
    "        print(\"9am at morning\")\n",
    "\n",
    "hardik = Emp(\"Hardik\", 1000000, \"YouTube\")\n",
    "\n",
    "# hardik = Emp()      : this will throw an error... missing 3 required positional arguments\n",
    "\n",
    "hardik.getDetails()"
   ]
  },
  {
   "cell_type": "markdown",
   "metadata": {},
   "source": [
    "\n",
    "--------------------------------------\n"
   ]
  },
  {
   "cell_type": "markdown",
   "metadata": {},
   "source": [
    "##### Q) Create a class programmer for storing info of few programmers working in microsoft"
   ]
  },
  {
   "cell_type": "code",
   "execution_count": 19,
   "metadata": {},
   "outputs": [
    {
     "name": "stdout",
     "output_type": "stream",
     "text": [
      "Name of the company is Microsoft and name of programmer is Hardik and the product is Excel.\n",
      "Name of the company is Microsoft and name of programmer is Ritik and the product is Github.\n"
     ]
    }
   ],
   "source": [
    "class Programmer:\n",
    "    company = \"Microsoft\"  # class object because... any obj we will create it will directly assocaited with the class\n",
    "    \n",
    "    def __init__(self, name, product):\n",
    "            self.name = name\n",
    "            self.product = product\n",
    "            \n",
    "    def getInfo(self):\n",
    "        print(f\"Name of the company is {self.company} and name of programmer is {self.name} and the product is {self.product}.\")\n",
    "        \n",
    "        \n",
    "hardik = Programmer(\"Hardik\", \"Excel\")\n",
    "ritik = Programmer(\"Ritik\", \"Github\")\n",
    "\n",
    "hardik.getInfo()\n",
    "ritik.getInfo()"
   ]
  },
  {
   "cell_type": "markdown",
   "metadata": {},
   "source": [
    "##### Q) Write a class calculator capable of finding square, cube and squareroot of a number"
   ]
  },
  {
   "cell_type": "code",
   "execution_count": 23,
   "metadata": {},
   "outputs": [
    {
     "name": "stdout",
     "output_type": "stream",
     "text": [
      "Square of 4 is 16\n",
      "Cube of 4 is 64\n",
      "Square root of 4 is 2.0\n"
     ]
    }
   ],
   "source": [
    "class Calculator:\n",
    "    \n",
    "    def __init__(self, num):\n",
    "        self.num = num\n",
    "        \n",
    "    def getValues(self):\n",
    "        print(f\"Square of {self.num} is\", (self.num)**2)\n",
    "        print(f\"Cube of {self.num} is\", (self.num)**3)\n",
    "        print(f\"Square root of {self.num} is\", (self.num)**0.5)\n",
    "        \n",
    "number = Calculator(4)\n",
    "\n",
    "number.getValues()"
   ]
  },
  {
   "cell_type": "markdown",
   "metadata": {},
   "source": [
    "##### Q) Create a class with a class attribute a; create an object from it and set a directly using object.a = 0. Does this change the class attribute"
   ]
  },
  {
   "cell_type": "code",
   "execution_count": 24,
   "metadata": {},
   "outputs": [
    {
     "name": "stdout",
     "output_type": "stream",
     "text": [
      "Hardik\n",
      "ritik\n"
     ]
    }
   ],
   "source": [
    "class Sample:\n",
    "    a = \"Hardik\"   \n",
    "\n",
    "obj = Sample()\n",
    "obj.a = \"ritik\" # By setting instance variable class default valuse doesnt change it just overwrite it for specific variable\n",
    "\n",
    "\n",
    "print(Sample.a)\n",
    "print(obj.a)"
   ]
  },
  {
   "cell_type": "code",
   "execution_count": 25,
   "metadata": {},
   "outputs": [
    {
     "name": "stdout",
     "output_type": "stream",
     "text": [
      "Ramesh\n",
      "ritik\n"
     ]
    }
   ],
   "source": [
    "class Sample:\n",
    "    a = \"Hardik\"\n",
    "\n",
    "obj = Sample()\n",
    "obj.a = \"ritik\" # By setting instance variable class default valuse doesnt change it just overwrite it for specific variable\n",
    " \n",
    "Sample.a = \"Ramesh\" # Now we will over-ride the \"Hardik\" by \"Ramesh\"\n",
    "\n",
    "print(Sample.a)\n",
    "print(obj.a)"
   ]
  },
  {
   "cell_type": "markdown",
   "metadata": {},
   "source": [
    "##### Q) Add a static method in problem 2nd to greet the user with hello"
   ]
  },
  {
   "cell_type": "code",
   "execution_count": 27,
   "metadata": {},
   "outputs": [
    {
     "name": "stdout",
     "output_type": "stream",
     "text": [
      "Hello\n",
      "Square of 4 is 16\n",
      "Cube of 4 is 64\n",
      "Square root of 4 is 2.0\n"
     ]
    }
   ],
   "source": [
    "class Calculator:\n",
    "    \n",
    "    def __init__(self, num):\n",
    "        self.num = num\n",
    "        \n",
    "    @staticmethod\n",
    "    def greet():\n",
    "        print(\"Hello\")\n",
    "    \n",
    "    def getValues(self):\n",
    "        print(f\"Square of {self.num} is\", (self.num)**2)\n",
    "        print(f\"Cube of {self.num} is\", (self.num)**3)\n",
    "        print(f\"Square root of {self.num} is\", (self.num)**0.5)\n",
    "        \n",
    "        \n",
    "number = Calculator(4)\n",
    "\n",
    "number.greet()\n",
    "number.getValues()"
   ]
  },
  {
   "cell_type": "markdown",
   "metadata": {},
   "source": [
    "##### Q) Write a class Train which has methods to book a ticket, get status (no of seats) and get fare information of trains running under Indian Railway"
   ]
  },
  {
   "cell_type": "code",
   "execution_count": 48,
   "metadata": {},
   "outputs": [
    {
     "name": "stdout",
     "output_type": "stream",
     "text": [
      "------------------------------------\n",
      "The name of the train is Intensity Express: 12345\n",
      "\n",
      "The seats available in the train are 2\n",
      "\n",
      "------------------------------------\n",
      "Your Ticket has been booked and your seat number is 2\n",
      "\n",
      "------------------------------------\n",
      "The name of the train is Intensity Express: 12345\n",
      "\n",
      "The seats available in the train are 1\n",
      "\n",
      "------------------------------------\n",
      "------------------------------------\n",
      "The name of the train is Intensity Express: 12345\n",
      "\n",
      "The seats available in the train are 1\n",
      "\n",
      "------------------------------------\n",
      "Your Ticket has been booked and your seat number is 1\n",
      "\n",
      "------------------------------------\n",
      "The name of the train is Intensity Express: 12345\n",
      "\n",
      "The seats available in the train are 0\n",
      "\n",
      "------------------------------------\n",
      "------------------------------------\n",
      "The name of the train is Intensity Express: 12345\n",
      "\n",
      "The seats available in the train are 0\n",
      "\n",
      "------------------------------------\n",
      "************Sorry!!! This Train is full************\n",
      "------------------------------------\n",
      "The name of the train is Intensity Express: 12345\n",
      "\n",
      "The seats available in the train are 0\n",
      "\n",
      "------------------------------------\n"
     ]
    }
   ],
   "source": [
    "class Train:\n",
    "    \n",
    "    def __init__(self, name, fare, seats):\n",
    "        self.name = name\n",
    "        self.fare = fare\n",
    "        self.seats = seats\n",
    "    \n",
    "    \n",
    "    def getStatus(self):\n",
    "        print(\"------------------------------------\")\n",
    "        print(f\"The name of the train is {self.name}\\n\")\n",
    "        print(f\"The seats available in the train are {self.seats}\\n\")\n",
    "        print(\"------------------------------------\")\n",
    "        \n",
    "    def fareInfo(self):\n",
    "       print(f\"The price of the ticket is Rs: {self.fare}\\n\")\n",
    "    \n",
    "    def bookTicket(self):\n",
    "        if (self.seats > 0):\n",
    "            print(f\"Your Ticket has been booked and your seat number is {self.seats}\\n\")\n",
    "            self.seats -= 1\n",
    "        else:\n",
    "            print(\"************Sorry!!! This Train is full************\")\n",
    "        \n",
    "        \n",
    "lst = [1,2,3,4,5,6,7,8,9,10]        \n",
    "intercity = Train(\"Intensity Express: 12345\", 90, lst)\n",
    "intercity.getStatus()\n",
    "# intercity.fareInfo()\n",
    "intercity.bookTicket()\n",
    "intercity.getStatus()\n",
    "\n",
    "\n",
    "\n",
    "intercity.getStatus()\n",
    "# intercity.fareInfo()\n",
    "intercity.bookTicket()\n",
    "intercity.getStatus()\n",
    "\n",
    "\n",
    "intercity.getStatus()\n",
    "# intercity.fareInfo()\n",
    "intercity.bookTicket()\n",
    "intercity.getStatus()"
   ]
  },
  {
   "cell_type": "markdown",
   "metadata": {},
   "source": [
    "##### Q) Can you change the self parameter inside a class to something else (say 'harry'). Try changing self to 'slf' and see the effect"
   ]
  },
  {
   "cell_type": "code",
   "execution_count": 52,
   "metadata": {},
   "outputs": [
    {
     "name": "stdout",
     "output_type": "stream",
     "text": [
      "Harry\n"
     ]
    }
   ],
   "source": [
    "class Sample:\n",
    "    \n",
    "    def __init__(harry, name):\n",
    "        harry.name = name\n",
    "        \n",
    "        \n",
    "obj = Sample(\"Harry\")\n",
    "print(obj.name)"
   ]
  },
  {
   "cell_type": "code",
   "execution_count": null,
   "metadata": {},
   "outputs": [],
   "source": []
  }
 ],
 "metadata": {
  "kernelspec": {
   "display_name": "Python 3",
   "language": "python",
   "name": "python3"
  },
  "language_info": {
   "codemirror_mode": {
    "name": "ipython",
    "version": 3
   },
   "file_extension": ".py",
   "mimetype": "text/x-python",
   "name": "python",
   "nbconvert_exporter": "python",
   "pygments_lexer": "ipython3",
   "version": "3.7.7"
  }
 },
 "nbformat": 4,
 "nbformat_minor": 4
}
