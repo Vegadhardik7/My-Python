{
 "cells": [
  {
   "cell_type": "markdown",
   "metadata": {},
   "source": [
    "# Dictionary & Sets"
   ]
  },
  {
   "cell_type": "markdown",
   "metadata": {},
   "source": [
    "## Dictionary"
   ]
  },
  {
   "cell_type": "markdown",
   "metadata": {},
   "source": [
    "Dictionary is a collection of key-value pairs\n",
    "\n",
    "Nested Dictionary are possible, i.e Dictionary under Dictionary\n",
    "\n",
    "<b>Properties of Dictionary:</b>\n",
    "\n",
    "- Unordered\n",
    "\n",
    "- Mutiable\n",
    "\n",
    "- Indexed \n",
    "\n",
    "- Cannot contain dublicated keys"
   ]
  },
  {
   "cell_type": "code",
   "execution_count": 1,
   "metadata": {},
   "outputs": [
    {
     "name": "stdout",
     "output_type": "stream",
     "text": [
      "<class 'dict'>\n"
     ]
    }
   ],
   "source": [
    "a = {}\n",
    "print(type(a))"
   ]
  },
  {
   "cell_type": "code",
   "execution_count": 2,
   "metadata": {},
   "outputs": [
    {
     "name": "stdout",
     "output_type": "stream",
     "text": [
      "value\n",
      "[1, 2, 3]\n"
     ]
    }
   ],
   "source": [
    "syntax = {\"key\" : \"value\",\n",
    "          \"car\" : \"Ferrari\",\n",
    "          \"marks\" : \"100\",\n",
    "          \"list\" : [1,2,3]}\n",
    "\n",
    "\n",
    "print(syntax[\"key\"])\n",
    "print(syntax[\"list\"])\n",
    "\n",
    "# print(syntax[\"100\"]) Cannot call value directly for key"
   ]
  },
  {
   "cell_type": "code",
   "execution_count": 3,
   "metadata": {},
   "outputs": [
    {
     "name": "stdout",
     "output_type": "stream",
     "text": [
      "value\n",
      "\n",
      "-------------------------------------\n",
      "\n",
      "[1, 2, 3]\n",
      "\n",
      "-------------------------------------\n",
      "\n",
      "{'hardik': 'Name', 'vegad': 'LastName'}\n",
      "\n",
      "-------------------------------------\n",
      "\n",
      "LastName\n"
     ]
    }
   ],
   "source": [
    "syntax = {\"key\" : \"value\",\n",
    "          \"car\" : \"Ferrari\",\n",
    "          \"marks\" : \"100\",\n",
    "          \"list\" : [1,2,3],\n",
    "          \"Dict_2\" : {'hardik' : 'Name', 'vegad' : 'LastName'}}\n",
    "\n",
    "\n",
    "print(syntax[\"key\"])\n",
    "\n",
    "print(\"\\n-------------------------------------\\n\")\n",
    "\n",
    "print(syntax[\"list\"])\n",
    "\n",
    "print(\"\\n-------------------------------------\\n\")\n",
    "\n",
    "print(syntax[\"Dict_2\"])\n",
    "\n",
    "print(\"\\n-------------------------------------\\n\")\n",
    "\n",
    "print(syntax[\"Dict_2\"]['vegad'])\n",
    "\n",
    "# print(syntax[\"100\"]) Cannot call value directly for key"
   ]
  },
  {
   "cell_type": "code",
   "execution_count": 4,
   "metadata": {},
   "outputs": [
    {
     "name": "stdout",
     "output_type": "stream",
     "text": [
      "value\n",
      "\n",
      "-------------------------------------\n",
      "\n",
      "[1, 2, 3]\n",
      "[98, 99, 100]\n",
      "\n",
      "-------------------------------------\n",
      "\n",
      "{'hardik': 'Name', 'vegad': 'LastName'}\n",
      "\n",
      "-------------------------------------\n",
      "\n",
      "LastName\n"
     ]
    }
   ],
   "source": [
    "syntax = {\"key\" : \"value\",\n",
    "          \"car\" : \"Ferrari\",\n",
    "          \"marks\" : \"100\",\n",
    "          \"list\" : [1,2,3],\n",
    "          \"Dict_2\" : {'hardik' : 'Name', 'vegad' : 'LastName'}}\n",
    "\n",
    "\n",
    "print(syntax[\"key\"])\n",
    "\n",
    "print(\"\\n-------------------------------------\\n\")\n",
    "\n",
    "print(syntax[\"list\"])\n",
    "\n",
    "syntax['list'] = [98,99,100]\n",
    "\n",
    "print(syntax[\"list\"])\n",
    "\n",
    "print(\"\\n-------------------------------------\\n\")\n",
    "\n",
    "print(syntax[\"Dict_2\"])\n",
    "\n",
    "print(\"\\n-------------------------------------\\n\")\n",
    "\n",
    "print(syntax[\"Dict_2\"]['vegad'])\n",
    "\n",
    "# print(syntax[\"100\"]) Cannot call value directly for key"
   ]
  },
  {
   "cell_type": "markdown",
   "metadata": {},
   "source": [
    "### Methods of Dictionary"
   ]
  },
  {
   "cell_type": "code",
   "execution_count": 5,
   "metadata": {},
   "outputs": [
    {
     "name": "stdout",
     "output_type": "stream",
     "text": [
      "dict_keys(['Name', 'From', 'Marks'])\n",
      "['Name', 'From', 'Marks']\n"
     ]
    }
   ],
   "source": [
    "a = {'Name' : 'Hardik',\n",
    "     'From' : 'India',\n",
    "     'Marks': [98,99,100]\n",
    "    }\n",
    "\n",
    "print(a.keys())     # Print all the keys in the form of list & it's type is dict_keys\n",
    "\n",
    "print(list(a.keys())) # converting dict_keys into list"
   ]
  },
  {
   "cell_type": "code",
   "execution_count": 6,
   "metadata": {},
   "outputs": [
    {
     "name": "stdout",
     "output_type": "stream",
     "text": [
      "dict_values(['Hardik', 'India', [98, 99, 100]])\n",
      "['Hardik', 'India', [98, 99, 100]]\n"
     ]
    }
   ],
   "source": [
    "print(a.values())      # Print all the keys in the form of list & it's type is dict_values\n",
    "\n",
    "print(list(a.values())) # converting dict_values into list"
   ]
  },
  {
   "cell_type": "code",
   "execution_count": 7,
   "metadata": {},
   "outputs": [
    {
     "name": "stdout",
     "output_type": "stream",
     "text": [
      "dict_items([('Name', 'Hardik'), ('From', 'India'), ('Marks', [98, 99, 100])])\n"
     ]
    }
   ],
   "source": [
    "print(a.items()) # Returns a tuple, which give key value pair in a form of list so we can iterate it"
   ]
  },
  {
   "cell_type": "code",
   "execution_count": 8,
   "metadata": {},
   "outputs": [
    {
     "name": "stdout",
     "output_type": "stream",
     "text": [
      "{'Name': 'Hardik', 'From': 'India', 'Marks': [98, 99, 100]}\n",
      "{'Name': 'Hardik', 'From': 'India', 'Marks': [98, 99, 100], 'Ram': 'Sita', 'Raj': 'Mata'}\n"
     ]
    }
   ],
   "source": [
    "print(a)\n",
    "\n",
    "# updates the dictionary by adding key-value pairs from update_dict\n",
    "\n",
    "update_dict = {'Ram' : 'Sita', 'Raj' : 'Mata'}\n",
    "a.update(update_dict)\n",
    "\n",
    "print(a)"
   ]
  },
  {
   "cell_type": "code",
   "execution_count": 9,
   "metadata": {},
   "outputs": [
    {
     "name": "stdout",
     "output_type": "stream",
     "text": [
      "{'Name': 'Hardik', 'From': 'India', 'Marks': [98, 99, 100], 'Ram': 'Sita', 'Raj': 'Mata'}\n",
      "{'Name': 'Hardik', 'From': 'INDIA', 'Marks': [98, 99, 100], 'Ram': 'Sita', 'Raj': 'Mata'}\n"
     ]
    }
   ],
   "source": [
    "print(a)\n",
    "\n",
    "# updates the dictionary by adding key-value pairs from update_dict\n",
    "\n",
    "update_dict = {'Ram' : 'Sita', 'Raj' : 'Mata', 'From':'INDIA'}\n",
    "a.update(update_dict)\n",
    "\n",
    "print(a)"
   ]
  },
  {
   "cell_type": "code",
   "execution_count": 10,
   "metadata": {},
   "outputs": [
    {
     "name": "stdout",
     "output_type": "stream",
     "text": [
      "Hardik\n"
     ]
    }
   ],
   "source": [
    "print(a.get('Name'))"
   ]
  },
  {
   "cell_type": "code",
   "execution_count": 11,
   "metadata": {},
   "outputs": [
    {
     "name": "stdout",
     "output_type": "stream",
     "text": [
      "Hardik\n",
      "\n",
      "----------------------------------------\n",
      "\n",
      "Hardik\n"
     ]
    }
   ],
   "source": [
    "print(a.get('Name'))\n",
    "\n",
    "print('\\n----------------------------------------\\n')\n",
    "\n",
    "print(a['Name'])"
   ]
  },
  {
   "cell_type": "markdown",
   "metadata": {},
   "source": [
    "### Difference between .get and [ ] \n",
    "\n",
    "\n",
    "###### If not get return <b>None</b>"
   ]
  },
  {
   "cell_type": "code",
   "execution_count": 12,
   "metadata": {},
   "outputs": [
    {
     "name": "stdout",
     "output_type": "stream",
     "text": [
      "None\n"
     ]
    }
   ],
   "source": [
    "print(a.get('Name_1'))"
   ]
  },
  {
   "cell_type": "markdown",
   "metadata": {},
   "source": [
    "###### If not Present returns Error"
   ]
  },
  {
   "cell_type": "code",
   "execution_count": 13,
   "metadata": {
    "scrolled": true
   },
   "outputs": [
    {
     "ename": "KeyError",
     "evalue": "'Name_1'",
     "output_type": "error",
     "traceback": [
      "\u001b[1;31m---------------------------------------------------------------------------\u001b[0m",
      "\u001b[1;31mKeyError\u001b[0m                                  Traceback (most recent call last)",
      "\u001b[1;32m<ipython-input-13-ea049bd1b310>\u001b[0m in \u001b[0;36m<module>\u001b[1;34m\u001b[0m\n\u001b[1;32m----> 1\u001b[1;33m \u001b[0mprint\u001b[0m\u001b[1;33m(\u001b[0m\u001b[0ma\u001b[0m\u001b[1;33m[\u001b[0m\u001b[1;34m'Name_1'\u001b[0m\u001b[1;33m]\u001b[0m\u001b[1;33m)\u001b[0m\u001b[1;33m\u001b[0m\u001b[1;33m\u001b[0m\u001b[0m\n\u001b[0m",
      "\u001b[1;31mKeyError\u001b[0m: 'Name_1'"
     ]
    }
   ],
   "source": [
    "print(a['Name_1'])"
   ]
  },
  {
   "cell_type": "markdown",
   "metadata": {},
   "source": [
    "------------------------------------------------------------------------------------"
   ]
  },
  {
   "cell_type": "markdown",
   "metadata": {},
   "source": [
    "## Sets"
   ]
  },
  {
   "cell_type": "markdown",
   "metadata": {},
   "source": [
    "Sets is the collection of non repetitive elements\n",
    "\n",
    "Cannot add list or dictionary in it, because list and dictionary both are not Hashable that means list and dictioanry can be changed\n",
    "\n",
    "We can add tuples in Sets\n",
    "\n",
    "Sets in python are data types containing unique values"
   ]
  },
  {
   "cell_type": "markdown",
   "metadata": {},
   "source": [
    "### Properties of Sets:\n",
    "\n",
    "- <b>Unorderd</b> that means elements does not have any perticular order\n",
    "\n",
    "- <b>Unindexed</b> that means elements cannot be accessed with index number\n",
    "\n",
    "- There is no way to change item in Sets\n",
    "\n",
    "- Sets cannot dupilicate values"
   ]
  },
  {
   "cell_type": "code",
   "execution_count": 14,
   "metadata": {},
   "outputs": [
    {
     "name": "stdout",
     "output_type": "stream",
     "text": [
      "set()\n",
      "<class 'set'>\n",
      "{1, 2, 3}\n"
     ]
    }
   ],
   "source": [
    "a = set()\n",
    "print(a)\n",
    "print(type(a))\n",
    "\n",
    "a.add(1)\n",
    "a.add(2)\n",
    "a.add(3)\n",
    "\n",
    "print(a)"
   ]
  },
  {
   "cell_type": "code",
   "execution_count": 15,
   "metadata": {},
   "outputs": [
    {
     "name": "stdout",
     "output_type": "stream",
     "text": [
      "<class 'set'>\n",
      "{1, 2, 3, 4}\n"
     ]
    }
   ],
   "source": [
    "a = {1,2,3,4}\n",
    "\n",
    "print(type(a))\n",
    "print(a)"
   ]
  },
  {
   "cell_type": "code",
   "execution_count": 16,
   "metadata": {},
   "outputs": [
    {
     "name": "stdout",
     "output_type": "stream",
     "text": [
      "<class 'set'>\n",
      "{1, 2, 3, 4}\n"
     ]
    }
   ],
   "source": [
    "a = {1,2,3,4,1,1,1}\n",
    "\n",
    "print(type(a))\n",
    "print(a)"
   ]
  },
  {
   "cell_type": "code",
   "execution_count": 17,
   "metadata": {},
   "outputs": [
    {
     "name": "stdout",
     "output_type": "stream",
     "text": [
      "<class 'set'>\n",
      "{1, 2, 3, 4, (9, 8, 7)}\n"
     ]
    }
   ],
   "source": [
    "a = {1,2,3,4,1,1,1}\n",
    "\n",
    "a.add((9,8,7))\n",
    "print(type(a))\n",
    "print(a)"
   ]
  },
  {
   "cell_type": "code",
   "execution_count": 19,
   "metadata": {},
   "outputs": [
    {
     "name": "stdout",
     "output_type": "stream",
     "text": [
      "{1, 2, 3, 4, (9, 8, 7)}\n",
      "5\n"
     ]
    }
   ],
   "source": [
    "print(a)\n",
    "print(len(a))"
   ]
  },
  {
   "cell_type": "code",
   "execution_count": 22,
   "metadata": {},
   "outputs": [
    {
     "name": "stdout",
     "output_type": "stream",
     "text": [
      "{1, 2, 3, 4, (9, 8, 7)}\n",
      "{1, 2, 4, (9, 8, 7)}\n"
     ]
    }
   ],
   "source": [
    "a = {1, 2, 3, 4, (9, 8, 7)}\n",
    "\n",
    "print(a)\n",
    "a.remove(3)\n",
    "print(a)"
   ]
  },
  {
   "cell_type": "code",
   "execution_count": 23,
   "metadata": {},
   "outputs": [
    {
     "name": "stdout",
     "output_type": "stream",
     "text": [
      "{2, 4, (9, 8, 7)}\n"
     ]
    }
   ],
   "source": [
    "# Removes the initial value\n",
    "\n",
    "a.pop()\n",
    "print(a)"
   ]
  },
  {
   "cell_type": "code",
   "execution_count": 24,
   "metadata": {},
   "outputs": [
    {
     "name": "stdout",
     "output_type": "stream",
     "text": [
      "set()\n"
     ]
    }
   ],
   "source": [
    "a.clear()\n",
    "print(a)"
   ]
  },
  {
   "cell_type": "markdown",
   "metadata": {},
   "source": [
    "------------------------------------------------------------------"
   ]
  },
  {
   "cell_type": "markdown",
   "metadata": {},
   "source": [
    "##### Q) Hindi word dictionary to English"
   ]
  },
  {
   "cell_type": "code",
   "execution_count": 28,
   "metadata": {},
   "outputs": [
    {
     "name": "stdout",
     "output_type": "stream",
     "text": [
      "Options are: dict_keys(['Pagal', 'Haath', 'Aakhe'])\n",
      "Enter the Hindi word: Pagal\n",
      "Meaning of your word is:  Mad\n"
     ]
    }
   ],
   "source": [
    "dict = {\n",
    "    \n",
    "    \"Pagal\" : \"Mad\",\n",
    "    \"Haath\" : \"Hand\",\n",
    "    \"Aakhe\" : \"Eyes\"\n",
    "}\n",
    "\n",
    "print(\"Options are:\",dict.keys())\n",
    "a = input(\"Enter the Hindi word: \")\n",
    "\n",
    "# print(\"Meaning of your word is: \",dict[a])\n",
    "\n",
    "# Below line will not throw an error, if the users world is not present in dictionary.\n",
    "print(\"Meaning of your word is: \",dict.get(a))"
   ]
  },
  {
   "cell_type": "markdown",
   "metadata": {},
   "source": [
    "##### Q) Write a program to input 8 number from the user and print all the unique number once"
   ]
  },
  {
   "cell_type": "code",
   "execution_count": 30,
   "metadata": {},
   "outputs": [
    {
     "name": "stdout",
     "output_type": "stream",
     "text": [
      "Enter Number 1:1\n",
      "Enter Number 2:1\n",
      "Enter Number 3:2\n",
      "Enter Number 4:2\n",
      "Enter Number 5:3\n",
      "Enter Number 6:3\n",
      "Enter Number 7:5\n",
      "Enter Number 8:9\n",
      "{1, 2, 3, 5, 9}\n"
     ]
    }
   ],
   "source": [
    "n1 = int(input(\"Enter Number 1:\"))\n",
    "n2 = int(input(\"Enter Number 2:\"))\n",
    "n3 = int(input(\"Enter Number 3:\"))\n",
    "n4 = int(input(\"Enter Number 4:\"))\n",
    "n5 = int(input(\"Enter Number 5:\"))\n",
    "n6 = int(input(\"Enter Number 6:\"))\n",
    "n7 = int(input(\"Enter Number 7:\"))\n",
    "n8 = int(input(\"Enter Number 8:\"))\n",
    "\n",
    "\n",
    "val = {n1,n2,n3,n4,n5,n6,n7,n8}\n",
    "\n",
    "print(val)"
   ]
  },
  {
   "cell_type": "markdown",
   "metadata": {},
   "source": [
    "###### Q) Can we have 18(int) and \"18\"(str) as values in it?"
   ]
  },
  {
   "cell_type": "code",
   "execution_count": 35,
   "metadata": {},
   "outputs": [
    {
     "name": "stdout",
     "output_type": "stream",
     "text": [
      "{'18', 18, 18.1}\n"
     ]
    }
   ],
   "source": [
    "s = {18,\"18\",18.1}\n",
    "print(s)"
   ]
  },
  {
   "cell_type": "markdown",
   "metadata": {},
   "source": [
    "In set string comes first, then int, then float"
   ]
  },
  {
   "cell_type": "code",
   "execution_count": 33,
   "metadata": {},
   "outputs": [
    {
     "name": "stdout",
     "output_type": "stream",
     "text": [
      "<class 'set'>\n"
     ]
    }
   ],
   "source": [
    "print(type(s))"
   ]
  },
  {
   "cell_type": "markdown",
   "metadata": {},
   "source": [
    "##### Q) What will be the len of set s?"
   ]
  },
  {
   "cell_type": "code",
   "execution_count": 36,
   "metadata": {},
   "outputs": [
    {
     "name": "stdout",
     "output_type": "stream",
     "text": [
      "{'20', 20}\n",
      "2\n"
     ]
    }
   ],
   "source": [
    "s = set()\n",
    "s.add(20)\n",
    "s.add(20.0)\n",
    "s.add(\"20\")\n",
    "\n",
    "print(s)\n",
    "\n",
    "print(len(s))"
   ]
  },
  {
   "cell_type": "markdown",
   "metadata": {},
   "source": [
    "##### Q) Create an empty dictionary. Allow 4 friends to enter their favourite lang as values and use keys as their name."
   ]
  },
  {
   "cell_type": "code",
   "execution_count": 37,
   "metadata": {},
   "outputs": [
    {
     "name": "stdout",
     "output_type": "stream",
     "text": [
      "Enter your fav lang Ram:Python\n",
      "Enter your fav lang Shyam:C\n",
      "Enter your fav lang Sita:C\n",
      "Enter your fav lang Gita:Java\n",
      "{'Ram': 'Python', 'Shyam': 'C', 'Sita': 'C', 'Gita': 'Java'}\n"
     ]
    }
   ],
   "source": [
    "fav_lang = {}\n",
    "a = input(\"Enter your fav lang Ram:\")\n",
    "b = input(\"Enter your fav lang Shyam:\")\n",
    "c = input(\"Enter your fav lang Sita:\")\n",
    "d = input(\"Enter your fav lang Gita:\")\n",
    "\n",
    "fav_lang['Ram'] = a\n",
    "fav_lang['Shyam'] = b\n",
    "fav_lang['Sita'] = c\n",
    "fav_lang['Gita'] = d\n",
    "\n",
    "print(fav_lang)"
   ]
  },
  {
   "cell_type": "markdown",
   "metadata": {},
   "source": [
    "##### Q) If names of the 2 friends are same, what will happen to the program in problem 6?"
   ]
  },
  {
   "cell_type": "code",
   "execution_count": 38,
   "metadata": {},
   "outputs": [
    {
     "name": "stdout",
     "output_type": "stream",
     "text": [
      "Enter your fav lang Ram:Python\n",
      "Enter your fav lang Shyam:Python\n",
      "Enter your fav lang Sita:C\n",
      "Enter your fav lang Gita:Java\n",
      "{'Ram': 'C', 'Shyam': 'Python', 'Gita': 'Java'}\n"
     ]
    }
   ],
   "source": [
    "fav_lang = {}\n",
    "a = input(\"Enter your fav lang Ram:\")\n",
    "b = input(\"Enter your fav lang Shyam:\")\n",
    "c = input(\"Enter your fav lang Sita:\")\n",
    "d = input(\"Enter your fav lang Gita:\")\n",
    "\n",
    "fav_lang['Ram'] = a\n",
    "fav_lang['Shyam'] = b\n",
    "fav_lang['Ram'] = c\n",
    "fav_lang['Gita'] = d\n",
    "\n",
    "print(fav_lang)"
   ]
  },
  {
   "cell_type": "code",
   "execution_count": null,
   "metadata": {},
   "outputs": [],
   "source": []
  }
 ],
 "metadata": {
  "kernelspec": {
   "display_name": "Python 3",
   "language": "python",
   "name": "python3"
  },
  "language_info": {
   "codemirror_mode": {
    "name": "ipython",
    "version": 3
   },
   "file_extension": ".py",
   "mimetype": "text/x-python",
   "name": "python",
   "nbconvert_exporter": "python",
   "pygments_lexer": "ipython3",
   "version": "3.7.7"
  }
 },
 "nbformat": 4,
 "nbformat_minor": 4
}
