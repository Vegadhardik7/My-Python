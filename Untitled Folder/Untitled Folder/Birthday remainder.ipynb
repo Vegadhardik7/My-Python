{
 "cells": [
  {
   "cell_type": "code",
   "execution_count": 3,
   "metadata": {},
   "outputs": [
    {
     "name": "stdout",
     "output_type": "stream",
     "text": [
      "------Birthday App------\n",
      "1. Show Birthday\n",
      "2. Add to Birthday List\n",
      "3. Exit\n",
      "Enter the choice:1\n",
      "Nothing to show\n",
      "------Birthday App------\n",
      "1. Show Birthday\n",
      "2. Add to Birthday List\n",
      "3. Exit\n",
      "Enter the choice:2\n",
      "Enter the name:Hardik Vegad\n",
      "Enter the Birth-date:16 June 1999\n",
      "Birthday added\n",
      "------Birthday App------\n",
      "1. Show Birthday\n",
      "2. Add to Birthday List\n",
      "3. Exit\n",
      "Enter the choice:1\n",
      "Enter name to look for birthday:Hardik Vegad\n",
      "16 June 1999\n",
      "------Birthday App------\n",
      "1. Show Birthday\n",
      "2. Add to Birthday List\n",
      "3. Exit\n",
      "Enter the choice:5\n",
      "Choose a valid option\n",
      "------Birthday App------\n",
      "1. Show Birthday\n",
      "2. Add to Birthday List\n",
      "3. Exit\n",
      "Enter the choice:3\n"
     ]
    }
   ],
   "source": [
    "dict={}\n",
    "while True:\n",
    "    print(\"------Birthday App------\")\n",
    "    print(\"1. Show Birthday\")\n",
    "    print(\"2. Add to Birthday List\")\n",
    "    print(\"3. Exit\")\n",
    "    \n",
    "    choice = int(input('Enter the choice:'))\n",
    "    \n",
    "    if choice == 1:\n",
    "        if len(dict.keys()) == 0:\n",
    "            print(\"Nothing to show\")\n",
    "        else:\n",
    "            name = input(\"Enter name to look for birthday:\")\n",
    "            birthday = dict.get(name, \"No data found\")\n",
    "            print(birthday)\n",
    "    elif choice == 2:\n",
    "        name = input(\"Enter the name:\")\n",
    "        date = input(\"Enter the Birth-date:\")\n",
    "        dict[name] = date\n",
    "        print(\"Birthday added\")\n",
    "    elif choice == 3:\n",
    "        break\n",
    "    else:\n",
    "        print(\"Choose a valid option\")"
   ]
  },
  {
   "cell_type": "code",
   "execution_count": null,
   "metadata": {},
   "outputs": [],
   "source": []
  }
 ],
 "metadata": {
  "kernelspec": {
   "display_name": "Python 3",
   "language": "python",
   "name": "python3"
  },
  "language_info": {
   "codemirror_mode": {
    "name": "ipython",
    "version": 3
   },
   "file_extension": ".py",
   "mimetype": "text/x-python",
   "name": "python",
   "nbconvert_exporter": "python",
   "pygments_lexer": "ipython3",
   "version": "3.7.7"
  }
 },
 "nbformat": 4,
 "nbformat_minor": 4
}
