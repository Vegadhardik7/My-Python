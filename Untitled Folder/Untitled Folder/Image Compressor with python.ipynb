{
 "cells": [
  {
   "cell_type": "code",
   "execution_count": 1,
   "metadata": {},
   "outputs": [],
   "source": [
    "import PIL\n",
    "from PIL import Image\n",
    "from tkinter.filedialog import *\n",
    "\n",
    "\n",
    "file_path = askopenfilename()\n",
    "img = PIL.Image.open(file_path)\n",
    "\n",
    "myheight, mywidth = img.size\n",
    "\n",
    "img = img.resize((myheight,mywidth), PIL.Image.ANTIALIAS)\n",
    "\n",
    "save_path = asksaveasfilename()\n",
    "\n",
    "\n",
    "img.save(save_path+\"_compressed.JPG\")"
   ]
  },
  {
   "cell_type": "code",
   "execution_count": null,
   "metadata": {},
   "outputs": [],
   "source": []
  }
 ],
 "metadata": {
  "kernelspec": {
   "display_name": "Python 3",
   "language": "python",
   "name": "python3"
  },
  "language_info": {
   "codemirror_mode": {
    "name": "ipython",
    "version": 3
   },
   "file_extension": ".py",
   "mimetype": "text/x-python",
   "name": "python",
   "nbconvert_exporter": "python",
   "pygments_lexer": "ipython3",
   "version": "3.7.7"
  }
 },
 "nbformat": 4,
 "nbformat_minor": 4
}
