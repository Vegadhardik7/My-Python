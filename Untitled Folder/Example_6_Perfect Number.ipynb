{
 "cells": [
  {
   "cell_type": "code",
   "execution_count": 4,
   "metadata": {},
   "outputs": [
    {
     "name": "stdout",
     "output_type": "stream",
     "text": [
      "Enter the number:6\n",
      "6 is a perfect number\n"
     ]
    }
   ],
   "source": [
    "n = int(input(\"Enter the number:\"))\n",
    "num = 0\n",
    "\n",
    "for i in range(1,n):\n",
    "    if n%i == 0:\n",
    "        num = num+i\n",
    "if num == n:\n",
    "    print(n, \"is a perfect number\")\n",
    "else:\n",
    "    print(n, \"is not a perfect number\")\n"
   ]
  },
  {
   "cell_type": "code",
   "execution_count": 6,
   "metadata": {},
   "outputs": [
    {
     "name": "stdout",
     "output_type": "stream",
     "text": [
      "Enter the number1:5\n",
      "Enter the number2:13\n",
      "6\n"
     ]
    }
   ],
   "source": [
    "n1 = int(input(\"Enter the number1:\"))\n",
    "n2 = int(input(\"Enter the number2:\"))\n",
    "\n",
    "for i in range(n1,n2+1):\n",
    "    sum = 0\n",
    "    for j in range(1,i):\n",
    "        if i%j == 0:\n",
    "            sum += j\n",
    "    if i == sum:\n",
    "        print(i)"
   ]
  },
  {
   "cell_type": "code",
   "execution_count": null,
   "metadata": {},
   "outputs": [],
   "source": []
  }
 ],
 "metadata": {
  "kernelspec": {
   "display_name": "Python 3",
   "language": "python",
   "name": "python3"
  },
  "language_info": {
   "codemirror_mode": {
    "name": "ipython",
    "version": 3
   },
   "file_extension": ".py",
   "mimetype": "text/x-python",
   "name": "python",
   "nbconvert_exporter": "python",
   "pygments_lexer": "ipython3",
   "version": "3.7.7"
  }
 },
 "nbformat": 4,
 "nbformat_minor": 4
}
