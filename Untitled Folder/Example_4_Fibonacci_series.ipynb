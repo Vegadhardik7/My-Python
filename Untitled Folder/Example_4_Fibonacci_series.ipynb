{
 "cells": [
  {
   "cell_type": "code",
   "execution_count": 4,
   "metadata": {},
   "outputs": [
    {
     "name": "stdout",
     "output_type": "stream",
     "text": [
      "Enter the number: 5\n",
      "0\n",
      "1\n",
      "1\n",
      "2\n",
      "3\n"
     ]
    }
   ],
   "source": [
    "num = int(input(\"Enter the number: \"))\n",
    "\n",
    "n1, n2 = 0, 1\n",
    "\n",
    "for i in range(num):\n",
    "    print(n1)\n",
    "    temp = n1\n",
    "    n1 = n2\n",
    "    n2 = n2 + temp"
   ]
  },
  {
   "cell_type": "code",
   "execution_count": 6,
   "metadata": {},
   "outputs": [
    {
     "name": "stdout",
     "output_type": "stream",
     "text": [
      "Enter the number:5\n",
      "01123"
     ]
    }
   ],
   "source": [
    "def fibo(n):\n",
    "    if n == 0:\n",
    "        return 0\n",
    "    elif n == 1:\n",
    "        return 1\n",
    "    else:\n",
    "        return fibo(n-1) + fibo(n-2)\n",
    "\n",
    "num = input(\"Enter the number:\")\n",
    "n = int(num)\n",
    "for i in range(0, n):\n",
    "    print(fibo(i),end='')"
   ]
  },
  {
   "cell_type": "markdown",
   "metadata": {},
   "source": [
    "## Amstrong or not"
   ]
  },
  {
   "cell_type": "code",
   "execution_count": 12,
   "metadata": {},
   "outputs": [
    {
     "name": "stdout",
     "output_type": "stream",
     "text": [
      "0\n",
      "1\n",
      "2\n",
      "3\n",
      "4\n",
      "5\n",
      "6\n",
      "7\n",
      "8\n",
      "9\n",
      "153\n",
      "370\n",
      "371\n",
      "407\n"
     ]
    }
   ],
   "source": [
    "for i in range(1001):\n",
    "    num=i\n",
    "    result=0\n",
    "    n=len(str(i))\n",
    "    \n",
    "    while(i!=0):\n",
    "        digit = i%10\n",
    "        result=result+digit**n\n",
    "        i=i//10\n",
    "    if num == result:\n",
    "        print(num)"
   ]
  },
  {
   "cell_type": "code",
   "execution_count": 13,
   "metadata": {},
   "outputs": [
    {
     "name": "stdout",
     "output_type": "stream",
     "text": [
      "Enter a number: 153\n",
      "153 is an Armstrong number\n"
     ]
    }
   ],
   "source": [
    "# Python program to check if the number is an Armstrong number or not\n",
    "\n",
    "# take input from the user\n",
    "num = int(input(\"Enter a number: \"))\n",
    "\n",
    "# initialize sum\n",
    "sum = 0\n",
    "\n",
    "# find the sum of the cube of each digit\n",
    "temp = num\n",
    "while temp > 0:\n",
    "   digit = temp % 10\n",
    "   sum += digit ** 3\n",
    "   temp //= 10\n",
    "\n",
    "# display the result\n",
    "if num == sum:\n",
    "   print(num,\"is an Armstrong number\")\n",
    "else:\n",
    "   print(num,\"is not an Armstrong number\")"
   ]
  },
  {
   "cell_type": "code",
   "execution_count": 14,
   "metadata": {},
   "outputs": [
    {
     "name": "stdout",
     "output_type": "stream",
     "text": [
      "1634 is an Armstrong number\n"
     ]
    }
   ],
   "source": [
    "num = 1634\n",
    "\n",
    "# Changed num variable to string, \n",
    "# and calculated the length (number of digits)\n",
    "order = len(str(num))\n",
    "\n",
    "# initialize sum\n",
    "sum = 0\n",
    "\n",
    "# find the sum of the cube of each digit\n",
    "temp = num\n",
    "while temp > 0:\n",
    "   digit = temp % 10\n",
    "   sum += digit ** order\n",
    "   temp //= 10\n",
    "\n",
    "# display the result\n",
    "if num == sum:\n",
    "   print(num,\"is an Armstrong number\")\n",
    "else:\n",
    "   print(num,\"is not an Armstrong number\")"
   ]
  },
  {
   "cell_type": "code",
   "execution_count": 16,
   "metadata": {},
   "outputs": [
    {
     "name": "stdout",
     "output_type": "stream",
     "text": [
      "Enter the number: wow\n",
      "wow is palindrome\n"
     ]
    }
   ],
   "source": [
    "word = input(\"Enter the number: \")\n",
    "\n",
    "if word == word[::-1]:\n",
    "    print(word,\"is palindrome\")\n",
    "else:\n",
    "    print(word,\"is not a palindrome\")"
   ]
  },
  {
   "cell_type": "code",
   "execution_count": null,
   "metadata": {},
   "outputs": [],
   "source": []
  }
 ],
 "metadata": {
  "kernelspec": {
   "display_name": "Python 3",
   "language": "python",
   "name": "python3"
  },
  "language_info": {
   "codemirror_mode": {
    "name": "ipython",
    "version": 3
   },
   "file_extension": ".py",
   "mimetype": "text/x-python",
   "name": "python",
   "nbconvert_exporter": "python",
   "pygments_lexer": "ipython3",
   "version": "3.7.7"
  }
 },
 "nbformat": 4,
 "nbformat_minor": 4
}
