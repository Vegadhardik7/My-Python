{
 "cells": [
  {
   "cell_type": "code",
   "execution_count": 1,
   "metadata": {},
   "outputs": [
    {
     "name": "stdout",
     "output_type": "stream",
     "text": [
      "enter the number1: 15\n",
      "enter the number2: 30\n",
      "15\n"
     ]
    }
   ],
   "source": [
    "def computeGCD(a,b):\n",
    "    if b == 0:\n",
    "        return a\n",
    "    else:\n",
    "        return computeGCD(b,a%b)\n",
    "\n",
    "n1 = int(input(\"enter the number1: \"))\n",
    "n2 = int(input(\"enter the number2: \"))\n",
    "\n",
    "print(computeGCD(n1,n2))"
   ]
  },
  {
   "cell_type": "code",
   "execution_count": 7,
   "metadata": {},
   "outputs": [
    {
     "name": "stdout",
     "output_type": "stream",
     "text": [
      "120\n"
     ]
    }
   ],
   "source": [
    "n = 5\n",
    "f = 1\n",
    "for i in range(1,n+1):\n",
    "    f = f * i\n",
    "print(f)"
   ]
  },
  {
   "cell_type": "markdown",
   "metadata": {},
   "source": [
    "# Anagram\n",
    "\n",
    "An anagram of a string is an another string that contains same characters only the order of characters can be different.\n",
    "\n",
    "Anagram is a word or phase formed by rearranging the letters of a different words or phase, typically using all the original letters exactly once."
   ]
  },
  {
   "cell_type": "code",
   "execution_count": 15,
   "metadata": {},
   "outputs": [
    {
     "name": "stdout",
     "output_type": "stream",
     "text": [
      "Enter the string1: Heat\n",
      "Enter the string2: EatH\n",
      "Both the strings are anagram\n"
     ]
    }
   ],
   "source": [
    "str1 = input(\"Enter the string1: \")\n",
    "str2 = input(\"Enter the string2: \")\n",
    "\n",
    "str1 = str1.lower()\n",
    "str2 = str2.lower()\n",
    "\n",
    "sorted_str1 = sorted(str1)\n",
    "sorted_str2 = sorted(str2)\n",
    "\n",
    "if sorted_str1 == sorted_str2 and len(str1) == len(str2):\n",
    "    print(\"Both the strings are anagram\")\n",
    "else:\n",
    "    print(\"Not an anagram\")"
   ]
  },
  {
   "cell_type": "markdown",
   "metadata": {},
   "source": [
    "# Give 2 Integers are Coprime or not"
   ]
  },
  {
   "cell_type": "markdown",
   "metadata": {},
   "source": [
    "When GCD of 2 num is 1, then that 2 num are called as coprime."
   ]
  },
  {
   "cell_type": "markdown",
   "metadata": {},
   "source": [
    "Example:\n",
    "    \n",
    "    21 ==> 1, 3, 7, 21\n",
    "    \n",
    "    22 ==> 1, 2, 11, 22"
   ]
  },
  {
   "cell_type": "code",
   "execution_count": 18,
   "metadata": {},
   "outputs": [
    {
     "name": "stdout",
     "output_type": "stream",
     "text": [
      "enter the number1: 21\n",
      "enter the number2: 24\n",
      "not coprime number\n"
     ]
    }
   ],
   "source": [
    "def computeGCD(a,b):\n",
    "    if b == 0:\n",
    "        return a\n",
    "    else:\n",
    "        return computeGCD(b,a%b)\n",
    "\n",
    "n1 = int(input(\"enter the number1: \"))\n",
    "n2 = int(input(\"enter the number2: \"))\n",
    "\n",
    "if computeGCD(n1,n2) == 1:\n",
    "    print(\"these are coprime number\")\n",
    "else:\n",
    "    print(\"not coprime number\")"
   ]
  },
  {
   "cell_type": "markdown",
   "metadata": {},
   "source": [
    "### Python Program To Print All The Co Prime Numbers of Specific Number"
   ]
  },
  {
   "cell_type": "code",
   "execution_count": 19,
   "metadata": {},
   "outputs": [
    {
     "name": "stdout",
     "output_type": "stream",
     "text": [
      "enter the number1: 12\n",
      "enter the lower limit: 1\n",
      "enter the upper limit: 20\n",
      "1\n",
      "5\n",
      "7\n",
      "11\n",
      "13\n",
      "17\n",
      "19\n"
     ]
    }
   ],
   "source": [
    "n1 = int(input(\"enter the number1: \"))\n",
    "lower = int(input(\"enter the lower limit: \"))\n",
    "upper = int(input(\"enter the upper limit: \"))\n",
    "\n",
    "\n",
    "for i in range(lower, upper+1):\n",
    "    if computeGCD(n1,i) == 1:\n",
    "        print(i)"
   ]
  },
  {
   "cell_type": "code",
   "execution_count": null,
   "metadata": {},
   "outputs": [],
   "source": []
  }
 ],
 "metadata": {
  "kernelspec": {
   "display_name": "Python 3",
   "language": "python",
   "name": "python3"
  },
  "language_info": {
   "codemirror_mode": {
    "name": "ipython",
    "version": 3
   },
   "file_extension": ".py",
   "mimetype": "text/x-python",
   "name": "python",
   "nbconvert_exporter": "python",
   "pygments_lexer": "ipython3",
   "version": "3.7.7"
  }
 },
 "nbformat": 4,
 "nbformat_minor": 4
}
