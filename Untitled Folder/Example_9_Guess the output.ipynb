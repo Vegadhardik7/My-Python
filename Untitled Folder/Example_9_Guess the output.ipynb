{
 "cells": [
  {
   "cell_type": "code",
   "execution_count": 1,
   "metadata": {},
   "outputs": [
    {
     "name": "stdout",
     "output_type": "stream",
     "text": [
      "[] False\n"
     ]
    }
   ],
   "source": [
    "x = []\n",
    "if x :\n",
    "    print(x,'True')\n",
    "else:\n",
    "    print(x,'False')"
   ]
  },
  {
   "cell_type": "markdown",
   "metadata": {},
   "source": [
    "In python any thing empty is treated as false.\n",
    "\n",
    "[]\n",
    "\n",
    "()\n",
    "\n",
    "{}\n",
    "\n",
    "\"\"\n",
    "\n",
    "None \n",
    "\n",
    "False\n",
    "\n",
    "0"
   ]
  },
  {
   "cell_type": "code",
   "execution_count": 2,
   "metadata": {},
   "outputs": [
    {
     "name": "stdout",
     "output_type": "stream",
     "text": [
      "True\n"
     ]
    }
   ],
   "source": [
    "p = (1,10)\n",
    "q = 0\n",
    "r = []\n",
    "\n",
    "if p or q and r:\n",
    "    print(\"True\")\n",
    "else:\n",
    "    print('False')"
   ]
  },
  {
   "cell_type": "markdown",
   "metadata": {},
   "source": [
    "Order to evaluate expression - Precedence \n",
    "\n",
    "and > or         ===> <b>and</b> has higher precedence than <b>or</b>\n",
    "\n",
    "Therefore, it will first compare <b>q</b> and <b>r</b> and see both are <b>False</b> than it will see the <b>or</b> operator which is not empty i.e <b>True</b>\n",
    "\n",
    "\n",
    "So in <b>or</b> operator any one value is <b>True</b> then <b>True</b> else <b>False</b>\n",
    "\n",
    "AND operator:\n",
    "\n",
    "    T    T    =    T\n",
    "    F    F    =    F\n",
    "    T    F    =    F\n",
    "    F    T    =    F\n",
    "    \n",
    "OR operator:\n",
    "\n",
    "    T    T    =    T\n",
    "    F    F    =    F\n",
    "    T    F    =    T\n",
    "    F    T    =    T"
   ]
  },
  {
   "cell_type": "code",
   "execution_count": 3,
   "metadata": {},
   "outputs": [
    {
     "ename": "KeyboardInterrupt",
     "evalue": "",
     "output_type": "error",
     "traceback": [
      "\u001b[1;31m---------------------------------------------------------------------------\u001b[0m",
      "\u001b[1;31mKeyboardInterrupt\u001b[0m                         Traceback (most recent call last)",
      "\u001b[1;32m<ipython-input-3-2face59c10a6>\u001b[0m in \u001b[0;36m<module>\u001b[1;34m\u001b[0m\n\u001b[0;32m      1\u001b[0m \u001b[0mlst1\u001b[0m \u001b[1;33m=\u001b[0m \u001b[1;33m[\u001b[0m\u001b[1;34m'abc'\u001b[0m\u001b[1;33m,\u001b[0m\u001b[1;34m'123'\u001b[0m\u001b[1;33m]\u001b[0m\u001b[1;33m\u001b[0m\u001b[1;33m\u001b[0m\u001b[0m\n\u001b[0;32m      2\u001b[0m \u001b[1;32mfor\u001b[0m \u001b[0mi\u001b[0m \u001b[1;32min\u001b[0m \u001b[0mlst1\u001b[0m\u001b[1;33m:\u001b[0m\u001b[1;33m\u001b[0m\u001b[1;33m\u001b[0m\u001b[0m\n\u001b[1;32m----> 3\u001b[1;33m     \u001b[0mlst1\u001b[0m\u001b[1;33m.\u001b[0m\u001b[0mappend\u001b[0m\u001b[1;33m(\u001b[0m\u001b[0mi\u001b[0m\u001b[1;33m)\u001b[0m\u001b[1;33m\u001b[0m\u001b[1;33m\u001b[0m\u001b[0m\n\u001b[0m\u001b[0;32m      4\u001b[0m \u001b[0mprint\u001b[0m\u001b[1;33m(\u001b[0m\u001b[0mlst1\u001b[0m\u001b[1;33m)\u001b[0m\u001b[1;33m\u001b[0m\u001b[1;33m\u001b[0m\u001b[0m\n",
      "\u001b[1;31mKeyboardInterrupt\u001b[0m: "
     ]
    }
   ],
   "source": [
    "lst1 = ['abc','123']\n",
    "for i in lst1:\n",
    "    lst1.append(i)\n",
    "print(lst1)"
   ]
  },
  {
   "cell_type": "markdown",
   "metadata": {},
   "source": [
    "We have to interrupt / kill the code since it entered in the infinite loop."
   ]
  },
  {
   "cell_type": "code",
   "execution_count": 4,
   "metadata": {},
   "outputs": [
    {
     "name": "stdout",
     "output_type": "stream",
     "text": [
      "1\n",
      "2\n",
      "3\n",
      "4\n"
     ]
    }
   ],
   "source": [
    "for i in range(1,20):\n",
    "    if i == 5:\n",
    "        break\n",
    "    else:\n",
    "        print(i)\n",
    "else:\n",
    "    print('hello')"
   ]
  },
  {
   "cell_type": "code",
   "execution_count": 6,
   "metadata": {},
   "outputs": [
    {
     "name": "stdout",
     "output_type": "stream",
     "text": [
      "Enter the number:123\n",
      "Sum is  6\n"
     ]
    }
   ],
   "source": [
    "num = int(input(\"Enter the number:\"))\n",
    "res = 0\n",
    "\n",
    "while num > 0:\n",
    "    digit = num%10\n",
    "    res = res + digit\n",
    "    num = num//10\n",
    "print(\"Sum is \",res)"
   ]
  },
  {
   "cell_type": "code",
   "execution_count": 7,
   "metadata": {},
   "outputs": [
    {
     "name": "stdout",
     "output_type": "stream",
     "text": [
      "Enter the number:123\n",
      "Sum is  6\n"
     ]
    }
   ],
   "source": [
    "num = int(input(\"Enter the number:\"))\n",
    "res = 0\n",
    "\n",
    "for i in range(len(str(num))):\n",
    "    digit = num%10\n",
    "    res = res + digit\n",
    "    num = num//10\n",
    "print(\"Sum is \",res)"
   ]
  },
  {
   "cell_type": "code",
   "execution_count": 8,
   "metadata": {},
   "outputs": [
    {
     "name": "stdout",
     "output_type": "stream",
     "text": [
      "[['few', 'words']]\n",
      "['few', 'words']\n",
      "r\n"
     ]
    }
   ],
   "source": [
    "lst = ['there','are','a',['few','words'],'that','we','will','use']\n",
    "print(lst[3:4])\n",
    "print(lst[3:4][0])\n",
    "print(lst[3:4][0][1][2])"
   ]
  },
  {
   "cell_type": "code",
   "execution_count": 2,
   "metadata": {},
   "outputs": [
    {
     "name": "stdout",
     "output_type": "stream",
     "text": [
      "Enter the sentence: hello how are you sir?\n",
      "hello how are you sir?\n",
      "Number of vowels in a given sentence is, 8\n"
     ]
    }
   ],
   "source": [
    "sen = input(\"Enter the sentence: \")\n",
    "string = sen.lower()\n",
    "print(string)\n",
    "cnt = 0\n",
    "\n",
    "lst = ['a','e','i','o','u']\n",
    "\n",
    "for char in string:\n",
    "    if char in lst:\n",
    "        cnt += 1\n",
    "print(\"Number of vowels in a given sentence is,\",cnt)"
   ]
  },
  {
   "cell_type": "code",
   "execution_count": 4,
   "metadata": {},
   "outputs": [
    {
     "name": "stdout",
     "output_type": "stream",
     "text": [
      "5\n"
     ]
    }
   ],
   "source": [
    "lst = ['hardik',1,2,3,4,1.3]\n",
    "print(lst.index(1.3))"
   ]
  },
  {
   "cell_type": "code",
   "execution_count": 5,
   "metadata": {},
   "outputs": [
    {
     "name": "stdout",
     "output_type": "stream",
     "text": [
      "1\n"
     ]
    }
   ],
   "source": [
    "lst = ['hardik',1,1,1,1,2,3,4,1.3]\n",
    "print(lst.index(1))"
   ]
  },
  {
   "cell_type": "code",
   "execution_count": 9,
   "metadata": {},
   "outputs": [
    {
     "name": "stdout",
     "output_type": "stream",
     "text": [
      "[1, 3, 6, 9]\n"
     ]
    }
   ],
   "source": [
    "lst = ['hardik',1,0,1,2,3,1,4,1.3,1]\n",
    "\n",
    "lst_val = [i for i in range(len(lst)) if lst[i] == 1]\n",
    "print(lst_val)"
   ]
  },
  {
   "cell_type": "code",
   "execution_count": 1,
   "metadata": {},
   "outputs": [
    {
     "name": "stdout",
     "output_type": "stream",
     "text": [
      "Element is present at index  3\n"
     ]
    }
   ],
   "source": [
    "# Python3 Program for recursive binary search. \n",
    "  \n",
    "# Returns index of x in arr if present, else -1 \n",
    "def binarySearch (arr, l, r, x): \n",
    "  \n",
    "    # Check base case \n",
    "    if r >= l: \n",
    "  \n",
    "        mid = l + (r - l) // 2\n",
    "  \n",
    "        # If element is present at the middle itself \n",
    "        if arr[mid] == x: \n",
    "            return mid \n",
    "          \n",
    "        # If element is smaller than mid, then it  \n",
    "        # can only be present in left subarray \n",
    "        elif arr[mid] > x: \n",
    "            return binarySearch(arr, l, mid-1, x) \n",
    "  \n",
    "        # Else the element can only be present  \n",
    "        # in right subarray \n",
    "        else: \n",
    "            return binarySearch(arr, mid + 1, r, x) \n",
    "  \n",
    "    else: \n",
    "        # Element is not present in the array \n",
    "        return -1\n",
    "  \n",
    "# Driver Code \n",
    "arr = [ 2, 3, 4, 10, 40 ] \n",
    "x = 10\n",
    "  \n",
    "# Function call \n",
    "result = binarySearch(arr, 0, len(arr)-1, x) \n",
    "  \n",
    "if result != -1: \n",
    "    print (\"Element is present at index % d\" % result) \n",
    "else: \n",
    "    print (\"Element is not present in array\") \n"
   ]
  },
  {
   "cell_type": "code",
   "execution_count": null,
   "metadata": {},
   "outputs": [],
   "source": []
  }
 ],
 "metadata": {
  "kernelspec": {
   "display_name": "Python 3",
   "language": "python",
   "name": "python3"
  },
  "language_info": {
   "codemirror_mode": {
    "name": "ipython",
    "version": 3
   },
   "file_extension": ".py",
   "mimetype": "text/x-python",
   "name": "python",
   "nbconvert_exporter": "python",
   "pygments_lexer": "ipython3",
   "version": "3.7.7"
  }
 },
 "nbformat": 4,
 "nbformat_minor": 4
}
