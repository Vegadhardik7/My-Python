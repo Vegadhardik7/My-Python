{
 "cells": [
  {
   "cell_type": "code",
   "execution_count": 1,
   "metadata": {},
   "outputs": [
    {
     "name": "stdout",
     "output_type": "stream",
     "text": [
      "Enter the number:10\n",
      "1\n",
      "12\n",
      "123\n",
      "1234\n",
      "12345\n",
      "123456\n",
      "1234567\n",
      "12345678\n",
      "123456789\n",
      "12345678910\n"
     ]
    }
   ],
   "source": [
    "n = int(input(\"Enter the number:\"))\n",
    "\n",
    "for i in range(1, n+1):\n",
    "    for j in range(1, i+1):\n",
    "        print(j,end='')\n",
    "    print()"
   ]
  },
  {
   "cell_type": "code",
   "execution_count": 2,
   "metadata": {},
   "outputs": [
    {
     "name": "stdout",
     "output_type": "stream",
     "text": [
      "Enter the number:5\n",
      "1\n",
      "22\n",
      "333\n",
      "4444\n",
      "55555\n"
     ]
    }
   ],
   "source": [
    "n = int(input(\"Enter the number:\"))\n",
    "\n",
    "for i in range(1, n+1):\n",
    "    for j in range(1, i+1):\n",
    "        print(i,end='')\n",
    "    print()"
   ]
  },
  {
   "cell_type": "code",
   "execution_count": 3,
   "metadata": {},
   "outputs": [
    {
     "name": "stdout",
     "output_type": "stream",
     "text": [
      "Enter the number:5\n",
      "*    \n",
      "**   \n",
      "* *  \n",
      "*  * \n",
      "*****\n"
     ]
    }
   ],
   "source": [
    "n = int(input(\"Enter the number:\"))\n",
    "\n",
    "for row in range(n):\n",
    "    for col in range(n):\n",
    "        if col == 0 or row == (n-1) or row == col:\n",
    "            print(\"*\",end='')\n",
    "        else:\n",
    "            print(end=\" \")\n",
    "    print()"
   ]
  },
  {
   "cell_type": "code",
   "execution_count": 4,
   "metadata": {},
   "outputs": [
    {
     "name": "stdout",
     "output_type": "stream",
     "text": [
      "Enter the number:5\n",
      "*****\n",
      " *  *\n",
      "  * *\n",
      "   **\n",
      "    *\n"
     ]
    }
   ],
   "source": [
    "n = int(input(\"Enter the number:\"))\n",
    "\n",
    "for row in range(n):\n",
    "    for col in range(n):\n",
    "        if col == n-1 or row == 0 or row == col:\n",
    "            print(\"*\",end='')\n",
    "        else:\n",
    "            print(end=\" \")\n",
    "    print()"
   ]
  },
  {
   "cell_type": "code",
   "execution_count": 5,
   "metadata": {},
   "outputs": [
    {
     "name": "stdout",
     "output_type": "stream",
     "text": [
      "Enter the number:5\n",
      "1\n",
      "23\n",
      "345\n",
      "4567\n",
      "56789\n"
     ]
    }
   ],
   "source": [
    "n = int(input(\"Enter the number:\"))\n",
    "\n",
    "for i in range(1, n+1):\n",
    "    for j in range(0,i):\n",
    "        print(i+j,end='')\n",
    "    print()"
   ]
  },
  {
   "cell_type": "code",
   "execution_count": 6,
   "metadata": {},
   "outputs": [
    {
     "name": "stdout",
     "output_type": "stream",
     "text": [
      "Enter the number:5\n",
      "1\n",
      "23\n",
      "456\n",
      "78910\n",
      "1112131415\n"
     ]
    }
   ],
   "source": [
    "n = int(input(\"Enter the number:\"))\n",
    "\n",
    "num = 1 \n",
    "\n",
    "for i in range(1, n+1):\n",
    "    for j in range(1,i+1):\n",
    "        print(num,end='')\n",
    "        num+=1\n",
    "    print()"
   ]
  },
  {
   "cell_type": "code",
   "execution_count": 7,
   "metadata": {},
   "outputs": [
    {
     "name": "stdout",
     "output_type": "stream",
     "text": [
      "Enter the name:5\n",
      "5\n"
     ]
    }
   ],
   "source": [
    "name = input(\"Enter the name:\")\n",
    "\n",
    "n = len(name)\n",
    "\n",
    "for i in range(n):\n",
    "    for j in range(i+1):\n",
    "            print(name[j], end=\"\")\n",
    "    print()"
   ]
  },
  {
   "cell_type": "code",
   "execution_count": 8,
   "metadata": {},
   "outputs": [
    {
     "name": "stdout",
     "output_type": "stream",
     "text": [
      "P\n",
      "Y\n",
      "T\n",
      "H\n",
      "O\n",
      "N\n"
     ]
    }
   ],
   "source": [
    "name = 'PYTHON'\n",
    "\n",
    "n = len(str(name))\n",
    "\n",
    "for k in range(0,n):\n",
    "    print(name[k])"
   ]
  },
  {
   "cell_type": "code",
   "execution_count": 56,
   "metadata": {},
   "outputs": [
    {
     "name": "stdout",
     "output_type": "stream",
     "text": [
      "0\n",
      "1\n",
      "1\n",
      "2\n",
      "3\n"
     ]
    }
   ],
   "source": [
    "# Fibonacci\n",
    "\n",
    "n = 5\n",
    "n1,n2 = 0,1\n",
    "cnt = 0\n",
    "while cnt<n:\n",
    "    print(n1)\n",
    "    nth = n1+n2\n",
    "    n1 = n2\n",
    "    n2 = nth\n",
    "    cnt+=1"
   ]
  },
  {
   "cell_type": "code",
   "execution_count": 24,
   "metadata": {},
   "outputs": [
    {
     "name": "stdout",
     "output_type": "stream",
     "text": [
      "Enter the number:5\n",
      "00000\n",
      "11111\n",
      "22222\n",
      "33333\n",
      "44444\n",
      "55555\n"
     ]
    }
   ],
   "source": [
    "n = int(input(\"Enter the number:\"))\n",
    "\n",
    "for row in range(n+1):\n",
    "    for col in range(1,n+1):\n",
    "        print(row,end=\"\")\n",
    "    print()"
   ]
  },
  {
   "cell_type": "code",
   "execution_count": 46,
   "metadata": {},
   "outputs": [
    {
     "name": "stdout",
     "output_type": "stream",
     "text": [
      "1\n",
      "12\n",
      "123\n",
      "1234\n",
      "12345\n"
     ]
    }
   ],
   "source": [
    "for i in range(1,5+1):\n",
    "    for j in range(1,i+1):\n",
    "        print(j,end=\"\")\n",
    "    print()"
   ]
  },
  {
   "cell_type": "code",
   "execution_count": 38,
   "metadata": {},
   "outputs": [
    {
     "name": "stdout",
     "output_type": "stream",
     "text": [
      "Enter the number:5\n",
      "*****\n",
      " *  *\n",
      "  * *\n",
      "   **\n",
      "    *\n"
     ]
    }
   ],
   "source": [
    "n = int(input(\"Enter the number:\"))\n",
    "\n",
    "for row in range(n):\n",
    "    for col in range(n):\n",
    "        if col == n-1 or row == 0 or row == col:\n",
    "            print(\"*\",end='')\n",
    "        else:\n",
    "            print(end=\" \")\n",
    "    print()"
   ]
  },
  {
   "cell_type": "code",
   "execution_count": 47,
   "metadata": {},
   "outputs": [
    {
     "name": "stdout",
     "output_type": "stream",
     "text": [
      "Enter the number:5\n",
      "12345\n",
      "1234\n",
      "123\n",
      "12\n",
      "1\n"
     ]
    }
   ],
   "source": [
    "n = int(input(\"Enter the number:\"))\n",
    "\n",
    "for row in range(n,0,-1):\n",
    "    for col in range(1,row+1):\n",
    "        print(col, end=\"\")\n",
    "    print()"
   ]
  },
  {
   "cell_type": "code",
   "execution_count": 48,
   "metadata": {},
   "outputs": [
    {
     "name": "stdout",
     "output_type": "stream",
     "text": [
      "Enter the number:5\n",
      "55555\n",
      "4444\n",
      "333\n",
      "22\n",
      "1\n"
     ]
    }
   ],
   "source": [
    "n = int(input(\"Enter the number:\"))\n",
    "\n",
    "for row in range(n,0,-1):\n",
    "    for col in range(1,row+1):\n",
    "        print(row, end=\"\")\n",
    "    print()"
   ]
  },
  {
   "cell_type": "code",
   "execution_count": 54,
   "metadata": {},
   "outputs": [
    {
     "name": "stdout",
     "output_type": "stream",
     "text": [
      "5\n",
      "4\n",
      "3\n",
      "2\n",
      "1\n"
     ]
    }
   ],
   "source": [
    "n = 5\n",
    "for i in range(n,0,-1):\n",
    "    print(i)"
   ]
  },
  {
   "cell_type": "code",
   "execution_count": 53,
   "metadata": {},
   "outputs": [
    {
     "name": "stdout",
     "output_type": "stream",
     "text": [
      "1\n",
      "2\n",
      "3\n",
      "4\n",
      "5\n"
     ]
    }
   ],
   "source": [
    "n = 5\n",
    "for j in range(1,n+1):\n",
    "    print(j)"
   ]
  },
  {
   "cell_type": "code",
   "execution_count": 22,
   "metadata": {},
   "outputs": [
    {
     "name": "stdout",
     "output_type": "stream",
     "text": [
      "   x   \n",
      "  x x  \n",
      " x   x \n",
      "xxxxxxx\n"
     ]
    }
   ],
   "source": [
    "for row in range(1,5):\n",
    "    for col in range(1,8):\n",
    "        if row == 4 or row+col==5 or col-row==3:\n",
    "            print('x',end=\"\")\n",
    "        else:\n",
    "            print(end=\" \")\n",
    "    print()"
   ]
  },
  {
   "cell_type": "code",
   "execution_count": 23,
   "metadata": {},
   "outputs": [
    {
     "name": "stdout",
     "output_type": "stream",
     "text": [
      "enter the number:5\n",
      "    x    \n",
      "   x x   \n",
      "  x   x  \n",
      " x     x \n",
      "xxxxxxxxx\n"
     ]
    }
   ],
   "source": [
    "n = int(input(\"enter the number:\"))\n",
    "\n",
    "for row in range(1, n+1):\n",
    "    for col in range(1, 2*n):\n",
    "        if row==n or row+col== n+1 or col-row==n-1:\n",
    "            print('x',end=\"\")\n",
    "        else:\n",
    "            print(end=\" \")\n",
    "    print()"
   ]
  },
  {
   "cell_type": "code",
   "execution_count": 16,
   "metadata": {},
   "outputs": [
    {
     "name": "stdout",
     "output_type": "stream",
     "text": [
      "Enter the number:5\n",
      "    *    \n",
      "   * *   \n",
      "  *   *  \n",
      " *     * \n",
      "* * * * *\n"
     ]
    }
   ],
   "source": [
    "n = int(input(\"Enter the number:\"))\n",
    "k = 2\n",
    "\n",
    "for row in range(1,n+1):\n",
    "    for col in range(1,2*n):\n",
    "        if row+col==n+1 or col-row==n-1:\n",
    "            print(\"*\",end=\"\")\n",
    "        elif row==n and col != k:\n",
    "            print(\"*\", end=\"\")\n",
    "            k += 2\n",
    "        else:\n",
    "            print(end=\" \")\n",
    "    print()"
   ]
  },
  {
   "cell_type": "code",
   "execution_count": 15,
   "metadata": {},
   "outputs": [
    {
     "name": "stdout",
     "output_type": "stream",
     "text": [
      "enter the number:5\n",
      "* \n",
      "* * \n",
      "* * * \n",
      "* * * * \n",
      "* * * * * \n"
     ]
    }
   ],
   "source": [
    "n = int(input(\"enter the number:\"))\n",
    "for i in range(1,n+1):\n",
    "    for j in range(i):\n",
    "        print(\"*\",end=\" \")\n",
    "    print(end= \"\\n\")"
   ]
  },
  {
   "cell_type": "code",
   "execution_count": 11,
   "metadata": {},
   "outputs": [
    {
     "name": "stdout",
     "output_type": "stream",
     "text": [
      "Enter the number:5\n",
      "* \n",
      "* * \n",
      "* * * \n",
      "* * * * \n",
      "* * * * * \n"
     ]
    }
   ],
   "source": [
    "num = int(input(\"Enter the number:\"))\n",
    "row = 0\n",
    "while row < num:\n",
    "    star = row+1\n",
    "    while star>0:\n",
    "        print(\"*\",end=\" \")\n",
    "        star = star-1\n",
    "    row = row+1\n",
    "    print()"
   ]
  },
  {
   "cell_type": "code",
   "execution_count": 20,
   "metadata": {},
   "outputs": [
    {
     "name": "stdout",
     "output_type": "stream",
     "text": [
      "Enter the number:5\n",
      "*\n",
      "**\n",
      "**\n",
      "**\n",
      "**\n"
     ]
    }
   ],
   "source": [
    "n = int(input(\"Enter the number:\"))\n",
    "\n",
    "for row in range(1,n+1):\n",
    "    for col in range(1,2*n):\n",
    "        if row+col == n+1 or col-row == n-1:\n",
    "            print(\"*\",end=\"\")\n",
    "    print()"
   ]
  },
  {
   "cell_type": "code",
   "execution_count": 23,
   "metadata": {},
   "outputs": [
    {
     "name": "stdout",
     "output_type": "stream",
     "text": [
      "Enter the number:5\n",
      "    * \n",
      "   * * \n",
      "  * * * \n",
      " * * * * \n",
      "* * * * * \n"
     ]
    }
   ],
   "source": [
    "num = int(input(\"Enter the number:\"))\n",
    "row = 0\n",
    "\n",
    "while row < num:\n",
    "    space = num-row-1\n",
    "    while space > 0:\n",
    "        print(end=\" \")\n",
    "        space = space-1\n",
    "    star = row+1\n",
    "    while star > 0:\n",
    "        print(\"*\", end = \" \")\n",
    "        star = star-1\n",
    "    row = row+1\n",
    "    print()"
   ]
  },
  {
   "cell_type": "code",
   "execution_count": 25,
   "metadata": {},
   "outputs": [
    {
     "name": "stdout",
     "output_type": "stream",
     "text": [
      "Enter the number:5\n",
      "    * \n",
      "   * * \n",
      "  * * * \n",
      " * * * * \n",
      "* * * * * \n"
     ]
    }
   ],
   "source": [
    "num = int(input(\"Enter the number:\"))\n",
    "for i in range(0, num):\n",
    "        for j in range(0,num-i-1):\n",
    "            print(end=\" \")\n",
    "        for j in range(0,i+1):\n",
    "            print(\"*\",end=\" \")\n",
    "        print()"
   ]
  },
  {
   "cell_type": "code",
   "execution_count": 26,
   "metadata": {},
   "outputs": [
    {
     "name": "stdout",
     "output_type": "stream",
     "text": [
      "Enter the number:5\n",
      "    * \n",
      "   * * \n",
      "  * * * \n",
      " * * * * \n",
      "* * * * * \n"
     ]
    }
   ],
   "source": [
    "num = int(input(\"Enter the number:\"))\n",
    "\n",
    "for i in range(0,num):\n",
    "    for j in range(0,num-i-1):\n",
    "        print(end=\" \")\n",
    "    for j in range(0,i+1):\n",
    "        print('*',end=\" \")\n",
    "    print()"
   ]
  },
  {
   "cell_type": "code",
   "execution_count": 30,
   "metadata": {},
   "outputs": [
    {
     "name": "stdout",
     "output_type": "stream",
     "text": [
      "      * * * * * \n",
      "       * * * * \n",
      "        * * * \n",
      "         * * \n",
      "          * \n"
     ]
    }
   ],
   "source": [
    "def pattern(n):\n",
    "    k = 2*n-2\n",
    "    for i in range(n,-1,-1):\n",
    "        for j in range(k,0,-1):\n",
    "            print(end=\" \")\n",
    "        k = k+1\n",
    "        for j in range(0,i+1):\n",
    "            print(\"*\",end=\" \")\n",
    "        print()\n",
    "pattern(4)"
   ]
  },
  {
   "cell_type": "code",
   "execution_count": 14,
   "metadata": {},
   "outputs": [
    {
     "name": "stdout",
     "output_type": "stream",
     "text": [
      "   *   \n",
      "  * *  \n",
      " *   * \n",
      "*     *\n",
      " *   * \n",
      "  * *  \n",
      "   *   \n"
     ]
    }
   ],
   "source": [
    "for row in range(7):\n",
    "    for col in range(7):\n",
    "        if row + col == 3 or col - row == 3 or row - col == 3 or row + col == 9:\n",
    "            print(\"*\", end = \"\")\n",
    "        else:\n",
    "            print(end=\" \")\n",
    "    print()"
   ]
  },
  {
   "cell_type": "code",
   "execution_count": 15,
   "metadata": {},
   "outputs": [
    {
     "name": "stdout",
     "output_type": "stream",
     "text": [
      "Enter the string: Hardik\n",
      "kidraH\n"
     ]
    }
   ],
   "source": [
    "string = input(\"Enter the string: \")\n",
    "print(string[::-1])"
   ]
  },
  {
   "cell_type": "code",
   "execution_count": 6,
   "metadata": {},
   "outputs": [
    {
     "name": "stdout",
     "output_type": "stream",
     "text": [
      "Enter the number of row:5\n",
      "0\t0\t0\t0\t0\t\n",
      "0\t0\t0\t0\t0\t\n",
      "0\t0\t0\t0\t0\t\n",
      "0\t0\t0\t0\t0\t\n",
      "0\t0\t0\t0\t0\t\n"
     ]
    }
   ],
   "source": [
    "num = int(input('Enter the number of row:'))\n",
    "\n",
    "lst = [[0 for x in range(num)] for y in range(num)]\n",
    "for i in range(num):\n",
    "    for j in range(num):\n",
    "        print(lst[i][j],end='\\t')\n",
    "    print()"
   ]
  },
  {
   "cell_type": "code",
   "execution_count": 7,
   "metadata": {},
   "outputs": [
    {
     "name": "stdout",
     "output_type": "stream",
     "text": [
      "Enter the number of row:5\n",
      "1\t2\t3\t4\t5\t\n",
      "16\t17\t18\t19\t6\t\n",
      "15\t24\t25\t20\t7\t\n",
      "14\t23\t22\t21\t8\t\n",
      "13\t12\t11\t10\t9\t\n"
     ]
    }
   ],
   "source": [
    "num = int(input('Enter the number of row:'))\n",
    "\n",
    "lst = [[0 for x in range(num)] for y in range(num)]\n",
    "\n",
    "n = 1\n",
    "low = 0\n",
    "high = num - 1\n",
    "cnt = int((num+1)/2)\n",
    "\n",
    "for i in range(cnt):\n",
    "    for j in range(low, high+1):\n",
    "        lst[i][j] = n\n",
    "        n = n+1\n",
    "    for j in range(low+1, high+1):\n",
    "        lst[j][high] = n\n",
    "        n = n+1\n",
    "    for j in range(high-1, low-1, -1):\n",
    "        lst[high][j] = n\n",
    "        n = n+1\n",
    "    for j in range(high-1, low, -1):\n",
    "        lst[j][low] = n\n",
    "        n = n+1\n",
    "    low = low+1\n",
    "    high = high - 1\n",
    "        \n",
    "    \n",
    "for i in range(num):\n",
    "    for j in range(num):\n",
    "        print(lst[i][j],end='\\t')\n",
    "    print()"
   ]
  },
  {
   "cell_type": "code",
   "execution_count": 1,
   "metadata": {},
   "outputs": [
    {
     "name": "stdout",
     "output_type": "stream",
     "text": [
      "Enter the number:5\n",
      "1   \n",
      "2   3   \n",
      "4   5   6   \n",
      "7   8   9   10  \n",
      "11  12  13  14  15  \n"
     ]
    }
   ],
   "source": [
    "n = int(input(\"Enter the number:\"))\n",
    "x = 1\n",
    "for i in range(n):\n",
    "    for j in range(i+1):\n",
    "        print(format(x,\"<4\"),end='')\n",
    "        x=x+1\n",
    "    print()"
   ]
  },
  {
   "cell_type": "code",
   "execution_count": 4,
   "metadata": {},
   "outputs": [
    {
     "name": "stdout",
     "output_type": "stream",
     "text": [
      "Enter the number:5\n",
      "    1\n",
      "   212\n",
      "  32123\n",
      " 4321234\n",
      "543212345\n"
     ]
    }
   ],
   "source": [
    "num = int(input('Enter the number:'))\n",
    "for i in range(1, num+1):\n",
    "    for j in range(1, num-i+1):\n",
    "        print(end=' ')\n",
    "    for j in range(i,0,-1):\n",
    "        print(j,end='')\n",
    "    for j in range(2,i+1):\n",
    "        print(j,end='')\n",
    "    print()"
   ]
  },
  {
   "cell_type": "code",
   "execution_count": 9,
   "metadata": {},
   "outputs": [
    {
     "name": "stdout",
     "output_type": "stream",
     "text": [
      "Enter the number:5\n",
      "            1     \n",
      "         2     3     \n",
      "      4     5     6     \n",
      "   7     8     9     10    \n",
      "11    12    13    14    15    \n"
     ]
    }
   ],
   "source": [
    "num = int(input(\"Enter the number:\"))\n",
    "n = 1\n",
    "for i in range(num):\n",
    "    for j in range(num-i-1):\n",
    "        print(format(\" \",\"<3\"),end='')\n",
    "    for j in range(i+1):\n",
    "        print(format(n,'<6'),end='')\n",
    "        n+=1\n",
    "    print()"
   ]
  },
  {
   "cell_type": "code",
   "execution_count": null,
   "metadata": {},
   "outputs": [],
   "source": []
  }
 ],
 "metadata": {
  "kernelspec": {
   "display_name": "Python 3",
   "language": "python",
   "name": "python3"
  },
  "language_info": {
   "codemirror_mode": {
    "name": "ipython",
    "version": 3
   },
   "file_extension": ".py",
   "mimetype": "text/x-python",
   "name": "python",
   "nbconvert_exporter": "python",
   "pygments_lexer": "ipython3",
   "version": "3.7.7"
  }
 },
 "nbformat": 4,
 "nbformat_minor": 4
}
