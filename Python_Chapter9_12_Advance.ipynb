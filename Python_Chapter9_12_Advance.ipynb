{
 "cells": [
  {
   "cell_type": "markdown",
   "metadata": {},
   "source": [
    "# Exception Handling in Python"
   ]
  },
  {
   "cell_type": "markdown",
   "metadata": {},
   "source": [
    "There are many built-in exceptions which are raised in python when something goes wrong.\n",
    "\n",
    "Exceptions in python can be handled using a try statement. The code that handles the exception is written in the except clause."
   ]
  },
  {
   "cell_type": "markdown",
   "metadata": {},
   "source": [
    "\n",
    "Syntax:\n",
    "\n",
    "    try:\n",
    "        #code               <========== Code which might throw exception\n",
    "    except Exception as e:\n",
    "        print(e)"
   ]
  },
  {
   "cell_type": "markdown",
   "metadata": {},
   "source": [
    "When the exception is handled, the code flow continues without programming interruption.\n",
    "\n",
    "We can also specify the exceptions to catch like below:\n",
    "\n",
    "Syntax:\n",
    "    \n",
    "    try:\n",
    "        #code\n",
    "    except ZeroDivisionError:\n",
    "        #code\n",
    "    except TypeError:\n",
    "        #code\n",
    "    except:\n",
    "        #code                   <========= All other exceptions are handled here"
   ]
  },
  {
   "cell_type": "code",
   "execution_count": 5,
   "metadata": {},
   "outputs": [
    {
     "name": "stdout",
     "output_type": "stream",
     "text": [
      "Press q to quit\n",
      "Enter the number:H\n",
      "Please Enter Integer Values only\n",
      "Press q to quit\n",
      "Enter the number:q\n",
      "Thank you\n"
     ]
    }
   ],
   "source": [
    "while(True):\n",
    "    print(\"Press q to quit\")\n",
    "    a = input(\"Enter the number:\")\n",
    "    if a == 'q':\n",
    "        break\n",
    "        \n",
    "    try:\n",
    "        a = int(a)\n",
    "        if a > 6:\n",
    "            print(\"You entered a nunber which is greater than 6\")\n",
    "    except Exception as e:\n",
    "        print(\"Please Enter Integer Values only\")\n",
    "print(\"Thank you\")"
   ]
  },
  {
   "cell_type": "markdown",
   "metadata": {},
   "source": [
    "#### multi class exception"
   ]
  },
  {
   "cell_type": "code",
   "execution_count": 9,
   "metadata": {},
   "outputs": [
    {
     "name": "stdout",
     "output_type": "stream",
     "text": [
      "Enter the number:0\n",
      "Please enter non-zero interger value\n",
      "Thank you!!!\n"
     ]
    }
   ],
   "source": [
    "try:\n",
    "    a = int(input(\"Enter the number:\"))\n",
    "    c = 1/a\n",
    "    print(c)\n",
    "except ValueError as e:\n",
    "    print(\"Please enter integer value\")\n",
    "#     print(e)\n",
    "except ZeroDivisionError as e:\n",
    "    print(\"Please enter non-zero interger value\")\n",
    "#     print(e)\n",
    "    \n",
    "print(\"Thank you!!!\")"
   ]
  },
  {
   "cell_type": "markdown",
   "metadata": {},
   "source": [
    "# Raising Exception"
   ]
  },
  {
   "cell_type": "code",
   "execution_count": 14,
   "metadata": {},
   "outputs": [
    {
     "name": "stdout",
     "output_type": "stream",
     "text": [
      "3\n"
     ]
    }
   ],
   "source": [
    "def increment(num):\n",
    "    try:\n",
    "        return int(num) + 1\n",
    "    except:\n",
    "        raise ValueError(\"This is not good\")\n",
    "        \n",
    "a = increment(2)\n",
    "print(a)"
   ]
  },
  {
   "cell_type": "code",
   "execution_count": 18,
   "metadata": {},
   "outputs": [
    {
     "name": "stdout",
     "output_type": "stream",
     "text": [
      "Enter the number:asd\n",
      "invalid literal for int() with base 10: 'asd'\n"
     ]
    }
   ],
   "source": [
    "try:\n",
    "    i = int(input(\"Enter the number:\"))\n",
    "    c = 1/i\n",
    "    print(c)\n",
    "except Exception as e:\n",
    "    print(e)\n",
    "else:\n",
    "    print(\"we are successfull\")"
   ]
  },
  {
   "cell_type": "markdown",
   "metadata": {},
   "source": [
    "# Try with Finally"
   ]
  },
  {
   "cell_type": "markdown",
   "metadata": {},
   "source": [
    "Python offers a finally clause which ensures execuition of a piece of code irrespective of the exception.\n",
    "\n",
    "Syntax:\n",
    "\n",
    "    try:\n",
    "        #some code\n",
    "    except:\n",
    "        #some code\n",
    "    finally:\n",
    "            #some code               <====== Executed regardless of error"
   ]
  },
  {
   "cell_type": "code",
   "execution_count": 1,
   "metadata": {},
   "outputs": [
    {
     "name": "stdout",
     "output_type": "stream",
     "text": [
      "Enter the number:8\n",
      "0.125\n",
      "we are successfull\n"
     ]
    }
   ],
   "source": [
    "try:\n",
    "    i = int(input(\"Enter the number:\"))\n",
    "    c = 1/i\n",
    "    print(c)\n",
    "    \n",
    "except Exception as e:\n",
    "    print(e)\n",
    "    exit()\n",
    "\n",
    "finally:                              # <=== It will exicute no matter what\n",
    "    print(\"we are successfull\")\n"
   ]
  },
  {
   "cell_type": "markdown",
   "metadata": {},
   "source": [
    "# if \\_\\_name_\\_ == '\\_\\_main_\\_\\' in Python"
   ]
  },
  {
   "cell_type": "markdown",
   "metadata": {},
   "source": [
    "\\_\\_name_\\_ evaluates to the name of the module in Python from where the program is ran.\n",
    "\n",
    "If the module is being run directly from the command line, the \\_\\_name_\\_ is set to string \"\\_\\_main_\\_\".\n",
    "\n",
    "Thus this behaviour is used to check whether the model is run directly or imported to another file."
   ]
  },
  {
   "cell_type": "code",
   "execution_count": 6,
   "metadata": {},
   "outputs": [
    {
     "name": "stdout",
     "output_type": "stream",
     "text": [
      "Enter a name:\n",
      "HArdidk\n",
      "Good Morning HArdidk\n"
     ]
    }
   ],
   "source": [
    "def greet1(name):\n",
    "    print(f\"Good Morning {name}\")\n",
    "    \n",
    "n = input(\"Enter a name:\\n\")\n",
    "\n",
    "greet1(n)"
   ]
  },
  {
   "cell_type": "markdown",
   "metadata": {},
   "source": [
    "Let's say we create a new python file where we only want to import the function and not the whole command. At that time we use  \n",
    "\n",
    "if \\_\\_name_\\_ == '\\_\\_main_\\_\\' in Python "
   ]
  },
  {
   "cell_type": "code",
   "execution_count": 7,
   "metadata": {},
   "outputs": [
    {
     "name": "stdout",
     "output_type": "stream",
     "text": [
      "Enter a name:\n",
      "Hardik\n",
      "Good Morning Hardik\n"
     ]
    }
   ],
   "source": [
    "def greet(name):\n",
    "    print(f\"Good Morning {name}\")\n",
    "    \n",
    "# print(__name__)            \n",
    "\n",
    "if __name__ == '__main__':\n",
    "    n = input(\"Enter a name:\\n\")\n",
    "    greet(n)"
   ]
  },
  {
   "cell_type": "markdown",
   "metadata": {},
   "source": [
    "# global Keyword"
   ]
  },
  {
   "cell_type": "markdown",
   "metadata": {},
   "source": [
    "global keyword is used to modify the variable outside of the current scope."
   ]
  },
  {
   "cell_type": "code",
   "execution_count": 1,
   "metadata": {},
   "outputs": [
    {
     "name": "stdout",
     "output_type": "stream",
     "text": [
      "8\n",
      "55\n"
     ]
    }
   ],
   "source": [
    "a = 55           # Global Variable\n",
    "def fun1():\n",
    "    a = 8        # Local Variable \n",
    "    print(a)\n",
    "\n",
    "fun1()\n",
    "print(a)"
   ]
  },
  {
   "cell_type": "code",
   "execution_count": 2,
   "metadata": {},
   "outputs": [
    {
     "name": "stdout",
     "output_type": "stream",
     "text": [
      "8\n",
      "8\n"
     ]
    }
   ],
   "source": [
    "a = 55           # Global Variable\n",
    "def fun1():\n",
    "    global a\n",
    "    a = 8        # Local Variable \n",
    "    print(a)\n",
    "\n",
    "fun1()\n",
    "print(a)"
   ]
  },
  {
   "cell_type": "code",
   "execution_count": 3,
   "metadata": {},
   "outputs": [
    {
     "name": "stdout",
     "output_type": "stream",
     "text": [
      "55\n",
      "8\n",
      "8\n"
     ]
    }
   ],
   "source": [
    "a = 55           \n",
    "def fun1():\n",
    "    global a\n",
    "    print(a)     # Global Variable\n",
    "    a = 8        \n",
    "    print(a)     # Changed Global Variable \n",
    "\n",
    "fun1()\n",
    "print(a)         # Changed Global Variable "
   ]
  },
  {
   "cell_type": "code",
   "execution_count": 7,
   "metadata": {},
   "outputs": [
    {
     "name": "stdout",
     "output_type": "stream",
     "text": [
      "Print statement 1: 55\n",
      "Print statement 2: 8\n",
      "Print statement 3: 8\n"
     ]
    }
   ],
   "source": [
    "a = 55           \n",
    "def fun1():\n",
    "    global a\n",
    "    print(f\"Print statement 1: {a}\")     # Global Variable\n",
    "    a = 8        \n",
    "    print(f\"Print statement 2: {a}\")     # Changed Global Variable \n",
    "\n",
    "fun1()\n",
    "print(f\"Print statement 3: {a}\")         # Changed Global Variable "
   ]
  },
  {
   "cell_type": "markdown",
   "metadata": {},
   "source": [
    "# enumerate funtion in Python"
   ]
  },
  {
   "cell_type": "markdown",
   "metadata": {},
   "source": [
    "The enumerate function adds counter to an iterable and return it."
   ]
  },
  {
   "cell_type": "code",
   "execution_count": 8,
   "metadata": {},
   "outputs": [
    {
     "name": "stdout",
     "output_type": "stream",
     "text": [
      "1\n",
      "2\n",
      "3\n",
      "False\n",
      "5.5\n",
      "Hardik\n"
     ]
    }
   ],
   "source": [
    "lst = [1,2,3,False,5.5,\"Hardik\"]\n",
    "for item in lst:\n",
    "    print(item)"
   ]
  },
  {
   "cell_type": "code",
   "execution_count": 9,
   "metadata": {},
   "outputs": [
    {
     "name": "stdout",
     "output_type": "stream",
     "text": [
      "1 0\n",
      "2 1\n",
      "3 2\n",
      "False 3\n",
      "5.5 4\n",
      "Hardik 5\n"
     ]
    }
   ],
   "source": [
    "lst = [1,2,3,False,5.5,\"Hardik\"]\n",
    "index = 0\n",
    "for item in lst:\n",
    "    print(item, index)\n",
    "    index += 1 "
   ]
  },
  {
   "cell_type": "code",
   "execution_count": 10,
   "metadata": {},
   "outputs": [
    {
     "name": "stdout",
     "output_type": "stream",
     "text": [
      "0 1\n",
      "1 2\n",
      "2 3\n",
      "3 False\n",
      "4 5.5\n",
      "5 Hardik\n"
     ]
    }
   ],
   "source": [
    "lst = [1,2,3,False,5.5,\"Hardik\"]\n",
    "for index, item in enumerate(lst):\n",
    "    print(index, item)"
   ]
  },
  {
   "cell_type": "markdown",
   "metadata": {},
   "source": [
    "# List Comprehension"
   ]
  },
  {
   "cell_type": "markdown",
   "metadata": {},
   "source": [
    "List comprehension is an elegant way to create list based om existing lists."
   ]
  },
  {
   "cell_type": "code",
   "execution_count": 14,
   "metadata": {},
   "outputs": [
    {
     "name": "stdout",
     "output_type": "stream",
     "text": [
      "[100, 52, 24]\n"
     ]
    }
   ],
   "source": [
    "lst = [100,52,13,24,25]\n",
    "a = []\n",
    "for item in lst:\n",
    "    if item % 2 == 0:\n",
    "        a.append(item)\n",
    "        \n",
    "print(a)"
   ]
  },
  {
   "cell_type": "code",
   "execution_count": 16,
   "metadata": {},
   "outputs": [
    {
     "name": "stdout",
     "output_type": "stream",
     "text": [
      "[100, 52, 24]\n"
     ]
    }
   ],
   "source": [
    "lst = [100,52,13,24,25]\n",
    "\n",
    "b = [i for i in lst if i%2==0]\n",
    "print(b)"
   ]
  },
  {
   "cell_type": "markdown",
   "metadata": {},
   "source": [
    "# Set Comprehension"
   ]
  },
  {
   "cell_type": "code",
   "execution_count": 18,
   "metadata": {},
   "outputs": [
    {
     "name": "stdout",
     "output_type": "stream",
     "text": [
      "{100, 13, 52, 24, 25}\n"
     ]
    }
   ],
   "source": [
    "lst = [100,52,13,24,25,24,25,100,13,13]\n",
    "\n",
    "s = { i for i in lst}\n",
    "print(s)"
   ]
  },
  {
   "cell_type": "markdown",
   "metadata": {},
   "source": [
    "----------------------------------------------------------------------------------------"
   ]
  },
  {
   "cell_type": "markdown",
   "metadata": {},
   "source": [
    "##### Q) Write a program to open 3 file file1.txt, file2.txt, file3.txt. If any of these file are not present, a message without existing the program must be printed prompting the same."
   ]
  },
  {
   "cell_type": "code",
   "execution_count": 21,
   "metadata": {},
   "outputs": [
    {
     "name": "stdout",
     "output_type": "stream",
     "text": [
      "This is file1.txt\n",
      "This is file2.txt\n",
      "This is file3.txt\n"
     ]
    }
   ],
   "source": [
    "def readfiles(filename):\n",
    "    with open(filename,\"r\") as f:\n",
    "        print(f.read())\n",
    "        \n",
    "readfiles('file1')\n",
    "readfiles('file2')\n",
    "readfiles('file3')"
   ]
  },
  {
   "cell_type": "code",
   "execution_count": 22,
   "metadata": {},
   "outputs": [
    {
     "name": "stdout",
     "output_type": "stream",
     "text": [
      "This is file1.txt\n",
      "File file2 is not found\n",
      "This is file3.txt\n"
     ]
    }
   ],
   "source": [
    "def readfiles(filename):\n",
    "    try:\n",
    "        with open(filename,\"r\") as f:\n",
    "            print(f.read())\n",
    "    except FileNotFoundError:\n",
    "        print(f\"File {filename} is not found\")\n",
    "        \n",
    "readfiles('file1')\n",
    "readfiles('file2')\n",
    "readfiles('file3')"
   ]
  },
  {
   "cell_type": "markdown",
   "metadata": {},
   "source": [
    "##### Q) write a program to print third, fifth and seventh element from a list using enumerate function."
   ]
  },
  {
   "cell_type": "code",
   "execution_count": 24,
   "metadata": {},
   "outputs": [
    {
     "name": "stdout",
     "output_type": "stream",
     "text": [
      "The value at 3 element is 3\n",
      "The value at 5 element is 5\n",
      "The value at 7 element is 7\n"
     ]
    }
   ],
   "source": [
    "lst = [1,2,3,4,5,6,7,8,9,10]\n",
    "for index, item in enumerate(lst):\n",
    "    if index == 2 or index == 4 or index == 6:\n",
    "#         print(index, item)\n",
    "        print(f\"The value at {index+1} element is {item}\")"
   ]
  },
  {
   "cell_type": "markdown",
   "metadata": {},
   "source": [
    "##### Q) Write a list comprehnsion to print a list which contains the multiplication table of a user entered number."
   ]
  },
  {
   "cell_type": "code",
   "execution_count": 26,
   "metadata": {},
   "outputs": [
    {
     "name": "stdout",
     "output_type": "stream",
     "text": [
      "Enter the number: 17\n",
      "[17, 34, 51, 68, 85, 102, 119, 136, 153, 170]\n"
     ]
    }
   ],
   "source": [
    "num = int(input(\"Enter the number: \"))\n",
    "lst = [num*i for i in range(1,11)]\n",
    "print(lst)"
   ]
  },
  {
   "cell_type": "markdown",
   "metadata": {},
   "source": [
    "##### Q) Write a program to display a/b where a and b are integers. If b=0, display infinite by handling the ZeroDivisionError."
   ]
  },
  {
   "cell_type": "code",
   "execution_count": 30,
   "metadata": {},
   "outputs": [
    {
     "name": "stdout",
     "output_type": "stream",
     "text": [
      "Enter the number1:0\n",
      "Enter the number2:45\n",
      "0.0\n"
     ]
    }
   ],
   "source": [
    "num1 = int(input(\"Enter the number1:\"))\n",
    "num2 = int(input(\"Enter the number2:\"))\n",
    "\n",
    "try:\n",
    "    print(num1/num2)\n",
    "except:\n",
    "    print(\"ZeroDivisionError\")"
   ]
  },
  {
   "cell_type": "markdown",
   "metadata": {},
   "source": [
    "##### Q) Store the multiplication table generated in program 3 in a file names file1.txt"
   ]
  },
  {
   "cell_type": "code",
   "execution_count": 32,
   "metadata": {},
   "outputs": [
    {
     "name": "stdout",
     "output_type": "stream",
     "text": [
      "Enter the number: 8\n",
      "[8, 16, 24, 32, 40, 48, 56, 64, 72, 80]\n"
     ]
    }
   ],
   "source": [
    "num = int(input(\"Enter the number: \"))\n",
    "lst = [num*i for i in range(1,11)]\n",
    "print(lst)\n",
    "\n",
    "with open('file2.txt','a') as f:\n",
    "    f.write(str(lst))\n",
    "    f.write('\\n')"
   ]
  },
  {
   "cell_type": "code",
   "execution_count": null,
   "metadata": {},
   "outputs": [],
   "source": []
  }
 ],
 "metadata": {
  "kernelspec": {
   "display_name": "Python 3",
   "language": "python",
   "name": "python3"
  },
  "language_info": {
   "codemirror_mode": {
    "name": "ipython",
    "version": 3
   },
   "file_extension": ".py",
   "mimetype": "text/x-python",
   "name": "python",
   "nbconvert_exporter": "python",
   "pygments_lexer": "ipython3",
   "version": "3.7.7"
  }
 },
 "nbformat": 4,
 "nbformat_minor": 4
}
