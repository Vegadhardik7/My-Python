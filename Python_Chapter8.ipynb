{
 "cells": [
  {
   "cell_type": "markdown",
   "metadata": {},
   "source": [
    "# Functions & Recursions"
   ]
  },
  {
   "cell_type": "markdown",
   "metadata": {},
   "source": [
    "## Functions"
   ]
  },
  {
   "cell_type": "code",
   "execution_count": 1,
   "metadata": {},
   "outputs": [
    {
     "name": "stdout",
     "output_type": "stream",
     "text": [
      "30.0\n",
      "33.0\n"
     ]
    }
   ],
   "source": [
    "mrk = [10,20,30,40,50]\n",
    "\n",
    "per = (sum(mrk)/500)*100\n",
    "\n",
    "print(per)\n",
    "\n",
    "mrk2 = [15,20,30,45,55]\n",
    "\n",
    "per2 = (sum(mrk2)/500)*100\n",
    "\n",
    "print(per2)"
   ]
  },
  {
   "cell_type": "code",
   "execution_count": 2,
   "metadata": {},
   "outputs": [
    {
     "name": "stdout",
     "output_type": "stream",
     "text": [
      "30.0\n",
      "33.0\n"
     ]
    }
   ],
   "source": [
    "def percents(mrks):\n",
    "    return (sum(mrks)/500)*100\n",
    "\n",
    "\n",
    "\n",
    "mrk = [10,20,30,40,50]\n",
    "per = percents(mrk)\n",
    "print(per)\n",
    "\n",
    "mrk2 = [15,20,30,45,55]\n",
    "per2 = percents(mrk2)\n",
    "print(per2)"
   ]
  },
  {
   "cell_type": "markdown",
   "metadata": {},
   "source": [
    "### Function with argument"
   ]
  },
  {
   "cell_type": "code",
   "execution_count": 5,
   "metadata": {},
   "outputs": [
    {
     "name": "stdout",
     "output_type": "stream",
     "text": [
      "Good Day Hardik\n"
     ]
    }
   ],
   "source": [
    "def greet(name):\n",
    "    print(\"Good Day \"+name)\n",
    "    \n",
    "greet(\"Hardik\")"
   ]
  },
  {
   "cell_type": "code",
   "execution_count": 7,
   "metadata": {},
   "outputs": [
    {
     "data": {
      "text/plain": [
       "5"
      ]
     },
     "execution_count": 7,
     "metadata": {},
     "output_type": "execute_result"
    }
   ],
   "source": [
    "def sumus(num1,num2):\n",
    "    return num1 + num2\n",
    "\n",
    "sumus(1,4)"
   ]
  },
  {
   "cell_type": "markdown",
   "metadata": {},
   "source": [
    "### Default parameter"
   ]
  },
  {
   "cell_type": "code",
   "execution_count": 8,
   "metadata": {},
   "outputs": [
    {
     "name": "stdout",
     "output_type": "stream",
     "text": [
      "Good Day, Stranger\n",
      "Good Day, Hardik\n"
     ]
    }
   ],
   "source": [
    "def greet(name=\"Stranger\"):\n",
    "    print(\"Good Day, \"+name)\n",
    "    \n",
    "greet()\n",
    "greet(\"Hardik\")"
   ]
  },
  {
   "cell_type": "markdown",
   "metadata": {},
   "source": [
    "-------------------------"
   ]
  },
  {
   "cell_type": "markdown",
   "metadata": {},
   "source": [
    "## Recursion"
   ]
  },
  {
   "cell_type": "markdown",
   "metadata": {},
   "source": [
    "Recursion is a function which call itself\n",
    "\n",
    "It is use to directly use a math formula"
   ]
  },
  {
   "cell_type": "code",
   "execution_count": 12,
   "metadata": {},
   "outputs": [
    {
     "name": "stdout",
     "output_type": "stream",
     "text": [
      "3628800\n"
     ]
    }
   ],
   "source": [
    "n = 10\n",
    "val = 1\n",
    "for i in range(n):\n",
    "    val = val * (i+1)\n",
    "print(val)"
   ]
  },
  {
   "cell_type": "markdown",
   "metadata": {},
   "source": [
    "factorial formula:\n",
    "    \n",
    "    n! = (n-1)! * n"
   ]
  },
  {
   "cell_type": "code",
   "execution_count": 17,
   "metadata": {},
   "outputs": [
    {
     "name": "stdout",
     "output_type": "stream",
     "text": [
      "Enter the number: 5\n",
      "Factorial of 5 is 120\n"
     ]
    }
   ],
   "source": [
    "def factorial_itr(n):\n",
    "    val = 1\n",
    "    for i in range(n):\n",
    "        val = val * (i+1)\n",
    "    return val\n",
    "\n",
    "n = int(input(\"Enter the number: \"))\n",
    "print(\"Factorial of\",n,\"is\",factorial_itr(n))"
   ]
  },
  {
   "cell_type": "code",
   "execution_count": 18,
   "metadata": {},
   "outputs": [
    {
     "name": "stdout",
     "output_type": "stream",
     "text": [
      "Enter the number: 5\n",
      "Factorial of 5 is 120\n"
     ]
    }
   ],
   "source": [
    "def factorial_recursive(n):\n",
    "    if n == 1 or n == 0:\n",
    "        return 1\n",
    "    \n",
    "    return factorial_recursive(n-1) * n\n",
    "\n",
    "n = int(input(\"Enter the number: \"))\n",
    "print(\"Factorial of\",n,\"is\",factorial_recursive(n))"
   ]
  },
  {
   "cell_type": "markdown",
   "metadata": {},
   "source": [
    "------------------------------------------"
   ]
  },
  {
   "cell_type": "markdown",
   "metadata": {},
   "source": [
    "##### Q) write a prog using function to find greatest of 3 number"
   ]
  },
  {
   "cell_type": "code",
   "execution_count": 20,
   "metadata": {},
   "outputs": [
    {
     "name": "stdout",
     "output_type": "stream",
     "text": [
      "The max value is:  9\n"
     ]
    }
   ],
   "source": [
    "def maxi(n1, n2, n3):\n",
    "    if n1>n2:\n",
    "        if n1>n3:\n",
    "            return n1\n",
    "        else:\n",
    "            return n3\n",
    "    else:\n",
    "        if n2>n3:    \n",
    "            return n2\n",
    "        else:\n",
    "            return n3\n",
    "        \n",
    "m = maxi(3, 9, 1)\n",
    "print(\"The max value is: \",m)"
   ]
  },
  {
   "cell_type": "markdown",
   "metadata": {},
   "source": [
    "##### Q) Convert celsius to fahrenheit"
   ]
  },
  {
   "cell_type": "code",
   "execution_count": 27,
   "metadata": {},
   "outputs": [
    {
     "name": "stdout",
     "output_type": "stream",
     "text": [
      "Fahrenheit Temperature is  32.0\n"
     ]
    }
   ],
   "source": [
    "def far(cel):\n",
    "    return (cel * (9/5))+32\n",
    "\n",
    "c = 0\n",
    "val = far(c)\n",
    "print(\"Fahrenheit Temperature is \",val)"
   ]
  },
  {
   "cell_type": "markdown",
   "metadata": {},
   "source": [
    "##### Q) How to prevent a python print() function to print a new line at the end"
   ]
  },
  {
   "cell_type": "code",
   "execution_count": 30,
   "metadata": {},
   "outputs": [
    {
     "name": "stdout",
     "output_type": "stream",
     "text": [
      "Hello World\n"
     ]
    }
   ],
   "source": [
    "print(\"Hello\",end=\" \")\n",
    "print(\"World\")"
   ]
  },
  {
   "cell_type": "markdown",
   "metadata": {},
   "source": [
    "##### Q) Write a recursive function to cal the sum of 1st n natural number"
   ]
  },
  {
   "cell_type": "code",
   "execution_count": 39,
   "metadata": {},
   "outputs": [
    {
     "name": "stdout",
     "output_type": "stream",
     "text": [
      "Enter the number:10\n",
      "The sum is 55\n"
     ]
    }
   ],
   "source": [
    "def n_natural(n):\n",
    "    if n <= 1:\n",
    "        return n\n",
    "    else:\n",
    "        return n + n_natural(n-1)\n",
    "    \n",
    "num = int(input(\"Enter the number:\"))\n",
    "if num < 0:\n",
    "   print(\"Enter a positive number\")\n",
    "else:\n",
    "   print(\"The sum is\",n_natural(num))"
   ]
  },
  {
   "cell_type": "markdown",
   "metadata": {},
   "source": [
    "##### Q) Print reverse triangle"
   ]
  },
  {
   "cell_type": "code",
   "execution_count": 44,
   "metadata": {},
   "outputs": [
    {
     "name": "stdout",
     "output_type": "stream",
     "text": [
      "*****\n",
      "****\n",
      "***\n",
      "**\n",
      "*\n"
     ]
    }
   ],
   "source": [
    "n = 5\n",
    "for i in range(n):\n",
    "    print(\"*\"*(n-i))"
   ]
  },
  {
   "cell_type": "markdown",
   "metadata": {},
   "source": [
    "##### Q) Inches to cm"
   ]
  },
  {
   "cell_type": "code",
   "execution_count": 46,
   "metadata": {},
   "outputs": [
    {
     "name": "stdout",
     "output_type": "stream",
     "text": [
      "CM to Inches is  5.08\n"
     ]
    }
   ],
   "source": [
    "def cen(n):\n",
    "    return (n * 2.54)\n",
    "\n",
    "c = 2\n",
    "val = cen(c)\n",
    "print(\"CM to Inches is \",val)"
   ]
  },
  {
   "cell_type": "markdown",
   "metadata": {},
   "source": [
    "##### Q) Write a python function to remove a given word from a list and strip it at the same time"
   ]
  },
  {
   "cell_type": "code",
   "execution_count": 47,
   "metadata": {},
   "outputs": [
    {
     "name": "stdout",
     "output_type": "stream",
     "text": [
      "   hello world   \n",
      "hello world\n"
     ]
    }
   ],
   "source": [
    "# strip: Remove spaces\n",
    "\n",
    "val = \"   hello world   \"\n",
    "print(val)\n",
    "print(val.strip())"
   ]
  },
  {
   "cell_type": "code",
   "execution_count": 51,
   "metadata": {},
   "outputs": [
    {
     "name": "stdout",
     "output_type": "stream",
     "text": [
      "world is the first program\n"
     ]
    }
   ],
   "source": [
    "def remove_and_split(st, word):\n",
    "    newstr = st.replace(word,\"\")\n",
    "    return newstr.strip()\n",
    "\n",
    "val = \"   hello world is the first program   \"\n",
    "n = remove_and_split(val, 'hello')\n",
    "print(n)"
   ]
  },
  {
   "cell_type": "markdown",
   "metadata": {},
   "source": [
    "##### Q) Write a function which prints the multiplication table"
   ]
  },
  {
   "cell_type": "code",
   "execution_count": 65,
   "metadata": {},
   "outputs": [
    {
     "name": "stdout",
     "output_type": "stream",
     "text": [
      "Enter the number:2\n",
      "2  *  1  =  2\n",
      "2  *  2  =  4\n",
      "2  *  3  =  6\n",
      "2  *  4  =  8\n",
      "2  *  5  =  10\n",
      "2  *  6  =  12\n",
      "2  *  7  =  14\n",
      "2  *  8  =  16\n",
      "2  *  9  =  18\n",
      "2  *  10  =  20\n"
     ]
    }
   ],
   "source": [
    "def mul_table(n):\n",
    "    for i in range(1,11):\n",
    "        print(n,\" * \",i,\" = \",n*i)\n",
    "    \n",
    "    \n",
    "n = int(input(\"Enter the number:\"))\n",
    "mul_table(n)"
   ]
  },
  {
   "cell_type": "code",
   "execution_count": null,
   "metadata": {},
   "outputs": [],
   "source": []
  }
 ],
 "metadata": {
  "kernelspec": {
   "display_name": "Python 3",
   "language": "python",
   "name": "python3"
  },
  "language_info": {
   "codemirror_mode": {
    "name": "ipython",
    "version": 3
   },
   "file_extension": ".py",
   "mimetype": "text/x-python",
   "name": "python",
   "nbconvert_exporter": "python",
   "pygments_lexer": "ipython3",
   "version": "3.7.7"
  }
 },
 "nbformat": 4,
 "nbformat_minor": 4
}
