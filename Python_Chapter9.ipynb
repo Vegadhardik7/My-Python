{
 "cells": [
  {
   "cell_type": "markdown",
   "metadata": {},
   "source": [
    "# File I/O"
   ]
  },
  {
   "cell_type": "markdown",
   "metadata": {},
   "source": [
    "The RAM (Random Access Memory) is volatile and all its contents are lost once a program is terminated. In order to persist the data forever, we use file."
   ]
  },
  {
   "cell_type": "markdown",
   "metadata": {},
   "source": [
    "A File is data stored in a storage device. A Python program can talk to the file by reading content from it and writing content to it."
   ]
  },
  {
   "cell_type": "markdown",
   "metadata": {},
   "source": [
    "- RAM: Volatile Memory (Content loss as soon as program is terminated)\n",
    "\n",
    "- HDD: Non-Volatile Memory (File's, Folders in a disk)"
   ]
  },
  {
   "cell_type": "markdown",
   "metadata": {},
   "source": [
    "<b>Types of Files:</b>\n",
    "\n",
    "\n",
    "1.) Text File (.txt, .c, ...etc)\n",
    "\n",
    "2.) Binary File (.jpg, .dat, ..etc)\n",
    "\n",
    "\n",
    "Python has a lot of functions for <i>reading</i>, <i>updating</i> and <i>deleting</i> files."
   ]
  },
  {
   "cell_type": "markdown",
   "metadata": {},
   "source": [
    "<b>modes:</b>\n",
    "    \n",
    "- r : read mode\n",
    "    \n",
    "- w : write mode\n",
    "    \n",
    "- a : append mode\n",
    "    \n",
    "- '+' : updating mode (both read and write)\n",
    "    \n",
    "- 'rb' : read binary\n",
    "    \n",
    "- 'rt' : read text"
   ]
  },
  {
   "cell_type": "markdown",
   "metadata": {},
   "source": [
    "--------------------------"
   ]
  },
  {
   "cell_type": "markdown",
   "metadata": {},
   "source": [
    "<b>Opening a file</b>\n",
    "\n",
    "Python has an <b>open()</b> function for opening files. It takes 2 parameters: file-name and mode."
   ]
  },
  {
   "cell_type": "markdown",
   "metadata": {},
   "source": [
    "### Read Mode"
   ]
  },
  {
   "cell_type": "code",
   "execution_count": 7,
   "metadata": {},
   "outputs": [
    {
     "name": "stdout",
     "output_type": "stream",
     "text": [
      "hardik is a good boy.\n",
      "He studys in somaiya.\n"
     ]
    }
   ],
   "source": [
    "f = open(r\"D:\\courses\\Python_code_with_harry\\Basic_Python\\Notes\\9. Chapter 9\\New folder\\mytext.txt\",\"r\") # by default mode = 'r'\n",
    "\n",
    "data = f.read()\n",
    "print(data)\n",
    "\n",
    "f.close()"
   ]
  },
  {
   "cell_type": "code",
   "execution_count": 8,
   "metadata": {},
   "outputs": [
    {
     "name": "stdout",
     "output_type": "stream",
     "text": [
      "hardi\n"
     ]
    }
   ],
   "source": [
    "f = open(r\"D:\\courses\\Python_code_with_harry\\Basic_Python\\Notes\\9. Chapter 9\\New folder\\mytext.txt\",\"r\") # by default mode = 'r'\n",
    "\n",
    "data2 = f.read(5)\n",
    "print(data2)\n",
    "\n",
    "f.close()"
   ]
  },
  {
   "cell_type": "code",
   "execution_count": 12,
   "metadata": {},
   "outputs": [
    {
     "name": "stdout",
     "output_type": "stream",
     "text": [
      "hardik is a good boy.\n",
      "\n"
     ]
    }
   ],
   "source": [
    "f = open(r\"D:\\courses\\Python_code_with_harry\\Basic_Python\\Notes\\9. Chapter 9\\New folder\\mytext.txt\",\"r\") # by default mode = 'r'\n",
    "\n",
    "data3 = f.readline()\n",
    "print(data3)\n",
    "\n",
    "f.close()"
   ]
  },
  {
   "cell_type": "code",
   "execution_count": 11,
   "metadata": {},
   "outputs": [
    {
     "name": "stdout",
     "output_type": "stream",
     "text": [
      "hardik is a good boy.\n",
      "\n",
      "He studys in somaiya.\n"
     ]
    }
   ],
   "source": [
    "f = open(r\"D:\\courses\\Python_code_with_harry\\Basic_Python\\Notes\\9. Chapter 9\\New folder\\mytext.txt\",\"r\") # by default mode = 'r'\n",
    "\n",
    "# Read first line\n",
    "data3 = f.readline()\n",
    "print(data3)\n",
    "\n",
    "\n",
    "# Read second line\n",
    "data_3 = f.readline()\n",
    "print(data_3)\n",
    "\n",
    "f.close()"
   ]
  },
  {
   "cell_type": "code",
   "execution_count": 10,
   "metadata": {},
   "outputs": [
    {
     "name": "stdout",
     "output_type": "stream",
     "text": [
      "hardik\n"
     ]
    }
   ],
   "source": [
    "f = open(r\"D:\\courses\\Python_code_with_harry\\Basic_Python\\Notes\\9. Chapter 9\\New folder\\mytext.txt\",\"r\") # by default mode = 'r'\n",
    "\n",
    "data4 = f.readline(6)\n",
    "print(data4)\n",
    "\n",
    "f.close()"
   ]
  },
  {
   "cell_type": "markdown",
   "metadata": {},
   "source": [
    "------------------"
   ]
  },
  {
   "cell_type": "markdown",
   "metadata": {},
   "source": [
    "### Write Mode"
   ]
  },
  {
   "cell_type": "code",
   "execution_count": 16,
   "metadata": {},
   "outputs": [],
   "source": [
    "f = open(r\"D:\\courses\\Python_code_with_harry\\Basic_Python\\Notes\\9. Chapter 9\\New folder\\another.txt\",\"w\")\n",
    "f.write(\"Please insert this text into the file\")\n",
    "\n",
    "f.close()"
   ]
  },
  {
   "cell_type": "code",
   "execution_count": 17,
   "metadata": {},
   "outputs": [],
   "source": [
    "# Over write the file\n",
    "\n",
    "f = open(r\"D:\\courses\\Python_code_with_harry\\Basic_Python\\Notes\\9. Chapter 9\\New folder\\another.txt\",\"w\")\n",
    "f.write(\"Please Python insert this text into the file\")\n",
    "\n",
    "f.close()"
   ]
  },
  {
   "cell_type": "code",
   "execution_count": 18,
   "metadata": {},
   "outputs": [],
   "source": [
    "# Append text\n",
    "\n",
    "f = open(r\"D:\\courses\\Python_code_with_harry\\Basic_Python\\Notes\\9. Chapter 9\\New folder\\another.txt\",\"a\")\n",
    "f.write(\"Thank you very much\")\n",
    "\n",
    "f.close()"
   ]
  },
  {
   "cell_type": "markdown",
   "metadata": {},
   "source": [
    "----------------------------------"
   ]
  },
  {
   "cell_type": "markdown",
   "metadata": {},
   "source": [
    "### With Statement (context manager)"
   ]
  },
  {
   "cell_type": "markdown",
   "metadata": {},
   "source": [
    "The best way to open and close the file automatically is the with statement"
   ]
  },
  {
   "cell_type": "code",
   "execution_count": 25,
   "metadata": {},
   "outputs": [
    {
     "name": "stdout",
     "output_type": "stream",
     "text": [
      "Hello world, this is hardik\n"
     ]
    }
   ],
   "source": [
    "with open(r\"another.txt\",\"r\") as f:\n",
    "    a = f.read()\n",
    "print(a)"
   ]
  },
  {
   "cell_type": "code",
   "execution_count": 26,
   "metadata": {},
   "outputs": [
    {
     "name": "stdout",
     "output_type": "stream",
     "text": [
      "21\n"
     ]
    }
   ],
   "source": [
    "with open(\"another.txt\",\"w\") as f:\n",
    "    a = f.write(\"Hardik is a good boy.\")\n",
    "print(a)"
   ]
  },
  {
   "cell_type": "markdown",
   "metadata": {},
   "source": [
    "---------------------------------------"
   ]
  },
  {
   "cell_type": "markdown",
   "metadata": {},
   "source": [
    "##### Q) Write a program to read the text from the given file 'poem.txt' and find out whether it contains the word 'twinkle'"
   ]
  },
  {
   "cell_type": "code",
   "execution_count": 31,
   "metadata": {},
   "outputs": [
    {
     "name": "stdout",
     "output_type": "stream",
     "text": [
      "Twinkle is present\n"
     ]
    }
   ],
   "source": [
    "f = open(r\"twinkel.txt\",\"r\")\n",
    "t = f.read()\n",
    "\n",
    "if 'twinkle' in t:\n",
    "    print(\"Twinkle is present\")\n",
    "else:\n",
    "    print(\"Twinkle is not present\")\n",
    "\n",
    "f.close()"
   ]
  },
  {
   "cell_type": "markdown",
   "metadata": {},
   "source": [
    "##### Q) The game function in the program lets the user play a game and returns the score as an int. You need to read a file \"His_Score.txt\" which is either blank or contains the previous High-Score. You need to write a prog to update the High-Score whenever game() breaks the High-Score."
   ]
  },
  {
   "cell_type": "code",
   "execution_count": 44,
   "metadata": {},
   "outputs": [],
   "source": [
    "def game():\n",
    "    return 94000\n",
    "\n",
    "score = game()\n",
    "\n",
    "with open(\"high_score.txt\") as f:\n",
    "    h_score = f.read()\n",
    "\n",
    "if h_score == '':\n",
    "    with open(\"high_score.txt\",\"w\") as f:\n",
    "        f.write(str(score))\n",
    "        \n",
    "        \n",
    "elif int(h_score) < score:\n",
    "    with open(\"high_score.txt\",\"w\") as f:\n",
    "        f.write(str(score))"
   ]
  },
  {
   "cell_type": "markdown",
   "metadata": {},
   "source": [
    "##### Q) Write a program to generate a multiplication table from 2 till 20 and write it to the different files. Place these files in a folder."
   ]
  },
  {
   "cell_type": "code",
   "execution_count": 45,
   "metadata": {},
   "outputs": [],
   "source": [
    "for i in range(2,21):\n",
    "    with open(f\"Tables/Multiplication_table_of_{i}.txt\",\"w\") as f:\n",
    "        for j in range(1,11):\n",
    "            f.write(f\"{i} X {j} = {i*j}\\n\")"
   ]
  },
  {
   "cell_type": "markdown",
   "metadata": {},
   "source": [
    "<b>if we want to avoid extra line at the end</b>\n",
    "\n",
    "for i in range(2,21):\n",
    "\n",
    "    with open(f\"Tables/Multiplication_table_of_{i}.txt\",\"w\") as f:\n",
    "\n",
    "        for j in range(1,11):\n",
    "        \n",
    "            f.write(f\"{i} X {j} = {i*j}\\n\")\n",
    "            \n",
    "                if j != 10:\n",
    "                \n",
    "                    f.write('\\n')"
   ]
  },
  {
   "cell_type": "markdown",
   "metadata": {},
   "source": [
    "##### Q) A file contains a word \"Donkey\" multiple times. You need to write a program which replace this words with #### by updating the same file."
   ]
  },
  {
   "cell_type": "code",
   "execution_count": 47,
   "metadata": {},
   "outputs": [],
   "source": [
    "with open(\"another.txt\") as f:\n",
    "    con = f.read()\n",
    "   \n",
    "con = con.replace(\"donkey\", \"$#%&@\")\n",
    "\n",
    "with open(\"another.txt\",'w') as f:\n",
    "    f.write(con)"
   ]
  },
  {
   "cell_type": "markdown",
   "metadata": {},
   "source": [
    "##### Q) A file contains multiple in-appropriate words multiple times. You need to write a program which replace this words with #### by updating the same file."
   ]
  },
  {
   "cell_type": "code",
   "execution_count": 48,
   "metadata": {},
   "outputs": [],
   "source": [
    "words = ['donkey','monkey','useless','mad']\n",
    "\n",
    "with open(\"another.txt\") as f:\n",
    "    con = f.read()\n",
    "\n",
    "for word in words:\n",
    "    \n",
    "    con = con.replace(word, \"$#%&@\")\n",
    "    with open(\"another.txt\",'w') as f:\n",
    "        f.write(con)"
   ]
  },
  {
   "cell_type": "markdown",
   "metadata": {},
   "source": [
    "##### Q) Write a program to Mine a log file and find out whether it contains \"Python\""
   ]
  },
  {
   "cell_type": "code",
   "execution_count": 49,
   "metadata": {},
   "outputs": [
    {
     "name": "stdout",
     "output_type": "stream",
     "text": [
      "Yes Python is present\n"
     ]
    }
   ],
   "source": [
    "with open(\"logfile.txt\") as f:\n",
    "    con = f.read().lower()\n",
    "\n",
    "if \"python\" in con:\n",
    "    print(\"Yes Python is present\")\n",
    "else:\n",
    "    print(\"No python in not present\")"
   ]
  },
  {
   "cell_type": "markdown",
   "metadata": {},
   "source": [
    "##### Q) Write a program to Mine a log file and find out whether it contains \"Python\" and print the line number"
   ]
  },
  {
   "cell_type": "code",
   "execution_count": 59,
   "metadata": {},
   "outputs": [
    {
     "name": "stdout",
     "output_type": "stream",
     "text": [
      "66.249.65.107 - - [08/oct/2007:04:54:20 -0400] \"get /support.html http/1.1\" 200 11179 \"-\" \"mozilla/5.0 (python; googlebot/2.1; +http://www.google.com/bot.html)\"\n",
      "\n",
      "Yes Python is present on line number 1\n",
      "--------------------------------------------------------------------------------------\n",
      "111.111.111.111 - - [08/oct/2007:11:17:55 -0400] \"get / http/1.1\" 200 10801 \"http://www.google.com/search?q=log+analyzer&ie=utf-8&oe=utf-8 &aq=t&rls=org.mozilla:en-us:official&client=firefox-a\" \"mozilla/5.0 (python; u; python nt 5.2; en-us; rv:1.8.1.7) gecko/20070914 firefox/2.0.0.7\"\n",
      "\n",
      "Yes Python is present on line number 3\n",
      "--------------------------------------------------------------------------------------\n",
      "111.111.111.111 - - [08/oct/2007:11:17:55 -0400] \"get /style.css http/1.1\" 200 3225 \"http://www.loganalyzer.net/\" \"mozilla/5.0 (python; u; python nt 5.2; en-us; rv:1.8.1.7) gecko/20070914 firefox/2.0.0.7\"\n",
      "Yes Python is present on line number 5\n",
      "--------------------------------------------------------------------------------------\n"
     ]
    }
   ],
   "source": [
    "con = True\n",
    "i = 1\n",
    "with open(\"logfile.txt\") as f:\n",
    "    while con:\n",
    "        \n",
    "        con = f.readline().lower()\n",
    "        \n",
    "        if \"python\" in con:\n",
    "            print(con)\n",
    "            print(f\"Yes Python is present on line number {i}\")\n",
    "            \n",
    "            print(\"--------------------------------------------------------------------------------------\")\n",
    "        i += 1"
   ]
  },
  {
   "cell_type": "markdown",
   "metadata": {},
   "source": [
    "###### Q) Write a program to make a copy of another.txt"
   ]
  },
  {
   "cell_type": "code",
   "execution_count": 66,
   "metadata": {},
   "outputs": [],
   "source": [
    "with open(\"another.txt\",'r') as f:\n",
    "    r = f.read()\n",
    "    \n",
    "with open(\"another_2.txt\",'w') as x:\n",
    "    x.write(r)"
   ]
  },
  {
   "cell_type": "markdown",
   "metadata": {},
   "source": [
    "##### Q) Write a program to find out whether a file is identical and matches the content of another file of not?"
   ]
  },
  {
   "cell_type": "code",
   "execution_count": 68,
   "metadata": {},
   "outputs": [
    {
     "name": "stdout",
     "output_type": "stream",
     "text": [
      "The content in both the files are not identical\n"
     ]
    }
   ],
   "source": [
    "with open(\"another.txt\",'r') as f:\n",
    "    r1 = f.read()\n",
    "    \n",
    "with open(\"another_2.txt\",'r') as f:\n",
    "    r2 = f.read()\n",
    "\n",
    "if r1 == r2:\n",
    "    print(\"The content in both the files are identical\")\n",
    "else:\n",
    "    print(\"The content in both the files are not identical\")"
   ]
  },
  {
   "cell_type": "markdown",
   "metadata": {},
   "source": [
    "##### Q) Write a program to wipe out the content of a file using pyton"
   ]
  },
  {
   "cell_type": "code",
   "execution_count": 70,
   "metadata": {},
   "outputs": [],
   "source": [
    "with open(\"another_2.txt\",'w') as f:\n",
    "    r = f.write(\"\")"
   ]
  },
  {
   "cell_type": "markdown",
   "metadata": {},
   "source": [
    "##### Q) Rename a file as renamed_by_python.txt"
   ]
  },
  {
   "cell_type": "code",
   "execution_count": 72,
   "metadata": {},
   "outputs": [],
   "source": [
    "import os\n",
    "\n",
    "old_name = \"another_2.txt\" \n",
    "new_name = \"rename_by_python.txt\"\n",
    "\n",
    "with open(old_name) as f:\n",
    "    old = f.read()\n",
    "    \n",
    "with open(new_name,\"w\") as f:\n",
    "    f.write(old)\n",
    "\n",
    "os.remove(old_name)"
   ]
  },
  {
   "cell_type": "code",
   "execution_count": null,
   "metadata": {},
   "outputs": [],
   "source": []
  }
 ],
 "metadata": {
  "kernelspec": {
   "display_name": "Python 3",
   "language": "python",
   "name": "python3"
  },
  "language_info": {
   "codemirror_mode": {
    "name": "ipython",
    "version": 3
   },
   "file_extension": ".py",
   "mimetype": "text/x-python",
   "name": "python",
   "nbconvert_exporter": "python",
   "pygments_lexer": "ipython3",
   "version": "3.7.7"
  }
 },
 "nbformat": 4,
 "nbformat_minor": 4
}
