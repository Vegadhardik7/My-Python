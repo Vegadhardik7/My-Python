{
 "cells": [
  {
   "cell_type": "markdown",
   "metadata": {},
   "source": [
    "# Lambda Function"
   ]
  },
  {
   "cell_type": "markdown",
   "metadata": {},
   "source": [
    "Functions created using an expression using lambda keyword.\n",
    "\n",
    "Syntax:\n",
    "    \n",
    "    lambda argument: expression\n",
    "                        ^\n",
    "                     Can be used as a normal function  \n",
    "                     \n",
    "Example:\n",
    "    \n",
    "        square = lambda x : x*x\n",
    "        square(6)      <======= Return 36\n",
    "        \n",
    "        sumval = lambda a,b,c: a+b+c\n",
    "        sum(1,2,3)     <====== Return 6"
   ]
  },
  {
   "cell_type": "code",
   "execution_count": 1,
   "metadata": {},
   "outputs": [
    {
     "name": "stdout",
     "output_type": "stream",
     "text": [
      "25\n"
     ]
    }
   ],
   "source": [
    "def func(a):\n",
    "    return a + 5\n",
    "\n",
    "x = 20\n",
    "print(func(x))"
   ]
  },
  {
   "cell_type": "code",
   "execution_count": 2,
   "metadata": {},
   "outputs": [
    {
     "name": "stdout",
     "output_type": "stream",
     "text": [
      "25\n"
     ]
    }
   ],
   "source": [
    "func = lambda a: a+5\n",
    "print(func(x))"
   ]
  },
  {
   "cell_type": "code",
   "execution_count": 3,
   "metadata": {},
   "outputs": [
    {
     "name": "stdout",
     "output_type": "stream",
     "text": [
      "25\n"
     ]
    }
   ],
   "source": [
    "squ = lambda x: x*x\n",
    "print(squ(5))"
   ]
  },
  {
   "cell_type": "markdown",
   "metadata": {},
   "source": [
    "# Join Method"
   ]
  },
  {
   "cell_type": "code",
   "execution_count": 5,
   "metadata": {},
   "outputs": [
    {
     "name": "stdout",
     "output_type": "stream",
     "text": [
      "Camera & Mobile & Computer & Mic & Hardisk & GTX 3080\n",
      "Camera\n",
      "Mobile\n",
      "Computer\n",
      "Mic\n",
      "Hardisk\n",
      "GTX 3080\n"
     ]
    }
   ],
   "source": [
    "lst = ['Camera','Mobile','Computer','Mic','Hardisk','GTX 3080']\n",
    "\n",
    "# Using this lst create a string where they get printed using &\n",
    "\n",
    "sen = \" & \".join(lst)\n",
    "print(sen)\n",
    "\n",
    "val = \"\\n\".join(lst)\n",
    "print(val)"
   ]
  },
  {
   "cell_type": "code",
   "execution_count": 7,
   "metadata": {},
   "outputs": [
    {
     "name": "stdout",
     "output_type": "stream",
     "text": [
      "Camera & Mobile & Computer & Mic & Hardisk & GTX 3080\n",
      "Camera\n",
      "Mobile\n",
      "Computer\n",
      "Mic\n",
      "Hardisk\n",
      "GTX 3080\n"
     ]
    }
   ],
   "source": [
    "set_val = ('Camera','Mobile','Computer','Mic','Hardisk','GTX 3080')\n",
    "\n",
    "# Using this set_val create a string where they get printed using &\n",
    "\n",
    "sen1 = \" & \".join(set_val)\n",
    "print(sen1)\n",
    "\n",
    "val1 = \"\\n\".join(set_val)\n",
    "print(val1)"
   ]
  },
  {
   "cell_type": "markdown",
   "metadata": {},
   "source": [
    "# Format Method"
   ]
  },
  {
   "cell_type": "markdown",
   "metadata": {},
   "source": [
    "Format the values inside the string into a desired output.\n",
    "\n",
    "Syntax:\n",
    "\n",
    "    temp.format(p1,p2,...)\n",
    "                    ^\n",
    "                  Argument"
   ]
  },
  {
   "cell_type": "code",
   "execution_count": 8,
   "metadata": {},
   "outputs": [
    {
     "name": "stdout",
     "output_type": "stream",
     "text": [
      "This is Hardik and his channel is InfinityCodeX\n"
     ]
    }
   ],
   "source": [
    "name = \"Hardik\"\n",
    "channel = \"InfinityCodeX\"\n",
    "a = \"This is {} and his channel is {}\".format(name,channel)\n",
    "print(a)"
   ]
  },
  {
   "cell_type": "code",
   "execution_count": 9,
   "metadata": {},
   "outputs": [
    {
     "name": "stdout",
     "output_type": "stream",
     "text": [
      "This is InfinityCodeX and his channel is Hardik\n"
     ]
    }
   ],
   "source": [
    "name = \"Hardik\"\n",
    "channel = \"InfinityCodeX\"\n",
    "a = \"This is {1} and his channel is {0}\".format(name,channel)\n",
    "print(a)"
   ]
  },
  {
   "cell_type": "markdown",
   "metadata": {},
   "source": [
    "# Map, Filer and Reduce"
   ]
  },
  {
   "cell_type": "markdown",
   "metadata": {},
   "source": [
    "<b>Map</b> applies a function to all the items in an input_list\n",
    "\n",
    "Syntax :\n",
    "     \n",
    "        map(function, input_list)\n",
    "              ^\n",
    "          can be a lambda function\n",
    "        \n",
    "<b>Filter</b> creates a list of items for which the function returns true.\n",
    "\n",
    "Synatx :\n",
    "        \n",
    "        list(filter(function,input_list)))\n",
    "                       ^\n",
    "                  can be a lambda function\n",
    "\n",
    "<b>Reduce</b> applies a rolling compunation to sequence pair of elements.\n",
    "\n",
    "Syntax :\n",
    "        \n",
    "        from functools import reduce\n",
    "        val = reduce(function, list1)\n",
    "                        ^\n",
    "                  can be a lambda function\n",
    "\n",
    "If the function computes sum of 2 num and the list is [1,2,3,4]\n",
    "\n",
    "        1     2     3     4\n",
    "        \\_____/\n",
    "           |\n",
    "           3     3     4\n",
    "           \\_____/\n",
    "              |\n",
    "              6     4\n",
    "              \\_____/                     <===== sequential computation\n",
    "                 |\n",
    "                 10   "
   ]
  },
  {
   "cell_type": "markdown",
   "metadata": {},
   "source": [
    "##### Map Example"
   ]
  },
  {
   "cell_type": "code",
   "execution_count": 3,
   "metadata": {},
   "outputs": [
    {
     "name": "stdout",
     "output_type": "stream",
     "text": [
      "Using Normal Method:  [4, 16, 25]\n",
      "------------------------------------\n",
      "<map object at 0x000002216127E1C8>\n",
      "[4, 16, 25]\n"
     ]
    }
   ],
   "source": [
    "# Find Square of all the values in the list\n",
    "\n",
    "def squared_val(num):\n",
    "    return num * num\n",
    "\n",
    "lst = [2,4,5]\n",
    "\n",
    "# Normal Method\n",
    "\n",
    "lst2 = []\n",
    "for i in lst:\n",
    "    lst2.append(squared_val(i))\n",
    "print(\"Using Normal Method: \",lst2)\n",
    "\n",
    "print(\"------------------------------------\")\n",
    "# Using Map\n",
    "\n",
    "print(map(squared_val,lst)) # will give only location\n",
    "\n",
    "print(list(map(squared_val,lst)))"
   ]
  },
  {
   "cell_type": "markdown",
   "metadata": {},
   "source": [
    "##### Filter Example"
   ]
  },
  {
   "cell_type": "code",
   "execution_count": 8,
   "metadata": {},
   "outputs": [
    {
     "name": "stdout",
     "output_type": "stream",
     "text": [
      "[7, 9, 43, 100]\n",
      "[43, 100]\n"
     ]
    }
   ],
   "source": [
    "def greater_than_5(num):\n",
    "    if num > 5:\n",
    "        return True\n",
    "    else:\n",
    "        return False\n",
    "    \n",
    "lst = [1,2,3,4,5,2,7,3,3,9,43,2,5,100]\n",
    "\n",
    "print(list(filter(greater_than_5,lst)))\n",
    "\n",
    "\n",
    "g10 = lambda num : num > 10\n",
    "\n",
    "print(list(filter(g10,lst)))"
   ]
  },
  {
   "cell_type": "markdown",
   "metadata": {},
   "source": [
    "##### Reduce Example"
   ]
  },
  {
   "cell_type": "code",
   "execution_count": 9,
   "metadata": {},
   "outputs": [
    {
     "name": "stdout",
     "output_type": "stream",
     "text": [
      "10\n"
     ]
    }
   ],
   "source": [
    "from functools import reduce\n",
    "\n",
    "sum_val = lambda a,b : a+b\n",
    "\n",
    "lst = [1,2,3,4]\n",
    "val = reduce(sum_val, lst)\n",
    "print(val)"
   ]
  },
  {
   "cell_type": "markdown",
   "metadata": {},
   "source": [
    "###### write a prog to input name, marks and p-number of the student and format it using the format function like below:\n",
    "\n",
    "###### The name of the student is Hardik, his marks are 99 and p-number is 1231234320."
   ]
  },
  {
   "cell_type": "code",
   "execution_count": 1,
   "metadata": {},
   "outputs": [
    {
     "name": "stdout",
     "output_type": "stream",
     "text": [
      "Enter your name:Hardik\n",
      "Enter the marks:99\n",
      "Enter the number:1231234320\n",
      "The name of the student is Hardik, his marks are 99 and p-number is 1231234320.\n"
     ]
    }
   ],
   "source": [
    "name = input(\"Enter your name:\")\n",
    "marks = int(input(\"Enter the marks:\"))\n",
    "p_num = int(input(\"Enter the number:\"))\n",
    "\n",
    "val = \"The name of the student is {0}, his marks are {1} and p-number is {2}.\".format(name,marks,p_num)\n",
    "print(val)"
   ]
  },
  {
   "cell_type": "markdown",
   "metadata": {},
   "source": [
    "##### A list contains the multiplication table of the 7. write a prog to convert it to a vertical string same num."
   ]
  },
  {
   "cell_type": "code",
   "execution_count": 10,
   "metadata": {},
   "outputs": [
    {
     "name": "stdout",
     "output_type": "stream",
     "text": [
      "['7', '14', '21', '28', '35', '42', '49', '56', '63', '70']\n",
      "7\n",
      "14\n",
      "21\n",
      "28\n",
      "35\n",
      "42\n",
      "49\n",
      "56\n",
      "63\n",
      "70\n"
     ]
    }
   ],
   "source": [
    "lst = [str(i*7) for i in range(1,11)]\n",
    "print(lst)\n",
    "\n",
    "val = \"\\n\".join(lst)\n",
    "print(val)"
   ]
  },
  {
   "cell_type": "markdown",
   "metadata": {},
   "source": [
    "##### Write a program to filter the list of number which are divisible by 5."
   ]
  },
  {
   "cell_type": "code",
   "execution_count": 12,
   "metadata": {},
   "outputs": [
    {
     "name": "stdout",
     "output_type": "stream",
     "text": [
      "[15, 10, 80, 90, 5, 75]\n"
     ]
    }
   ],
   "source": [
    "lst = [1,23,15,10,26,29,80,90,66,1,5,3,44,46,75]\n",
    "\n",
    "val = filter(lambda num: num%5==0,lst)\n",
    "print(list(val))"
   ]
  },
  {
   "cell_type": "markdown",
   "metadata": {},
   "source": [
    "##### write a program to find the max of the num in a list using reduce fun."
   ]
  },
  {
   "cell_type": "code",
   "execution_count": 14,
   "metadata": {},
   "outputs": [
    {
     "name": "stdout",
     "output_type": "stream",
     "text": [
      "4\n"
     ]
    }
   ],
   "source": [
    "from functools import reduce\n",
    "\n",
    "lst = [1,2,3,4]\n",
    "val = reduce(max, lst)\n",
    "print(val)"
   ]
  },
  {
   "cell_type": "code",
   "execution_count": null,
   "metadata": {},
   "outputs": [],
   "source": []
  }
 ],
 "metadata": {
  "kernelspec": {
   "display_name": "Python 3",
   "language": "python",
   "name": "python3"
  },
  "language_info": {
   "codemirror_mode": {
    "name": "ipython",
    "version": 3
   },
   "file_extension": ".py",
   "mimetype": "text/x-python",
   "name": "python",
   "nbconvert_exporter": "python",
   "pygments_lexer": "ipython3",
   "version": "3.7.7"
  }
 },
 "nbformat": 4,
 "nbformat_minor": 4
}
