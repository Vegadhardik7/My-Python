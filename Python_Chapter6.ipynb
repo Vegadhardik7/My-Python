{
 "cells": [
  {
   "cell_type": "markdown",
   "metadata": {},
   "source": [
    "# Conditional Expressions"
   ]
  },
  {
   "cell_type": "markdown",
   "metadata": {},
   "source": [
    "## IF, ELSE & ELIF"
   ]
  },
  {
   "cell_type": "markdown",
   "metadata": {},
   "source": [
    "if, else and elif statements are a multiway decision taken by our program due to certain condtions in our code.\n",
    "\n",
    "<b>else</b> is optional"
   ]
  },
  {
   "cell_type": "markdown",
   "metadata": {},
   "source": [
    "### if-elif-else Ladder"
   ]
  },
  {
   "cell_type": "code",
   "execution_count": 3,
   "metadata": {},
   "outputs": [
    {
     "name": "stdout",
     "output_type": "stream",
     "text": [
      "45 is greater than 7\n"
     ]
    }
   ],
   "source": [
    "a = 45\n",
    "if (a>7):\n",
    "    print(a,\"is greater than 7\")\n",
    "elif(a<3):\n",
    "    print(a,\"is smaller than 3\")\n",
    "else:\n",
    "    print(a,\"is equal to 7 or 3\")"
   ]
  },
  {
   "cell_type": "code",
   "execution_count": 4,
   "metadata": {},
   "outputs": [
    {
     "name": "stdout",
     "output_type": "stream",
     "text": [
      "45 is greater than 7\n"
     ]
    }
   ],
   "source": [
    "a = 45\n",
    "if (a>7):\n",
    "    print(a,\"is greater than 7\")\n",
    "elif(a>3):\n",
    "    print(a,\"is smaller than 3\")\n",
    "else:\n",
    "    print(a,\"is equal to 7 or 3\")"
   ]
  },
  {
   "cell_type": "markdown",
   "metadata": {},
   "source": [
    "Only First True Condtion is printed and does not go down through the ladder"
   ]
  },
  {
   "cell_type": "markdown",
   "metadata": {},
   "source": [
    "### Multiple if statements"
   ]
  },
  {
   "cell_type": "code",
   "execution_count": 6,
   "metadata": {},
   "outputs": [
    {
     "name": "stdout",
     "output_type": "stream",
     "text": [
      "45 is greater than 7\n",
      "45 is greater than 3\n",
      "45 is greater than 19\n",
      "45 is greater\n"
     ]
    }
   ],
   "source": [
    "a = 45\n",
    "if (a>7):\n",
    "    print(a,\"is greater than 7\")\n",
    "    \n",
    "if(a>3):\n",
    "    print(a,\"is greater than 3\")\n",
    "\n",
    "if(a>19):\n",
    "    print(a,\"is greater than 19\")\n",
    "\n",
    "if(a<25):\n",
    "    print(a,\"is smaller than 25\")\n",
    "\n",
    "else:\n",
    "    print(a,\"is greater\")"
   ]
  },
  {
   "cell_type": "markdown",
   "metadata": {},
   "source": [
    "##### Q) If greater than 18 print yes"
   ]
  },
  {
   "cell_type": "code",
   "execution_count": 8,
   "metadata": {},
   "outputs": [
    {
     "name": "stdout",
     "output_type": "stream",
     "text": [
      "Enter the number:18\n",
      "18\n"
     ]
    }
   ],
   "source": [
    "age = int(input(\"Enter the number:\"))\n",
    "\n",
    "if age>18:\n",
    "    print(\"Yes\")\n",
    "    \n",
    "elif(age==18):\n",
    "    print(\"18\")\n",
    "    \n",
    "else:\n",
    "    print(\"No\")"
   ]
  },
  {
   "cell_type": "markdown",
   "metadata": {},
   "source": [
    "### Relational Operators"
   ]
  },
  {
   "cell_type": "markdown",
   "metadata": {},
   "source": [
    "Relational Operators are used to evaluate conditions inside the if statements. Some example of relational operators are:\n",
    "    \n",
    "==       : Equals\n",
    "\n",
    "<=       : Smaller than equal to\n",
    "\n",
    "..etc"
   ]
  },
  {
   "cell_type": "markdown",
   "metadata": {},
   "source": [
    "### Logical Operators"
   ]
  },
  {
   "cell_type": "markdown",
   "metadata": {},
   "source": [
    "In python logical operators operate on conditional statement.\n",
    "\n",
    "Example:\n",
    "\n",
    "- and : True if both operands are True else False\n",
    "\n",
    "- or : True if at least one operator is True and False\n",
    "\n",
    "- not : Inverts True to False & False to True"
   ]
  },
  {
   "cell_type": "code",
   "execution_count": 10,
   "metadata": {},
   "outputs": [
    {
     "name": "stdout",
     "output_type": "stream",
     "text": [
      "Enter the number: 66\n",
      "You are too young or old\n"
     ]
    }
   ],
   "source": [
    "age = int(input(\"Enter the number: \"))\n",
    "\n",
    "if (age> 18 and age<50):\n",
    "    print(\"You are Adult\")\n",
    "\n",
    "else:\n",
    "    print(\"You are too young or old\")"
   ]
  },
  {
   "cell_type": "code",
   "execution_count": 12,
   "metadata": {},
   "outputs": [
    {
     "name": "stdout",
     "output_type": "stream",
     "text": [
      "Enter the number: 55\n",
      "You are Adult\n"
     ]
    }
   ],
   "source": [
    "age = int(input(\"Enter the number: \"))\n",
    "\n",
    "if (age> 18 or age>50):\n",
    "    print(\"You are Adult\")\n",
    "\n",
    "else:\n",
    "    print(\"You are too young or old\")"
   ]
  },
  {
   "cell_type": "code",
   "execution_count": 14,
   "metadata": {},
   "outputs": [
    {
     "name": "stdout",
     "output_type": "stream",
     "text": [
      "Enter the number: 3\n",
      "You are too young or old\n"
     ]
    }
   ],
   "source": [
    "age = int(input(\"Enter the number: \"))\n",
    "\n",
    "if (not age<18):\n",
    "    print(\"You are Adult\")\n",
    "\n",
    "else:\n",
    "    print(\"You are too young or old\")"
   ]
  },
  {
   "cell_type": "markdown",
   "metadata": {},
   "source": [
    "### 'in' & 'is'"
   ]
  },
  {
   "cell_type": "code",
   "execution_count": 15,
   "metadata": {},
   "outputs": [
    {
     "name": "stdout",
     "output_type": "stream",
     "text": [
      "Yes\n"
     ]
    }
   ],
   "source": [
    "a = None\n",
    "\n",
    "if(a is None):\n",
    "    print(\"Yes\")\n",
    "else:\n",
    "    print(\"No\")"
   ]
  },
  {
   "cell_type": "code",
   "execution_count": 16,
   "metadata": {},
   "outputs": [
    {
     "name": "stdout",
     "output_type": "stream",
     "text": [
      "True\n",
      "False\n"
     ]
    }
   ],
   "source": [
    "a = [1,2,3,4]\n",
    "\n",
    "print(3 in a)\n",
    "print(5 in a)"
   ]
  },
  {
   "cell_type": "code",
   "execution_count": 17,
   "metadata": {},
   "outputs": [
    {
     "name": "stdout",
     "output_type": "stream",
     "text": [
      "6 is 6\n"
     ]
    }
   ],
   "source": [
    "# else if optional\n",
    "\n",
    "a = 6\n",
    "\n",
    "if(a==7):\n",
    "    print(\"YES\")\n",
    "elif(a>99):\n",
    "    print(\"Greater than 99\")\n",
    "else:\n",
    "    print(a,\"is 6\")"
   ]
  },
  {
   "cell_type": "markdown",
   "metadata": {},
   "source": [
    "----------------------------------------------------------------------"
   ]
  },
  {
   "cell_type": "markdown",
   "metadata": {},
   "source": [
    "##### Q) Write a program  to find the greatest of 4 number entered by the user"
   ]
  },
  {
   "cell_type": "code",
   "execution_count": 20,
   "metadata": {},
   "outputs": [
    {
     "name": "stdout",
     "output_type": "stream",
     "text": [
      "Enter first number:10\n",
      "Enter second number:20\n",
      "Enter third number:30\n",
      "Enter fourth number:40\n",
      "40 is greatest\n"
     ]
    }
   ],
   "source": [
    "n1 = int(input(\"Enter first number:\"))\n",
    "n2 = int(input(\"Enter second number:\"))\n",
    "n3 = int(input(\"Enter third number:\"))\n",
    "n4 = int(input(\"Enter fourth number:\"))\n",
    "\n",
    "if(n1>n4):\n",
    "    f1 = n1\n",
    "else:\n",
    "    f1 = n4\n",
    "    \n",
    "if(n2>n3):\n",
    "    f2 = n2\n",
    "else:\n",
    "    f2 = n3\n",
    "\n",
    "    \n",
    "if(f1>f2):\n",
    "    print(f1,\"is greatest\")\n",
    "else:\n",
    "    print(f2,\"is greatest\")"
   ]
  },
  {
   "cell_type": "markdown",
   "metadata": {},
   "source": [
    "##### Q) Write a program to find out whether a student is pass or fail, if it requires total 40% and at least 33% in each subject to pass. Assume 3 subjects and take marks as an input from the users"
   ]
  },
  {
   "cell_type": "code",
   "execution_count": 23,
   "metadata": {},
   "outputs": [
    {
     "name": "stdout",
     "output_type": "stream",
     "text": [
      "Enter Marks 1:35\n",
      "Enter Marks 2:34\n",
      "Enter Marks 3:33\n",
      "You are fail because you didnt score 40%\n"
     ]
    }
   ],
   "source": [
    "sub1 = int(input(\"Enter Marks 1:\"))\n",
    "sub2 = int(input(\"Enter Marks 2:\"))\n",
    "sub3 = int(input(\"Enter Marks 3:\"))\n",
    "\n",
    "if(sub1<33 or sub2<33 or sub3<33):\n",
    "    print(\"You are fail because you have less than 33% in one of the subject\")\n",
    "    \n",
    "elif((sub1+sub2+sub3)/3 < 40):\n",
    "    print(\"You are fail because you didnt score 40%\")\n",
    "    \n",
    "else:\n",
    "    print(\"Congratulations, you pass\")"
   ]
  },
  {
   "cell_type": "markdown",
   "metadata": {},
   "source": [
    "##### Q) A spam comment is defined as a text containing following keyword: \n",
    "\n",
    "##### - \"Make a lot of money\", \"buy now\", \"subscribe that\", \"click this\"\n",
    "\n",
    "##### write a program to detect spam"
   ]
  },
  {
   "cell_type": "code",
   "execution_count": 26,
   "metadata": {},
   "outputs": [
    {
     "name": "stdout",
     "output_type": "stream",
     "text": [
      "Enter the Text:buy now and win\n",
      "This text is spam\n"
     ]
    }
   ],
   "source": [
    "cmt = input(\"Enter the Text:\")\n",
    "spam = False\n",
    "\n",
    "if(\"Make a lot of money\" in cmt):\n",
    "   spam = True \n",
    "elif(\"buy now\" in cmt):\n",
    "    spam = True\n",
    "elif(\"subscribe that\" in cmt):\n",
    "    spam = True\n",
    "elif(\"click this\" in cmt):\n",
    "    spam = True\n",
    "else:\n",
    "    spam = False\n",
    "    \n",
    "if(spam):\n",
    "    print(\"This text is spam\")\n",
    "else:\n",
    "    print(\"This text is not a spam\")"
   ]
  },
  {
   "cell_type": "markdown",
   "metadata": {},
   "source": [
    "##### Q) Write a program to find whether a given username contains less than 10 character or not"
   ]
  },
  {
   "cell_type": "code",
   "execution_count": 28,
   "metadata": {},
   "outputs": [
    {
     "name": "stdout",
     "output_type": "stream",
     "text": [
      "Enter the username:vh10\n",
      "Username is less than 10 characters\n"
     ]
    }
   ],
   "source": [
    "uname = input(\"Enter the username:\")\n",
    "\n",
    "if(len(uname)<10):\n",
    "    print(\"Username is less than 10 characters\")\n",
    "else:\n",
    "    print(\"Username is greater than 10 character\")"
   ]
  },
  {
   "cell_type": "markdown",
   "metadata": {},
   "source": [
    "##### Q) Write a program which find out whether a given name is present in the list or not"
   ]
  },
  {
   "cell_type": "code",
   "execution_count": 31,
   "metadata": {},
   "outputs": [
    {
     "name": "stdout",
     "output_type": "stream",
     "text": [
      "Enter the name to check:ram\n",
      "Your name is present in the list\n"
     ]
    }
   ],
   "source": [
    "names = ['hardik','ritik','ram','priya']\n",
    "\n",
    "n = input(\"Enter the name to check:\")\n",
    "if n in names:\n",
    "    print(\"Your name is present in the list\")\n",
    "else:\n",
    "    print(\"No name present\")"
   ]
  },
  {
   "cell_type": "markdown",
   "metadata": {},
   "source": [
    "##### Q) Write a program to calculate the grade of a student from his marks from the following Scheme\n",
    "\n",
    "- 90-100 : Ex\n",
    "- 80-90 : A\n",
    "- 70-80 : B\n",
    "- 60-70 : C\n",
    "- 50-60 : D\n",
    "- <50 : F"
   ]
  },
  {
   "cell_type": "code",
   "execution_count": 33,
   "metadata": {},
   "outputs": [
    {
     "name": "stdout",
     "output_type": "stream",
     "text": [
      "Enter your marks:75\n",
      "B\n"
     ]
    }
   ],
   "source": [
    "marks = int(input(\"Enter your marks:\"))\n",
    "\n",
    "if 100>marks>90:\n",
    "    grade = \"Ex\"\n",
    "elif 90>marks>80:\n",
    "    grade = \"A\"\n",
    "elif 80>marks>70:\n",
    "    grade = \"B\"\n",
    "elif 70>marks>60:\n",
    "    grade = \"C\"\n",
    "elif 60>marks>70:\n",
    "    grade = \"D\"\n",
    "elif marks<50:\n",
    "    grade = \"F\"\n",
    "    \n",
    "print(grade)"
   ]
  },
  {
   "cell_type": "markdown",
   "metadata": {},
   "source": [
    "##### Q) Write a program to find out whether a given post is talking about harry or not"
   ]
  },
  {
   "cell_type": "code",
   "execution_count": 41,
   "metadata": {},
   "outputs": [
    {
     "name": "stdout",
     "output_type": "stream",
     "text": [
      "Enter the Text:HaRRy potter\n",
      "Harry is not present\n"
     ]
    }
   ],
   "source": [
    "cmt = input(\"Enter the Text:\")\n",
    "spam = False\n",
    "\n",
    "a = 'harry'\n",
    "a.lower()\n",
    "\n",
    "if(a.lower() in cmt):\n",
    "    spam = True \n",
    "elif(a.upper() in cmt):\n",
    "    spam = True\n",
    "elif(a.capitalize() in cmt):\n",
    "    spam = True\n",
    "# elif(a.casefold() in cmt):\n",
    "#     spam = True\n",
    "else:\n",
    "    spam = False\n",
    "    \n",
    "if(spam):\n",
    "    print(\"Harry is present\")\n",
    "else:\n",
    "    print(\"Harry is not present\")"
   ]
  },
  {
   "cell_type": "code",
   "execution_count": 2,
   "metadata": {},
   "outputs": [
    {
     "name": "stdout",
     "output_type": "stream",
     "text": [
      "Enter the Text:HaRRy potter\n",
      "Harry is present\n"
     ]
    }
   ],
   "source": [
    "cmt = input(\"Enter the Text:\")\n",
    "spam = False\n",
    "\n",
    "a = 'harry'\n",
    "a.lower()\n",
    "\n",
    "if(a in cmt.lower()):\n",
    "    spam = True \n",
    "else:\n",
    "    spam = False\n",
    "    \n",
    "if(spam):\n",
    "    print(\"Harry is present\")\n",
    "else:\n",
    "    print(\"Harry is not present\")"
   ]
  },
  {
   "cell_type": "code",
   "execution_count": null,
   "metadata": {},
   "outputs": [],
   "source": []
  }
 ],
 "metadata": {
  "kernelspec": {
   "display_name": "Python 3",
   "language": "python",
   "name": "python3"
  },
  "language_info": {
   "codemirror_mode": {
    "name": "ipython",
    "version": 3
   },
   "file_extension": ".py",
   "mimetype": "text/x-python",
   "name": "python",
   "nbconvert_exporter": "python",
   "pygments_lexer": "ipython3",
   "version": "3.7.7"
  }
 },
 "nbformat": 4,
 "nbformat_minor": 4
}
