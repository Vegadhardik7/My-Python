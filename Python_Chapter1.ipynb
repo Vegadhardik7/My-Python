{
 "cells": [
  {
   "cell_type": "markdown",
   "metadata": {},
   "source": [
    "# 1.) Hello World\n",
    "# 2.) Modules \n",
    "###      (i) Internal: Pre-installed modules OS, Tkinter...etc\n",
    "###      (ii)External: Need to install the modules Flask, Tensorflow...etc\n",
    "# 3.) Pip:\n",
    "###          It is a package manager of the python \n",
    "# 4.) Repl:\n",
    "###         Read Evaluate Print Loop (Quick Terminal)\n",
    "# 5.) Comment:\n",
    "###         '#' = Single line,     '''Hello World''' = Multi-line"
   ]
  },
  {
   "cell_type": "code",
   "execution_count": 1,
   "metadata": {},
   "outputs": [
    {
     "name": "stdout",
     "output_type": "stream",
     "text": [
      "Hello World\n"
     ]
    }
   ],
   "source": [
    "print(\"Hello World\")"
   ]
  },
  {
   "cell_type": "code",
   "execution_count": 2,
   "metadata": {},
   "outputs": [
    {
     "name": "stdout",
     "output_type": "stream",
     "text": [
      "\n",
      "The universe is all of space and time and their contents, including planets, stars, \n",
      "galaxies, and all other forms of matter and energy.\n",
      "\n"
     ]
    }
   ],
   "source": [
    "print('''\n",
    "The universe is all of space and time and their contents, including planets, stars, \n",
    "galaxies, and all other forms of matter and energy.\n",
    "''')"
   ]
  },
  {
   "cell_type": "code",
   "execution_count": 3,
   "metadata": {},
   "outputs": [],
   "source": [
    "# from playsound import playsound\n",
    "# playsound('D:\\\\courses\\\\Python_code_with_harry\\\\codes_notes\\\\1. Chapter 1\\play.mp3')"
   ]
  },
  {
   "cell_type": "code",
   "execution_count": 1,
   "metadata": {},
   "outputs": [
    {
     "name": "stdout",
     "output_type": "stream",
     "text": [
      "['.ipynb_checkpoints', 'Python_Chapter1.ipynb']\n"
     ]
    }
   ],
   "source": [
    "import os\n",
    "print(os.listdir())"
   ]
  },
  {
   "cell_type": "markdown",
   "metadata": {},
   "source": [
    "All the files which are present in the folder are printed"
   ]
  },
  {
   "cell_type": "code",
   "execution_count": null,
   "metadata": {},
   "outputs": [],
   "source": []
  }
 ],
 "metadata": {
  "kernelspec": {
   "display_name": "Python 3",
   "language": "python",
   "name": "python3"
  },
  "language_info": {
   "codemirror_mode": {
    "name": "ipython",
    "version": 3
   },
   "file_extension": ".py",
   "mimetype": "text/x-python",
   "name": "python",
   "nbconvert_exporter": "python",
   "pygments_lexer": "ipython3",
   "version": "3.7.7"
  }
 },
 "nbformat": 4,
 "nbformat_minor": 4
}
