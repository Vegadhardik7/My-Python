{
 "cells": [
  {
   "cell_type": "markdown",
   "metadata": {},
   "source": [
    "# Inheritance and More in OOP's"
   ]
  },
  {
   "cell_type": "markdown",
   "metadata": {},
   "source": [
    "Inheritance is a way of creating a raw class from an existing class."
   ]
  },
  {
   "cell_type": "markdown",
   "metadata": {},
   "source": [
    "syntax:\n",
    "\n",
    "    class Employee:                   <==== Base Class\n",
    "        #CODE\n",
    "        ...\n",
    "        \n",
    "    class Programmer(Employee):       <==== Derived or Child Class\n",
    "        #CODE\n",
    "        \n",
    "        \n",
    "we can use the methods and attributes of Employee in programmer object. Also we can overwrite or add new attribute and methods in Programmer class."
   ]
  },
  {
   "cell_type": "code",
   "execution_count": 4,
   "metadata": {},
   "outputs": [
    {
     "name": "stdout",
     "output_type": "stream",
     "text": [
      "This is an Employee\n",
      "This is an Employee\n",
      "Google\n"
     ]
    }
   ],
   "source": [
    "class Employee:\n",
    "    company = \"Google\"\n",
    "    \n",
    "    def showDetails(self):\n",
    "        print(\"This is an Employee\")\n",
    "        \n",
    "        \n",
    "class Programmer(Employee):\n",
    "    lang = \"Python\"\n",
    "    company=\"Microsoft\"     # This will over-ride Parent class company\n",
    "    def getLang(self):\n",
    "        print(f\"The language is {self.lang}\")\n",
    "        \n",
    "e = Employee()\n",
    "e.showDetails()\n",
    "p = Programmer()\n",
    "p.showDetails()\n",
    "\n",
    "print(p.company)"
   ]
  },
  {
   "cell_type": "markdown",
   "metadata": {},
   "source": [
    "## <b>Types of Inheritance</b>\n",
    "\n",
    "(1) Single Inheritance\n",
    "\n",
    "(2) Multiple Inheritance\n",
    "\n",
    "(3) Multilevel Inheritance"
   ]
  },
  {
   "cell_type": "markdown",
   "metadata": {},
   "source": [
    "### (1) Single Inheritance\n",
    "\n",
    "Single Inheritance occurs when child class inherits only a single parent class."
   ]
  },
  {
   "cell_type": "markdown",
   "metadata": {},
   "source": [
    "Base ===>  Derived"
   ]
  },
  {
   "cell_type": "code",
   "execution_count": 5,
   "metadata": {},
   "outputs": [
    {
     "name": "stdout",
     "output_type": "stream",
     "text": [
      "This is an Employee\n",
      "This is an Employee\n",
      "Microsoft\n"
     ]
    }
   ],
   "source": [
    "class Employee:\n",
    "    company = \"Google\"\n",
    "    \n",
    "    def showDetails(self):\n",
    "        print(\"This is an Employee\")\n",
    "        \n",
    "        \n",
    "class Programmer(Employee):\n",
    "    lang = \"Python\"\n",
    "    company=\"Microsoft\"     # This will over-ride Parent class company\n",
    "    def getLang(self):\n",
    "        print(f\"The language is {self.lang}\")\n",
    "        \n",
    "e = Employee()\n",
    "e.showDetails()\n",
    "p = Programmer()\n",
    "p.showDetails()\n",
    "\n",
    "print(p.company)"
   ]
  },
  {
   "cell_type": "markdown",
   "metadata": {},
   "source": [
    "### (2) Multiple Inheritance\n",
    "\n",
    "Multiple Inheritance occurs when the child class inherits from more than one parent class.\n",
    "\n",
    "Example:\n",
    "    \n",
    "                 \n",
    "     Parent1            Parent2   ... Parent_N     \n",
    "       \\__________________/\n",
    "                 |\n",
    "               Child"
   ]
  },
  {
   "cell_type": "code",
   "execution_count": 9,
   "metadata": {},
   "outputs": [
    {
     "name": "stdout",
     "output_type": "stream",
     "text": [
      "Visa\n",
      "0\n",
      "1\n"
     ]
    }
   ],
   "source": [
    "class Employee:\n",
    "    company = \"Visa\"\n",
    "    eCode = 120\n",
    "    \n",
    "class Freelancer:\n",
    "    company = \"Fiverr\"\n",
    "    level = 0\n",
    "    \n",
    "    def upgradeLevel(self):\n",
    "        self.level += 1\n",
    "    \n",
    "class Programmer(Employee, Freelancer):\n",
    "    name = \"Rohit\"\n",
    "    \n",
    "p = Programmer()    \n",
    "\n",
    "print(p.company)\n",
    "print(p.level)\n",
    "p.upgradeLevel()\n",
    "print(p.level)"
   ]
  },
  {
   "cell_type": "markdown",
   "metadata": {},
   "source": [
    "Printed Visa 1st... because in class Programmer we first initialize Employee and than Freelancer, but if we had printed Freelancer and than Employee than we would had got Fiverr."
   ]
  },
  {
   "cell_type": "code",
   "execution_count": 10,
   "metadata": {},
   "outputs": [
    {
     "name": "stdout",
     "output_type": "stream",
     "text": [
      "Fiverr\n",
      "0\n",
      "1\n"
     ]
    }
   ],
   "source": [
    "class Employee:\n",
    "    company = \"Visa\"\n",
    "    eCode = 120\n",
    "    \n",
    "class Freelancer:\n",
    "    company = \"Fiverr\"\n",
    "    level = 0\n",
    "    \n",
    "    def upgradeLevel(self):\n",
    "        self.level += 1\n",
    "    \n",
    "class Programmer(Freelancer, Employee):\n",
    "    name = \"Rohit\"\n",
    "    \n",
    "p = Programmer()    \n",
    "\n",
    "print(p.company)\n",
    "print(p.level)\n",
    "p.upgradeLevel()\n",
    "print(p.level)"
   ]
  },
  {
   "cell_type": "markdown",
   "metadata": {},
   "source": [
    "### (3) Multilevel Inheritance\n",
    "\n",
    "When a child class becomes a parent for another child class.\n",
    " \n",
    "Example:\n",
    "    \n",
    "                 Parent1\n",
    "                    ↓\n",
    "                  Child1\n",
    "                    ↓\n",
    "                  Child2\n",
    "                    \n",
    "                 "
   ]
  },
  {
   "cell_type": "code",
   "execution_count": 14,
   "metadata": {},
   "outputs": [
    {
     "name": "stdout",
     "output_type": "stream",
     "text": [
      "I am alive...\n",
      "I am an Employee and breathing\n",
      "I am an Programmer and I am breathing++\n"
     ]
    }
   ],
   "source": [
    "class Person:                                                  # DATA JI\n",
    "    country = \"India\"\n",
    "    city = \"Mumbai\"\n",
    "    \n",
    "    def takeBreath(self):\n",
    "        print(\"I am alive...\")\n",
    "        \n",
    "class Employee(Person):                                        # PITA JI\n",
    "    company = \"Google\"\n",
    "    \n",
    "    def getSalary(self):\n",
    "        print(f\"salary is {self.salary}\")\n",
    "        \n",
    "    def takeBreath(self):\n",
    "        print(\"I am an Employee and breathing\")\n",
    "\n",
    "class Programmer(Employee):                                    # BETA / POTA\n",
    "    company = \"Microsoft\"\n",
    "    \n",
    "    def getSalary(self):\n",
    "        print(\"No Salary\")\n",
    "        \n",
    "    def takeBreath(self):\n",
    "        print(\"I am an Programmer and I am breathing++\")\n",
    "        \n",
    "        \n",
    "p = Person()\n",
    "e = Employee()\n",
    "pr = Programmer()\n",
    "\n",
    "p.takeBreath()\n",
    "e.takeBreath()\n",
    "pr.takeBreath()\n"
   ]
  },
  {
   "cell_type": "markdown",
   "metadata": {},
   "source": [
    "### Super() Method\n",
    "\n",
    "Super Method is used to access the methods of a <b>super class</b> in the derived class.\n",
    "\n",
    "Example:\n",
    "\n",
    "        super().__init__()     <=== calls constructor of the base class"
   ]
  },
  {
   "cell_type": "code",
   "execution_count": 16,
   "metadata": {},
   "outputs": [
    {
     "name": "stdout",
     "output_type": "stream",
     "text": [
      "I am alive...\n",
      "---------------------\n",
      "I am an Employee and breathing\n",
      "---------------------\n",
      "I am an Employee and breathing\n",
      "I am an Programmer and I am breathing++\n"
     ]
    }
   ],
   "source": [
    "class Person:                                                  # DATA JI\n",
    "    country = \"India\"\n",
    "    city = \"Mumbai\"\n",
    "    \n",
    "    def takeBreath(self):\n",
    "        print(\"I am alive...\")\n",
    "        \n",
    "class Employee(Person):                                        # PITA JI\n",
    "    company = \"Google\"\n",
    "    \n",
    "    def getSalary(self):\n",
    "        print(f\"salary is {self.salary}\")\n",
    "        \n",
    "    def takeBreath(self):\n",
    "        print(\"I am an Employee and breathing\")\n",
    "\n",
    "class Programmer(Employee):                                    # BETA / POTA\n",
    "    company = \"Microsoft\"\n",
    "    \n",
    "    def getSalary(self):\n",
    "        print(\"No Salary\")\n",
    "        \n",
    "    def takeBreath(self):\n",
    "        super().takeBreath()\n",
    "        print(\"I am an Programmer and I am breathing++\")\n",
    "        \n",
    "        \n",
    "p = Person()\n",
    "p.takeBreath()\n",
    "\n",
    "print(\"---------------------\")\n",
    "\n",
    "e = Employee()\n",
    "e.takeBreath()\n",
    "\n",
    "print(\"---------------------\")\n",
    "\n",
    "pr = Programmer()\n",
    "pr.takeBreath()"
   ]
  },
  {
   "cell_type": "code",
   "execution_count": 18,
   "metadata": {},
   "outputs": [
    {
     "name": "stdout",
     "output_type": "stream",
     "text": [
      "Initializing the Person\n",
      "Initializing the Employee\n"
     ]
    }
   ],
   "source": [
    "class Person:                                                  # DATA JI\n",
    "    \n",
    "    country = \"India\"\n",
    "    \n",
    "    def __init__(self):\n",
    "        print(\"Initializing the Person\")\n",
    "    \n",
    "    def takeBreath(self):\n",
    "        print(\"I am alive...\")\n",
    "        \n",
    "class Employee(Person):                                        # PITA JI\n",
    "    company = \"Google\"\n",
    "    \n",
    "    \n",
    "    def __init__(self):\n",
    "        super().__init__()\n",
    "        print(\"Initializing the Employee\")    \n",
    "        \n",
    "    def getSalary(self):\n",
    "        print(f\"salary is {self.salary}\")\n",
    "        \n",
    "    def takeBreath(self):\n",
    "        print(\"I am an Employee and breathing\")\n",
    "\n",
    "class Programmer(Employee):                                    # BETA / POTA\n",
    "    company = \"Microsoft\"\n",
    "    \n",
    "    def getSalary(self):\n",
    "        print(\"No Salary\")\n",
    "        \n",
    "    def takeBreath(self):\n",
    "        super().takeBreath()\n",
    "        print(\"I am an Programmer and I am breathing++\")\n",
    "        \n",
    "        \n",
    "# p = Person()\n",
    "# p.takeBreath()\n",
    "\n",
    "# print(\"---------------------\")\n",
    "\n",
    "e = Employee()\n",
    "# e.takeBreath()\n",
    "\n",
    "# print(\"---------------------\")\n",
    "\n",
    "# pr = Programmer()\n",
    "# pr.takeBreath()"
   ]
  },
  {
   "cell_type": "code",
   "execution_count": 19,
   "metadata": {},
   "outputs": [
    {
     "name": "stdout",
     "output_type": "stream",
     "text": [
      "Initializing the Person\n",
      "Initializing the Programmer\n"
     ]
    }
   ],
   "source": [
    "class Person:                                                  # DATA JI\n",
    "    \n",
    "    country = \"India\"\n",
    "    \n",
    "    def __init__(self):\n",
    "        print(\"Initializing the Person\")\n",
    "    \n",
    "    def takeBreath(self):\n",
    "        print(\"I am alive...\")\n",
    "        \n",
    "class Employee(Person):                                        # PITA JI\n",
    "    company = \"Google\"\n",
    "            \n",
    "    def getSalary(self):\n",
    "        print(f\"salary is {self.salary}\")\n",
    "        \n",
    "    def takeBreath(self):\n",
    "        print(\"I am an Employee and breathing\")\n",
    "\n",
    "class Programmer(Employee):                                    # BETA / POTA\n",
    "    company = \"Microsoft\"\n",
    "        \n",
    "    def __init__(self):\n",
    "        super().__init__()\n",
    "        print(\"Initializing the Programmer\")    \n",
    "    \n",
    "    def getSalary(self):\n",
    "        print(\"No Salary\")\n",
    "        \n",
    "    def takeBreath(self):\n",
    "        super().takeBreath()\n",
    "        print(\"I am an Programmer and I am breathing++\")\n",
    "        \n",
    "        \n",
    "# p = Person()\n",
    "# p.takeBreath()\n",
    "\n",
    "# print(\"---------------------\")\n",
    "\n",
    "# e = Employee()\n",
    "# e.takeBreath()\n",
    "\n",
    "# print(\"---------------------\")\n",
    "\n",
    "pr = Programmer()\n",
    "# pr.takeBreath()"
   ]
  },
  {
   "cell_type": "code",
   "execution_count": 20,
   "metadata": {},
   "outputs": [
    {
     "name": "stdout",
     "output_type": "stream",
     "text": [
      "Initializing the Programmer\n"
     ]
    }
   ],
   "source": [
    "class Person:                                                  # DATA JI\n",
    "    \n",
    "    country = \"India\"\n",
    "    \n",
    "    def __init__(self):\n",
    "        print(\"Initializing the Person\")\n",
    "    \n",
    "    def takeBreath(self):\n",
    "        print(\"I am alive...\")\n",
    "        \n",
    "class Employee(Person):                                        # PITA JI\n",
    "    company = \"Google\"\n",
    "            \n",
    "    def getSalary(self):\n",
    "        print(f\"salary is {self.salary}\")\n",
    "        \n",
    "    def takeBreath(self):\n",
    "        print(\"I am an Employee and breathing\")\n",
    "\n",
    "class Programmer(Employee):                                    # BETA / POTA\n",
    "    company = \"Microsoft\"\n",
    "        \n",
    "    def __init__(self):\n",
    "#         super().__init__()\n",
    "        print(\"Initializing the Programmer\")    \n",
    "    \n",
    "    def getSalary(self):\n",
    "        print(\"No Salary\")\n",
    "        \n",
    "    def takeBreath(self):\n",
    "        super().takeBreath()\n",
    "        print(\"I am an Programmer and I am breathing++\")\n",
    "        \n",
    "        \n",
    "# p = Person()\n",
    "# p.takeBreath()\n",
    "\n",
    "# print(\"---------------------\")\n",
    "\n",
    "# e = Employee()\n",
    "# e.takeBreath()\n",
    "\n",
    "# print(\"---------------------\")\n",
    "\n",
    "pr = Programmer()\n",
    "# pr.takeBreath()"
   ]
  },
  {
   "cell_type": "markdown",
   "metadata": {},
   "source": [
    "------------------------------------------\n",
    "\n",
    "## Class Methods\n",
    "\n",
    "A class method is a method which bound to the class and not the object of the class.\n",
    "\n",
    "<b>@classmethod</b> decoder is used to create a class method\n",
    "\n",
    "syntax:\n",
    "\n",
    "    @classmethod\n",
    "    def method_name(cls,p1,p2):\n",
    "        ...\n",
    "       "
   ]
  },
  {
   "cell_type": "code",
   "execution_count": 5,
   "metadata": {},
   "outputs": [
    {
     "name": "stdout",
     "output_type": "stream",
     "text": [
      "100\n",
      "999\n",
      "999\n"
     ]
    }
   ],
   "source": [
    "# Here we create the instance attribute but we want to change the class attribute\n",
    "\n",
    "class Employee:\n",
    "    company = \"Google\"\n",
    "    salary = 100\n",
    "    location = \"Mumbai\"\n",
    "    \n",
    "    def changeSalary(self, sal):\n",
    "        self.salary = sal\n",
    "    \n",
    "e = Employee()\n",
    "\n",
    "print(e.salary)\n",
    "e.changeSalary(999)\n",
    "print(e.salary)\n",
    "print(Employee.salary)"
   ]
  },
  {
   "cell_type": "code",
   "execution_count": 6,
   "metadata": {},
   "outputs": [
    {
     "name": "stdout",
     "output_type": "stream",
     "text": [
      "100\n",
      "999\n",
      "999\n"
     ]
    }
   ],
   "source": [
    "# To change the attribute of the class \n",
    "\n",
    "# 1st way:\n",
    "\n",
    "class Employee:\n",
    "    company = \"Google\"\n",
    "    salary = 100\n",
    "    location = \"Mumbai\"\n",
    "    \n",
    "    def changeSalary(self, sal):\n",
    "        self.__class__.salary = sal    # using dunder classd\n",
    "    \n",
    "e = Employee()\n",
    "\n",
    "print(e.salary)\n",
    "e.changeSalary(999)\n",
    "print(e.salary)\n",
    "print(Employee.salary)"
   ]
  },
  {
   "cell_type": "code",
   "execution_count": 7,
   "metadata": {},
   "outputs": [
    {
     "name": "stdout",
     "output_type": "stream",
     "text": [
      "100\n",
      "999\n",
      "999\n"
     ]
    }
   ],
   "source": [
    "# To change the attribute of the class \n",
    "\n",
    "# 2st way:\n",
    "\n",
    "class Employee:\n",
    "    company = \"Google\"\n",
    "    salary = 100\n",
    "    location = \"Mumbai\"\n",
    "    \n",
    "    @classmethod\n",
    "    def changeSalary(cls, sal):\n",
    "        cls.salary = sal   \n",
    "        \n",
    "e = Employee()\n",
    "\n",
    "print(e.salary)\n",
    "e.changeSalary(999)\n",
    "print(e.salary)\n",
    "print(Employee.salary)"
   ]
  },
  {
   "cell_type": "markdown",
   "metadata": {},
   "source": [
    "-------------------------------------------\n",
    "\n",
    "## Property Decorators\n",
    "\n",
    "\n",
    "        \n",
    "    @property decorators\n",
    "    consider the following class\n",
    "    \n",
    "    class Employee:\n",
    "        @property\n",
    "        def name(self):\n",
    "            return self.ename\n",
    "            \n",
    "            \n",
    "if e = Employee() is an object of class employee, we can preint(e.name) to print the ename/call name() function.\n",
    "\n",
    "\n",
    "\n",
    "<b>@.getters and @.setters</b>\n",
    "\n",
    "The method name with @property decorder is called getter method.\n",
    "\n",
    "we can define a function+@name.setter decorder like below:\n",
    "\n",
    "\n",
    "    @name.setter\n",
    "    def name(self, value):\n",
    "        self.ename = value\n",
    "        \n",
    "        \n",
    "        \n",
    "<b>Operator Overloading In Python</b>\n",
    "\n",
    "Operator in python can be overloaded using dunder methods.\n",
    "\n",
    "These methods are called when a given operator is used on the objects."
   ]
  },
  {
   "cell_type": "code",
   "execution_count": 9,
   "metadata": {},
   "outputs": [
    {
     "name": "stdout",
     "output_type": "stream",
     "text": [
      "900\n"
     ]
    }
   ],
   "source": [
    "class Employee:\n",
    "    company = \"Google\"\n",
    "    \n",
    "    salary = 400\n",
    "    \n",
    "    salary_bonus = 500\n",
    "    \n",
    "    # total_salary = 600\n",
    "    \n",
    "    @property                               # Getter Method\n",
    "    def total_salary(self):\n",
    "        return self.salary + self.salary_bonus\n",
    "    \n",
    "\n",
    "e = Employee()\n",
    "print(e.total_salary)"
   ]
  },
  {
   "cell_type": "code",
   "execution_count": 11,
   "metadata": {},
   "outputs": [
    {
     "name": "stdout",
     "output_type": "stream",
     "text": [
      "900\n",
      "600\n"
     ]
    }
   ],
   "source": [
    "class Employee:\n",
    "    company = \"Google\"\n",
    "    \n",
    "    salary = 400\n",
    "    \n",
    "    salary_bonus = 500\n",
    "    \n",
    "    # total_salary = 600\n",
    "    \n",
    "    @property                                    # Getter Method\n",
    "    def total_salary(self):\n",
    "        return self.salary + self.salary_bonus\n",
    "    \n",
    "\n",
    "    \n",
    "    @total_salary.setter\n",
    "    def total_salary(self, val):\n",
    "        self.salary_bonus = val - self.salary\n",
    "    \n",
    "e = Employee()\n",
    "print(e.total_salary)\n",
    "e.total_salary = 1000\n",
    "\n",
    "print(e.salary_bonus)"
   ]
  },
  {
   "cell_type": "markdown",
   "metadata": {},
   "source": [
    "---------------------------\n",
    "\n",
    "## Operator Overloading in Python\n",
    "\n",
    "Operator over loading in python can be overloaded using dunder methods.\n",
    "\n",
    "These methods are called when a given operator is used on the objects.\n",
    "\n",
    "\n",
    "Operators we can be overloaded using the following methods:\n",
    "\n",
    "    p1 + p2 = p1.__add__(p2)\n",
    "\n",
    "    p1 - p2 = p1.__sub__(p2)\n",
    "\n",
    "    p1 * p2 = p1.__mul__(p2)\n",
    "\n",
    "    p1 / p2 = p1.__truediv__(p2)\n",
    "\n",
    "    p1 // p2 = p1.__floordiv__(p2)\n",
    "    \n",
    "    \n",
    "    \n",
    "<b>Other Dunder/Magic methods in python</b>:\n",
    "    \n",
    "    __str__()       <=== Use to set what gets displayed upon calling str(obj)\n",
    "    \n",
    "    __len__()       <=== Used to set what gets displayed upon calling __len__() or len(obj)"
   ]
  },
  {
   "cell_type": "code",
   "execution_count": 20,
   "metadata": {},
   "outputs": [
    {
     "name": "stdout",
     "output_type": "stream",
     "text": [
      "Let's add\n",
      "Let's Multiply\n",
      "10\n",
      "24\n"
     ]
    }
   ],
   "source": [
    "class Number:\n",
    "    def __init__(self, num1):\n",
    "        self.num1 = num1\n",
    "        \n",
    "        \n",
    "    def __add__(self, num2):\n",
    "        print(\"Let's add\")\n",
    "        return self.num1 + num2.num1\n",
    "    \n",
    "    def __mul__(self, num2):\n",
    "        print(\"Let's Multiply\")\n",
    "        return self.num1 * num2.num1\n",
    "        \n",
    "        \n",
    "n1 = Number(4)\n",
    "n2 = Number(6)\n",
    "\n",
    "sum_val = n1 + n2\n",
    "mul_val = n1 * n2\n",
    "\n",
    "print(sum_val)\n",
    "print(mul_val)"
   ]
  },
  {
   "cell_type": "code",
   "execution_count": 30,
   "metadata": {},
   "outputs": [
    {
     "name": "stdout",
     "output_type": "stream",
     "text": [
      "Decimal Number: 4\n",
      "1\n"
     ]
    }
   ],
   "source": [
    "class Number:\n",
    "    def __init__(self, num1):\n",
    "        self.num1 = num1\n",
    "        \n",
    "        \n",
    "    def __add__(self, num2):\n",
    "        print(\"Let's add\")\n",
    "        return self.num1 + num2.num1\n",
    "    \n",
    "    \n",
    "    def __mul__(self, num2):\n",
    "        print(\"Let's Multiply\")\n",
    "        return self.num1 * num2.num1\n",
    "        \n",
    "        \n",
    "    def __str__(self):\n",
    "        return f\"Decimal Number: {self.num1}\"\n",
    "        \n",
    "        \n",
    "    def __len__(self):\n",
    "        return 1\n",
    "        \n",
    "n1 = Number(4)\n",
    "\n",
    "\n",
    "print(n1)\n",
    "print(len(n1))"
   ]
  },
  {
   "cell_type": "markdown",
   "metadata": {},
   "source": [
    "--------------------------------"
   ]
  },
  {
   "cell_type": "markdown",
   "metadata": {},
   "source": [
    "##### Q) Create a class C-2 Vector and use it to create another class representing a 3D Vector."
   ]
  },
  {
   "cell_type": "code",
   "execution_count": 33,
   "metadata": {},
   "outputs": [
    {
     "name": "stdout",
     "output_type": "stream",
     "text": [
      "1i + 3j\n",
      "1i + 9j + 7k\n"
     ]
    }
   ],
   "source": [
    "# ˆi = x-axis\n",
    "# ˆj = y-axis\n",
    "# ˆk = z-axis\n",
    "\n",
    "class C2d_vec():\n",
    "    \n",
    "    def __init__(self, i, j):\n",
    "        self.icap = i\n",
    "        self.jcap = j\n",
    "    \n",
    "    def __str__(self):\n",
    "        return f\"{self.icap}i + {self.jcap}j\"\n",
    "    \n",
    "class C3d_vec(C2d_vec):\n",
    "    \n",
    "    def __init__(self, i, j, k):\n",
    "        super().__init__(i, j)\n",
    "        self.kcap = k\n",
    "    \n",
    "    \n",
    "    \n",
    "    def __str__(self):\n",
    "        return f\"{self.icap}i + {self.jcap}j + {self.kcap}k\"\n",
    "    \n",
    "    \n",
    "    \n",
    "v2d = C2d_vec(1,3)\n",
    "v3d = C3d_vec(1,9,7)\n",
    "    \n",
    "    \n",
    "print(v2d)\n",
    "print(v3d)"
   ]
  },
  {
   "cell_type": "markdown",
   "metadata": {},
   "source": [
    "##### Q) Create a class pets from a class Animals and further create class Dog from Pets. Add a method bark to the dog"
   ]
  },
  {
   "cell_type": "code",
   "execution_count": 34,
   "metadata": {},
   "outputs": [
    {
     "name": "stdout",
     "output_type": "stream",
     "text": [
      "Bark Bark!!!\n"
     ]
    }
   ],
   "source": [
    "class Animals:\n",
    "    animal_type = \"Mammal\"\n",
    "\n",
    "class Pets(Animals):\n",
    "    pet_color = \"Black\"\n",
    "\n",
    "class Dog(Pets):\n",
    "    \n",
    "    @staticmethod\n",
    "    def bark():\n",
    "        print(\"Bark Bark!!!\")\n",
    "        \n",
    "d = Dog()\n",
    "d.bark()"
   ]
  },
  {
   "cell_type": "markdown",
   "metadata": {},
   "source": [
    "##### Q) Create a class Employee and add salary and increment properties to it.\n",
    "\n",
    "##### Write a method SalaryAfterIncrement method with a @property decorator with a setter which changes the value of increment based on the salary"
   ]
  },
  {
   "cell_type": "code",
   "execution_count": 38,
   "metadata": {},
   "outputs": [
    {
     "name": "stdout",
     "output_type": "stream",
     "text": [
      "2000\n",
      "2.0\n",
      "2000.0\n"
     ]
    }
   ],
   "source": [
    "class Employee:\n",
    "    salary = 1000\n",
    "    increment = 2\n",
    "    \n",
    "    @property\n",
    "    def SalaryAfterIncrement(self):\n",
    "        return self.salary * self.increment\n",
    "    \n",
    "    \n",
    "    @SalaryAfterIncrement.setter\n",
    "    def SalaryAfterIncrement(self, SAI):\n",
    "        self.increment = SAI / self.salary \n",
    "\n",
    "e = Employee()\n",
    "print(e.SalaryAfterIncrement)\n",
    "\n",
    "e.SalaryAfterIncrement = 2000\n",
    "\n",
    "print(e.increment)\n",
    "print(e.SalaryAfterIncrement)"
   ]
  },
  {
   "cell_type": "markdown",
   "metadata": {},
   "source": [
    "##### Q) Write a class complex to represent complex number, along with overloaded operator + and * which add and mul them"
   ]
  },
  {
   "cell_type": "code",
   "execution_count": 51,
   "metadata": {},
   "outputs": [
    {
     "name": "stdout",
     "output_type": "stream",
     "text": [
      "(332-41j)\n",
      "(183-1361j)\n"
     ]
    }
   ],
   "source": [
    "class Complex:\n",
    "    \n",
    "    def __init__(self, real, imaginary):\n",
    "        self.real = real\n",
    "        self.imaginary = imaginary\n",
    "    \n",
    "    \n",
    "    def __add__(self,c):\n",
    "        print(\"Let's Add\")\n",
    "        return Complex(self.real + c.real, self.imaginary + c.imaginary) \n",
    "    \n",
    "    def __mul__(self,num2):\n",
    "        print(\"Let's Multiply\")\n",
    "        mulreal = self.real*c.real - self.imaginary*c.imaginary\n",
    "        mulimg = self.real*c.imaginary + self.imaginary*c.real\n",
    "        \n",
    "        return Complex(mulreal, mulimg)\n",
    "    \n",
    "    def __str__(self):\n",
    "        if self.imaginary < 0:\n",
    "            return f\"{self.real} - {-self.imaginary}\"\n",
    "        else: \n",
    "            return f\"{self.real} + {self.imaginary}\"\n",
    "\n",
    "\n",
    "c1 = complex(1,-4)\n",
    "c2 = complex(331,-37)\n",
    "\n",
    "print(c1 + c2)\n",
    "print(c1 * c2)"
   ]
  },
  {
   "cell_type": "markdown",
   "metadata": {},
   "source": [
    "##### Q) Write a class vector representing a vector of n dimesion. Over load the + and * operator which calculate the sum and the dot product of them"
   ]
  },
  {
   "cell_type": "code",
   "execution_count": 64,
   "metadata": {},
   "outputs": [
    {
     "name": "stdout",
     "output_type": "stream",
     "text": [
      "Value of V1:  1a0 + 4a1 \n",
      "Addition of V1 and V2:  2a0 + 10a1 \n",
      "Multiplication of V1 and V2: 25\n"
     ]
    }
   ],
   "source": [
    "class Vector:\n",
    "    \n",
    "    def __init__(self, vec):\n",
    "        self.vec = vec\n",
    "    \n",
    "    def __str__(self):\n",
    "        str1 = \"\"\n",
    "        index = 0\n",
    "        for i in self.vec:\n",
    "            str1 += f\" {i}a{index} +\"\n",
    "            index +=1\n",
    "        return str1[:-1]\n",
    "  \n",
    "  \n",
    "    def __add__(self, vec2):\n",
    "        newlst = []\n",
    "        for i in range(len(self.vec)):\n",
    "            newlst.append(self.vec[i] + vec2.vec[i])\n",
    "        return Vector(newlst)\n",
    "    \n",
    "    \n",
    "    def __mul__(self, vec2):\n",
    "        product = 0\n",
    "        newlst = []\n",
    "        for i in range(len(self.vec)):\n",
    "            product += self.vec[i] * vec2.vec[i]\n",
    "        return product\n",
    "    \n",
    "    \n",
    "  \n",
    "\n",
    "v1 = Vector([1,4])\n",
    "v2 = Vector([1,6])\n",
    "print(\"Value of V1:\",v1)\n",
    "print(\"Addition of V1 and V2:\",v1+v2)\n",
    "\n",
    "print(\"Multiplication of V1 and V2:\",v1*v2)"
   ]
  },
  {
   "cell_type": "markdown",
   "metadata": {},
   "source": [
    "##### Q) Write __str__() method to print the vector as follow:\n",
    "\n",
    "##### 7ˆi + 8ˆj + 10ˆk\n",
    "\n",
    "##### Assume vector of dimension 3 for this problem"
   ]
  },
  {
   "cell_type": "code",
   "execution_count": 66,
   "metadata": {},
   "outputs": [
    {
     "name": "stdout",
     "output_type": "stream",
     "text": [
      "1i + 4j + 8k\n",
      "1i + 6j + 9k\n"
     ]
    }
   ],
   "source": [
    "class Vector:\n",
    "    \n",
    "    def __init__(self, vec):\n",
    "        self.vec = vec\n",
    "    \n",
    "    def __str__(self):\n",
    "        return f\"{self.vec[0]}i + {self.vec[1]}j + {self.vec[2]}k\"\n",
    "\n",
    "v1 = Vector([1,4,8])\n",
    "v2 = Vector([1,6,9])\n",
    "\n",
    "print(v1)\n",
    "print(v2)"
   ]
  },
  {
   "cell_type": "markdown",
   "metadata": {},
   "source": [
    "##### Q) Override the \\_\\_len_\\_\\() method on Vector of problem 5 to display the dimension of the vector"
   ]
  },
  {
   "cell_type": "code",
   "execution_count": 69,
   "metadata": {},
   "outputs": [
    {
     "name": "stdout",
     "output_type": "stream",
     "text": [
      "1i + 4j + 8k\n",
      "4\n",
      "1i + 6j + 9k\n",
      "3\n"
     ]
    }
   ],
   "source": [
    "class Vector:\n",
    "    \n",
    "    def __init__(self, vec):\n",
    "        self.vec = vec\n",
    "    \n",
    "    def __str__(self):\n",
    "        return f\"{self.vec[0]}i + {self.vec[1]}j + {self.vec[2]}k\"\n",
    "\n",
    "    def __len__(self):\n",
    "        return len(self.vec)\n",
    "        \n",
    "    \n",
    "v1 = Vector([1,4,8,10])\n",
    "v2 = Vector([1,6,9])\n",
    "\n",
    "print(v1)\n",
    "print(len(v1))\n",
    "\n",
    "print(v2)\n",
    "print(len(v2))"
   ]
  },
  {
   "cell_type": "code",
   "execution_count": 72,
   "metadata": {},
   "outputs": [
    {
     "name": "stdout",
     "output_type": "stream",
     "text": [
      "Value of V1:  1a0 + 4a1 + 5a2 \n",
      "Sorry len of vector1 and vector2 is not same\n",
      "Addition of V1 and V2: None\n",
      "Sorry len of vector1 and vector2 is not same\n",
      "Multiplication of V1 and V2: None\n"
     ]
    }
   ],
   "source": [
    "class Vector:\n",
    "    \n",
    "    def __init__(self, vec):\n",
    "        self.vec = vec\n",
    "    \n",
    "    def __str__(self):\n",
    "        str1 = \"\"\n",
    "        index = 0\n",
    "        for i in self.vec:\n",
    "            str1 += f\" {i}a{index} +\"\n",
    "            index +=1\n",
    "        return str1[:-1]\n",
    "  \n",
    "    def __len__(self):\n",
    "        return len(self.vec)\n",
    "        \n",
    "  \n",
    "    def __add__(self, vec2):\n",
    "        newlst = []\n",
    "        if len(self.vec) == len(vec2.vec):\n",
    "            for i in range(len(self.vec)):\n",
    "                newlst.append(self.vec[i] + vec2.vec[i])\n",
    "            return Vector(newlst)\n",
    "        else:\n",
    "            print(\"Sorry len of vector1 and vector2 is not same\")\n",
    "    \n",
    "    \n",
    "    def __mul__(self, vec2):\n",
    "        product = 0\n",
    "        newlst = []\n",
    "        if len(self.vec) == len(vec2.vec):\n",
    "            for i in range(len(self.vec)):\n",
    "                product += self.vec[i] * vec2.vec[i]\n",
    "            return product\n",
    "        else:\n",
    "            print(\"Sorry len of vector1 and vector2 is not same\")\n",
    "    \n",
    "    \n",
    "  \n",
    "\n",
    "v1 = Vector([1,4,5])\n",
    "v2 = Vector([1,6])\n",
    "print(\"Value of V1:\",v1)\n",
    "print(\"Addition of V1 and V2:\",v1+v2)\n",
    "\n",
    "print(\"Multiplication of V1 and V2:\",v1*v2)"
   ]
  },
  {
   "cell_type": "code",
   "execution_count": null,
   "metadata": {},
   "outputs": [],
   "source": [
    "import random\n",
    "\n",
    "def gamewin(comp, you):\n",
    "\n",
    "    # if 2 val are equal than tie\n",
    "    if comp == you:\n",
    "        return None\n",
    "\n",
    "    # For Rock\n",
    "    elif comp == 'r':\n",
    "        if you == 's':\n",
    "            return False\n",
    "        elif you == 'p':\n",
    "            return True\n",
    "\n",
    "    # For Paper\n",
    "    elif comp == 'p':\n",
    "        if you == 'r':\n",
    "            return False\n",
    "        elif you == 's':\n",
    "            return True\n",
    "\n",
    "    # For Scissor\n",
    "    elif comp == 's':\n",
    "        if you == 'p':\n",
    "            return False\n",
    "        elif you == 'r':\n",
    "            return True\n",
    "\n",
    "print(\"Computer Turn: Rock(r) Paper(p) Scissor(s)?\")\n",
    "\n",
    "rand_num = random.randint(1,3)\n",
    "\n",
    "if rand_num == 1:\n",
    "    comp = 'r'\n",
    "elif rand_num == 2:\n",
    "    comp = 'p'\n",
    "elif rand_num == 3:\n",
    "    comp = 's'\n",
    "else:\n",
    "    print(\"Please select number between 1,2,3\")\n",
    "\n",
    "you = input(\"Player Turn: Rock(r) Paper(p) Scissor(s)?\")\n",
    "\n",
    "a = gamewin(comp,you)\n",
    "\n",
    "\n",
    "print(f\"Computer Chose {comp}\")\n",
    "print(f\"Player Chose {you}\")\n",
    "\n",
    "if a == None:\n",
    "    print(\"Game is a Tie!\")\n",
    "elif a:\n",
    "    print(\"You Won\")\n",
    "else:\n",
    "    print(\"You Lose\")"
   ]
  }
 ],
 "metadata": {
  "kernelspec": {
   "display_name": "Python 3",
   "language": "python",
   "name": "python3"
  },
  "language_info": {
   "codemirror_mode": {
    "name": "ipython",
    "version": 3
   },
   "file_extension": ".py",
   "mimetype": "text/x-python",
   "name": "python",
   "nbconvert_exporter": "python",
   "pygments_lexer": "ipython3",
   "version": "3.7.7"
  }
 },
 "nbformat": 4,
 "nbformat_minor": 4
}
